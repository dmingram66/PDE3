{
  "nbformat": 4,
  "nbformat_minor": 0,
  "metadata": {
    "colab": {
      "name": "2D_Convection.ipynb",
      "provenance": [],
      "collapsed_sections": []
    },
    "kernelspec": {
      "name": "python3",
      "display_name": "Python 3"
    },
    "language_info": {
      "name": "python"
    }
  },
  "cells": [
    {
      "cell_type": "markdown",
      "source": [
        "2-D Linear Convection equation:\n",
        "\n",
        "$$\\frac{\\partial u}{\\partial t} + c \\frac{\\partial u}{\\partial x} + c \\frac{\\partial u}{\\partial y}= 0$$\n",
        "\n",
        "Discretizing this equation in both space and time, using the Forward Difference scheme for the time derivative and the Backward Difference scheme for the space derivative, we get:\n",
        "\n",
        "$$\\frac{u_{i,j}^{n+1}-u_{i,j}^n}{\\Delta t} + c \\frac{u_{i,j}^n - u_{i-1,j}^n}{\\Delta x} + c \\frac{u_{i,j}^n - u_{i,j-1}^n}{\\Delta y}= 0 $$\n",
        "\n",
        "Where $n$ and $n+1$ are two consecutive steps in time, while $i-1$ and $i$ are two neighboring points of the discretized $x$ coordinate. If there are given initial conditions, then the only unknown in this discretization is $u_i^{n+1}$.  We can solve for our unknown to get an equation that allows us to advance in time, as follows:\n",
        "\n",
        "$$u_{i,j}^{n+1} = u_{i,j}^n - c \\frac{\\Delta t}{\\Delta x}(u_{i,j}^n-u_{i-1,j}^n) - c \\frac{\\Delta t}{\\Delta y}(u_{i,j}^n-u_{i,j-1}^n)$$"
      ],
      "metadata": {
        "id": "-OCb7sNUevZ_"
      }
    },
    {
      "cell_type": "code",
      "execution_count": null,
      "metadata": {
        "id": "H3CJGubuerYh"
      },
      "outputs": [],
      "source": [
        "import numpy\n",
        "from matplotlib import pyplot, cm\n",
        "from mpl_toolkits.mplot3d import Axes3D ##library for 3d projection plots\n",
        "%matplotlib inline"
      ]
    },
    {
      "cell_type": "code",
      "source": [
        "nx = 81\n",
        "ny = 81\n",
        "nt = 100\n",
        "c = 1\n",
        "dx = 2 / (nx - 1)\n",
        "dy = 2 / (ny - 1)\n",
        "sigma = .2\n",
        "dt = sigma * dx * c\n",
        "\n",
        "x = numpy.linspace(0, 2, nx)\n",
        "y = numpy.linspace(0, 2, ny)\n",
        "\n",
        "u = numpy.ones((ny, nx)) ##create a 1xn vector of 1's\n",
        "un = numpy.ones((ny, nx)) \n",
        "\n",
        "###Assign initial conditions\n",
        "\n",
        "u[int(.5 / dy): int(1 / dy + 1), int(.5 / dx):int(1 / dx + 1)] = 2"
      ],
      "metadata": {
        "id": "eV_G9rlVhP9Y"
      },
      "execution_count": null,
      "outputs": []
    },
    {
      "cell_type": "code",
      "source": [
        "%%timeit\n",
        "u = numpy.ones((ny, nx))\n",
        "u[int(.5 / dy): int(1 / dy + 1), int(.5 / dx):int(1 / dx + 1)] = 2\n",
        "\n",
        "for n in range(nt + 1): ##loop across number of time steps\n",
        "    un = u.copy()\n",
        "    row, col = u.shape\n",
        "    for j in range(1, row):\n",
        "        for i in range(1, col):\n",
        "            u[j, i] = (un[j, i] - (c * dt / dx * \n",
        "                                  (un[j, i] - un[j, i - 1])) - \n",
        "                                  (c * dt / dy * \n",
        "                                   (un[j, i] - un[j - 1, i])))\n",
        "            u[0, :] = 1\n",
        "            u[-1, :] = 1\n",
        "            u[:, 0] = 1\n",
        "            u[:, -1] = 1"
      ],
      "metadata": {
        "colab": {
          "base_uri": "https://localhost:8080/"
        },
        "id": "5xEROhHNhXYO",
        "outputId": "99a8341c-5639-4f25-f580-2ef298367a6d"
      },
      "execution_count": null,
      "outputs": [
        {
          "output_type": "stream",
          "name": "stdout",
          "text": [
            "1 loop, best of 5: 2.23 s per loop\n"
          ]
        }
      ]
    },
    {
      "cell_type": "code",
      "source": [
        "%%timeit\n",
        "u = numpy.ones((ny, nx))\n",
        "u[int(.5 / dy): int(1 / dy + 1), int(.5 / dx):int(1 / dx + 1)] = 2\n",
        "\n",
        "for n in range(nt + 1): ##loop across number of time steps\n",
        "    un = u.copy()\n",
        "    u[1:, 1:] = (un[1:, 1:] - (c * dt / dx * (un[1:, 1:] - un[1:, 0:-1])) -\n",
        "                              (c * dt / dy * (un[1:, 1:] - un[0:-1, 1:])))\n",
        "    u[0, :] = 1\n",
        "    u[-1, :] = 1\n",
        "    u[:, 0] = 1\n",
        "    u[:, -1] = 1"
      ],
      "metadata": {
        "colab": {
          "base_uri": "https://localhost:8080/"
        },
        "id": "e161feBthnfZ",
        "outputId": "b1eab5f1-9f15-471f-bdb5-2d8ae951aab3"
      },
      "execution_count": null,
      "outputs": [
        {
          "output_type": "stream",
          "name": "stdout",
          "text": [
            "100 loops, best of 5: 4.22 ms per loop\n"
          ]
        }
      ]
    }
  ]
}