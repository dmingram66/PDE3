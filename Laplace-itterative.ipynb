{
 "cells": [
  {
   "cell_type": "markdown",
   "id": "streaming-sheep",
   "metadata": {},
   "source": [
    "# Itterative methods for the Solution of the Laplace Equation\n",
    "\n",
    "In this workbook we are going to look at the Jacobi, Gauss-Siedel and SOR methods for the solution of the Laplace equations.  These methods all make use of the 2nd order central difference approximation to the 2nd derivative\n",
    "\n",
    "$$\\frac{\\partial^2 u}{\\partial x^2} = \\frac{u_W-2u_O+u_E}{\\Delta x^2}+O(\\Delta x^2)$$\n",
    "\n",
    "Before we begin we are going to need the numpy and matplotlib python libraries"
   ]
  },
  {
   "cell_type": "code",
   "execution_count": 3,
   "id": "legislative-demonstration",
   "metadata": {},
   "outputs": [],
   "source": [
    "import numpy as np\n",
    "import matplotlib.pyplot as plt\n",
    "import time"
   ]
  },
  {
   "cell_type": "markdown",
   "id": "fifty-taiwan",
   "metadata": {},
   "source": [
    "## Grid tools\n",
    "In order to be able to solve the problem we need some tools to create a grid.  We're going to use a class to do this.  For now our class will contain routines to set up the grid, specify the bottom left coordinate (origin) and the top right coordinate (extent), generate a uniform grid, calculate Δx and Δy and find the array index for a particular (x,y) point."
   ]
  },
  {
   "cell_type": "code",
   "execution_count": 4,
   "id": "ceramic-living",
   "metadata": {},
   "outputs": [],
   "source": [
    "class Grid:\n",
    "    '''Class defining a 2D computational grid'''\n",
    "    \n",
    "    def __init__(self,ni,nj):\n",
    "        # set up information about the grid\n",
    "        self.origin = (0.0, 0.0)  # bottom left\n",
    "        self.extent = (1.0, 1.0)  # top right\n",
    "        self.Ni = ni # grid points in i direction\n",
    "        self.Nj = nj # grid points in j direction\n",
    "        \n",
    "        # initialse x,y and u arrays\n",
    "        self.u = np.zeros((nj, ni))\n",
    "        self.x = np.zeros((nj, ni))\n",
    "        self.y = np.zeros((nj, ni))\n",
    "\n",
    "    def set_origin(self,x0,y0):\n",
    "        '''Specity the location of the bottom left corner of the grid'''\n",
    "        self.origin = (x0, y0)\n",
    "    \n",
    "    def set_extent(self,x1,y1):\n",
    "        '''Specity the width and height of the grid'''\n",
    "        self.extent = (x1, y1)\n",
    "        \n",
    "    def generate(self,Quiet=True):\n",
    "        '''generate a uniformly spaced grid covering the domain from the\n",
    "        origin to the extent.  We are going to do this using linspace from\n",
    "        numpy to create lists of x and y ordinates and then the meshgrid\n",
    "        function to turn these into 2D arrays of grid point ordinates.'''\n",
    "        x_ord = np.linspace(self.origin[0], self.extent[0], self.Ni)\n",
    "        y_ord = np.linspace(self.origin[1], self.extent[1], self.Nj)\n",
    "        self.x, self.y = np.meshgrid(x_ord,y_ord)\n",
    "        if not Quiet:\n",
    "            print(self)\n",
    "\n",
    "    def Delta_x(self):\n",
    "        # calculate delta x\n",
    "        return self.x[0,1]-self.x[0,0]\n",
    "    \n",
    "    def Delta_y(self):\n",
    "        # calculate delta y\n",
    "        return self.y[1,0]-self.y[0,0]\n",
    "    \n",
    "    def find(self,point):\n",
    "        '''find the i and j ordinates of the grid cell which contains \n",
    "        the point (x,y).  To do this we calculate the distance from\n",
    "        the point to the origin in the x and y directions and then\n",
    "        divide this by delta x and delta y.  The resulting real ordinates\n",
    "        are converted to indices using the int() function.'''\n",
    "        grid_x = (point[0] - self.origin[0])/self.Delta_x()\n",
    "        grid_y = (point[1] - self.origin[1])/self.Delta_y()\n",
    "        return int(grid_x), int(grid_y)\n",
    "    \n",
    "    def __str__(self):\n",
    "        # describe the object when asked to print it\n",
    "        return 'Uniform {}x{} grid from {} to {}.'.format(self.Ni, self.Nj, self.origin, self.extent)"
   ]
  },
  {
   "cell_type": "code",
   "execution_count": 5,
   "id": "continuing-pride",
   "metadata": {},
   "outputs": [
    {
     "name": "stdout",
     "output_type": "stream",
     "text": [
      "Uniform 11x11 grid from (0.0, 0.0) to (2.0, 2.0).\n"
     ]
    },
    {
     "data": {
      "text/plain": [
       "(5, 5)"
      ]
     },
     "execution_count": 5,
     "metadata": {},
     "output_type": "execute_result"
    }
   ],
   "source": [
    "# lets now test this\n",
    "test = Grid(11,11)\n",
    "test.set_extent(2.0,2.0)\n",
    "test.generate(Quiet=False)\n",
    "test.find((1.0,1.0))"
   ]
  },
  {
   "cell_type": "markdown",
   "id": "growing-bench",
   "metadata": {},
   "source": [
    "## The test problem\n",
    "Before looking at the methods we need a test problem to solve.  In this case we are going to look at example 9.29 from Advanced Modern Engineering Mathematics.  \n",
    "\n",
    "$$0=u_{xx}+u_{yy}$$\n",
    "subject to the boundary conditions\n",
    "$$\\begin{align*}\n",
    "u(x,0)&=0&0\\le x\\le 2 \\\\\n",
    "u(x,1)&=0&0\\le x\\le 2 \\\\\n",
    "u(0,y)&=0&0\\le y \\le 1\\\\\n",
    "u(2,y)&=\\sin 2\\pi y&0\\le y \\le 1.\n",
    "\\end{align*}$$\n",
    "\n",
    "The steps needed to set the problem up are:\n",
    "1. Generate the grid\n",
    "2. Initialise the u array\n",
    "3. Set up the boundary conditions\n",
    "\n",
    "We are going to create a grid object to do this, together with the methods for discretising the gird, initialising u, setting the boundary conditions and plotting the solution."
   ]
  },
  {
   "cell_type": "code",
   "execution_count": 6,
   "id": "clinical-exception",
   "metadata": {},
   "outputs": [],
   "source": [
    "def Example929(ni,nj):\n",
    "    # set up a mesh\n",
    "    mesh = Grid(ni,nj)\n",
    "    mesh.set_extent(2.0,1.0)\n",
    "    mesh.generate()\n",
    "    # now the RHS boundary condition\n",
    "    mesh.u[:,-1]=np.sin(2*np.pi*mesh.y[:,-1])\n",
    "    return mesh"
   ]
  },
  {
   "cell_type": "code",
   "execution_count": 7,
   "id": "deadly-element",
   "metadata": {},
   "outputs": [
    {
     "name": "stdout",
     "output_type": "stream",
     "text": [
      "Uniform 21x11 grid from (0.0, 0.0) to (2.0, 1.0).\n"
     ]
    },
    {
     "data": {
      "image/png": "[encoded data removed]",
      "text/plain": [
       "<Figure size 432x288 with 1 Axes>"
      ]
     },
     "metadata": {
      "needs_background": "light"
     },
     "output_type": "display_data"
    }
   ],
   "source": [
    "# lets test it\n",
    "test = Example929(21,11)\n",
    "print(test)\n",
    "\n",
    "# and plot the boundary values.\n",
    "plt.plot(test.y[:,-1],test.u[:,-1],'o')\n",
    "plt.title('Right hand boundary')\n",
    "plt.xlabel('y')\n",
    "plt.ylabel('u')\n",
    "plt.show()"
   ]
  },
  {
   "cell_type": "markdown",
   "id": "incomplete-forest",
   "metadata": {},
   "source": [
    "## The Jacobi Method\n",
    "\n",
    "We start by discretising the PDE using the central difference approximations, so we have\n",
    "$$\\frac{u_E-2U_O+u_W}{\\Delta x^2}+\\frac{u_N-2U_O+u_S}{\\Delta y^2}=0$$\n",
    "Rearranging we have\n",
    "$$u_O=\\frac{1}{2(1+\\beta^2)}{u_E+u_W+\\beta^2(u_N+u_S)}$$\n",
    "where $$\\beta = \\frac{\\Delta x}{\\Delta y}.$$\n",
    "Suggesting the itterative scheme\n",
    "$$u_O^{n+1}=\\frac{1}{2(1+\\beta^2)}\\left(u_E^n+u_W^n+\\beta^2(u_N^n+u_S^n)\\right)$$\n",
    "\n",
    "Because we have boundary conditions stored in the boundary cells we only need to compute the internal values using the itterative scheme.  We can write this using the whole array opperations.\n"
   ]
  },
  {
   "cell_type": "code",
   "execution_count": 8,
   "id": "distant-passion",
   "metadata": {},
   "outputs": [],
   "source": [
    "def Jacobi(mesh,tol=0.5e-7,maxit=10000):\n",
    "    '''Jacobi itteration applied to the grid stored in mesh.  \n",
    "    We will continue itterating until the difference between\n",
    "    u^{n+1} and u^n is less than tol. We will also stop if \n",
    "    we have done more than maxit itterations.\n",
    "    \n",
    "    The solution stored in the mesh.u variable is updated'''\n",
    "    \n",
    "    # calculate the coefficients\n",
    "    beta = mesh.Delta_x()/mesh.Delta_y()\n",
    "    beta_sq = beta**2\n",
    "    C_beta = 1/(2*(1+beta_sq))\n",
    "    \n",
    "    # initialise u_new \n",
    "    u_new = mesh.u.copy()\n",
    "    \n",
    "    # itteration\n",
    "    for it in range(maxit):\n",
    "        # implement the Jacobi method using whole array opperations\n",
    "        # it is important to note that in Python the arrays are indexed\n",
    "        # u[j,i], so u[1:-1,:-2] is the west grid point.\n",
    "        u_new[1:-1,1:-1] = C_beta*(mesh.u[1:-1,:-2]+mesh.u[1:-1,2:]+\n",
    "                                  beta_sq*(mesh.u[:-2,1:-1]+mesh.u[2:,1:-1]))\n",
    "        \n",
    "        # compute the difference between the new and old solutions\n",
    "        err = np.max(mesh.u-u_new)/np.max(mesh.u)\n",
    "        \n",
    "        # update the solution\n",
    "        mesh.u = np.copy(u_new)\n",
    "        \n",
    "        # converged?\n",
    "        if err < tol:\n",
    "            break\n",
    "    \n",
    "    if it+1 == maxit:\n",
    "        print('Jacobi itteration failed to converge, error = {}'.format(err))\n",
    "    \n",
    "    return it+1, err # return the number of itterations and the final residual\n"
   ]
  },
  {
   "cell_type": "code",
   "execution_count": 9,
   "id": "plastic-weapon",
   "metadata": {},
   "outputs": [
    {
     "name": "stdout",
     "output_type": "stream",
     "text": [
      "Converged after 107 itterations, final residual is 4.895922258405755e-08\n"
     ]
    },
    {
     "data": {
      "image/png": "[encoded data removed]",
      "text/plain": [
       "<Figure size 432x288 with 2 Axes>"
      ]
     },
     "metadata": {
      "needs_background": "light"
     },
     "output_type": "display_data"
    }
   ],
   "source": [
    "# lets test it\n",
    "itt, err = Jacobi(test)\n",
    "print('Converged after {} itterations, final residual is {}'.format(itt,err))\n",
    "\n",
    "# plot the solution\n",
    "fig, ax1 = plt.subplots()\n",
    "cmap = plt.get_cmap('PiYG')\n",
    "cf = ax1.contourf(test.x,test.y,test.u,cmap=cmap)\n",
    "fig.colorbar(cf, ax=ax1)\n",
    "ax1.set_title(f'Example 9.29 ({test.Ni} x {test.Nj} grid)')\n",
    "plt.show()"
   ]
  },
  {
   "cell_type": "code",
   "execution_count": 10,
   "id": "abstract-testament",
   "metadata": {},
   "outputs": [
    {
     "name": "stdout",
     "output_type": "stream",
     "text": [
      "Converged after 1329 itterations, final residual is 4.9689083025244996e-08\n"
     ]
    },
    {
     "data": {
      "image/png": "[encoded data removed]",
      "text/plain": [
       "<Figure size 432x288 with 2 Axes>"
      ]
     },
     "metadata": {
      "needs_background": "light"
     },
     "output_type": "display_data"
    }
   ],
   "source": [
    "# What about a finer grid\n",
    "test2 = Example929(81,41)\n",
    "itt, err = Jacobi(test2)\n",
    "print('Converged after {} itterations, final residual is {}'.format(itt,err))\n",
    "\n",
    "# plot the solution\n",
    "fig, ax1 = plt.subplots()\n",
    "cmap = plt.get_cmap('PiYG')\n",
    "cf = ax1.contourf(test2.x,test2.y,test2.u,cmap=cmap)\n",
    "fig.colorbar(cf, ax=ax1)\n",
    "ax1.set_title(f'Example 9.29 ({test2.Ni} x {test2.Nj} grid)')\n",
    "plt.show()"
   ]
  },
  {
   "cell_type": "code",
   "execution_count": 12,
   "id": "solar-effect",
   "metadata": {},
   "outputs": [
    {
     "name": "stdout",
     "output_type": "stream",
     "text": [
      "Solver took 0.582 seconds.\n",
      "Converged after 4523 itterations, final residual is 4.9924588005345605e-08\n"
     ]
    },
    {
     "data": {
      "image/png": "[encoded data removed]",
      "text/plain": [
       "<Figure size 432x288 with 2 Axes>"
      ]
     },
     "metadata": {
      "needs_background": "light"
     },
     "output_type": "display_data"
    }
   ],
   "source": [
    "# What about a finer still grid\n",
    "test3 = Example929(161,81)\n",
    "\n",
    "# we will time it\n",
    "start = time.process_time()\n",
    "itt, err = Jacobi(test3)\n",
    "stop = time.process_time()\n",
    "print(\"Solver took {:.3g} seconds.\".format(stop-start))\n",
    "print('Converged after {} itterations, final residual is {}'.format(itt,err))\n",
    "\n",
    "# plot the solution\n",
    "fig, ax1 = plt.subplots()\n",
    "cmap = plt.get_cmap('PiYG')\n",
    "cf = ax1.contourf(test3.x,test3.y,test3.u,cmap=cmap)\n",
    "fig.colorbar(cf, ax=ax1)\n",
    "ax1.set_title(f'Example 9.29 ({test3.Ni} x {test3.Nj} grid)')\n",
    "plt.show()"
   ]
  },
  {
   "cell_type": "markdown",
   "id": "absolute-glossary",
   "metadata": {},
   "source": [
    "## Gauss-Seidel\n",
    "In the Jacobi scheme we used\n",
    "$$u_O^{n+1}=\\frac{1}{2(1+\\beta^2)}\\left(u_E^n+u_W^n+\\beta^2(u_N^n+u_S^n)\\right).$$\n",
    "However, we know that the west and south values of u are already know.  This means we could use\n",
    "$$u_O^{n+1}=\\frac{1}{2(1+\\beta^2)}\\left(u_E^n+u_W^{n+1}+\\beta^2(u_N^n+u_S^{n+1})\\right).$$\n",
    "which should speed up convegence.\n",
    "\n",
    "Unfortunately this means we can't write the loops using whole array opperations as the \n",
    "\n",
    "      u_new[1:-1,1:-1] = C_beta*(mesh.u[:-2,1:-1]+mesh.u[2:,1:-1]+\n",
    "                                  beta_sq*(mesh.u[1:-1,:-2]+mesh.u[1:-1,2:]))\n",
    "\n",
    "syntax implies that the calculations can be performed in any order.  While the pipelining system inside the processor (a kind of arithmetic production line) means that the value of u(i-1,j) whill not have been calculated when we are computing u(i,j).  All this means that although Guass-Sidel will use less itterations it will be slower."
   ]
  },
  {
   "cell_type": "code",
   "execution_count": 13,
   "id": "false-avenue",
   "metadata": {},
   "outputs": [],
   "source": [
    "def GaussSeidel(mesh,tol=0.5e-7,maxit=10000):\n",
    "    '''Gauss-Seidel itteration applied to the grid stored in mesh.  \n",
    "    We will continue itterating until the difference between\n",
    "    u^{n+1} and u^n is less than tol. We will also stop if \n",
    "    we have done more than maxit itterations.\n",
    "    \n",
    "    The solution stored in the mesh.u variable is updated'''\n",
    "\n",
    "    # calculate the coefficients\n",
    "    beta = mesh.Delta_x()/mesh.Delta_y()\n",
    "    beta_sq = beta**2\n",
    "    C_beta = 1/(2*(1+beta_sq))\n",
    "    \n",
    "    # initialise u_new \n",
    "    u_new = mesh.u.copy()\n",
    "    \n",
    "    # itteration\n",
    "    for it in range(maxit):\n",
    "        for j in range(1,mesh.Nj-1):\n",
    "            for i in range(1,mesh.Ni-1):\n",
    "                u_new[j,i] = C_beta*(u_new[j-1,i]+u_new[j+1,i]+\n",
    "                                  beta_sq*(u_new[j,i-1]+u_new[j,i+1]))\n",
    "        \n",
    "        # compute the difference between the new and old solutions\n",
    "        err = np.max(mesh.u-u_new)/np.max(mesh.u)\n",
    "        \n",
    "        # update the solution\n",
    "        mesh.u = np.copy(u_new)\n",
    "        \n",
    "        # converged?\n",
    "        if err < tol:\n",
    "            break\n",
    "    \n",
    "    if it+1 == maxit:\n",
    "        print('Gauss-Seidel itteration failed to converge, error = {}'.format(err))\n",
    "    \n",
    "    return it+1, err # return the number of itterations and the final residual\n",
    "\n"
   ]
  },
  {
   "cell_type": "code",
   "execution_count": 14,
   "id": "coastal-necessity",
   "metadata": {},
   "outputs": [
    {
     "name": "stdout",
     "output_type": "stream",
     "text": [
      "Solver took 46.4 seconds.\n",
      "Converged after 3248 itterations, final residual is 4.998517932376656e-08\n"
     ]
    },
    {
     "data": {
      "image/png": "[encoded data removed]",
      "text/plain": [
       "<Figure size 432x288 with 2 Axes>"
      ]
     },
     "metadata": {
      "needs_background": "light"
     },
     "output_type": "display_data"
    }
   ],
   "source": [
    "# Let's try test that fine grid again\n",
    "test_GS = Example929(161,81)\n",
    "\n",
    "# we will time it\n",
    "start = time.process_time()\n",
    "itt, err = GaussSeidel(test_GS)\n",
    "stop = time.process_time()\n",
    "print(\"Solver took {:.3g} seconds.\".format(stop-start))\n",
    "print('Converged after {} itterations, final residual is {}'.format(itt,err))\n",
    "\n",
    "# plot the solution\n",
    "fig, ax1 = plt.subplots()\n",
    "cmap = plt.get_cmap('PiYG')\n",
    "cf = ax1.contourf(test_GS.x,test_GS.y,test_GS.u,cmap=cmap)\n",
    "fig.colorbar(cf, ax=ax1)\n",
    "ax1.set_title(f'Example 9.29 ({test_GS.Ni} x {test_GS.Nj} grid)')\n",
    "plt.show()"
   ]
  },
  {
   "cell_type": "markdown",
   "id": "environmental-chocolate",
   "metadata": {},
   "source": [
    "### Analysis\n",
    "Although the number of itterations is 70% less, the run time is 77 times larger.  It is possible to reduce this futher by carefull writing of the main loop, but not having access to the processor pipeline is a big price to pay.\n",
    "\n",
    "We can speed things up further using the SOR itteration\n",
    "\n",
    "## Sucessive Over Relaxation\n",
    "\n",
    "In SOR we take a weighted average of the old and new values of u.\n",
    "$$u_O^{n+1}=(1-\\omega)u_O^n+\\frac{\\omega}{2(1+\\beta^2)}\\left(u_E^n+u_W^{n+1}+\\beta^2(u_N^n+u_S^{n+1})\\right).$$\n",
    "where 1 ⩽ ω < 2.  The optimal value of ω is:\n",
    "$$\\omega = \\frac{2}{1+\\sqrt{1-\\lambda}}$$\n",
    "where λ is the dominant Eigenvalue of the itteration matrix.  On a regular Cartesian grid this is\n",
    "$$\\lambda = \\frac{1}{4}\\left(\\cos\\frac\\pi{N_i}+\\cos\\frac\\pi{N_J}\\right)^2$$\n",
    "\n"
   ]
  },
  {
   "cell_type": "code",
   "execution_count": 15,
   "id": "medical-plate",
   "metadata": {},
   "outputs": [],
   "source": [
    "def SOR(mesh,tol=0.5e-7,maxit=10000):\n",
    "    '''SOR itteration applied to the grid stored in mesh.  \n",
    "    We will continue itterating until the difference between\n",
    "    u^{n+1} and u^n is less than tol. We will also stop if \n",
    "    we have done more than maxit itterations.\n",
    "    \n",
    "    The solution stored in the mesh.u variable is updated'''\n",
    "\n",
    "    # calculate the optimal value of omega\n",
    "    lamda = (np.cos(np.pi/mesh.Ni)+np.cos(np.pi/mesh.Nj))**2/4\n",
    "    omega = 2/(1+np.sqrt(1-lamda))\n",
    "    \n",
    "    # calculate the coefficients\n",
    "    beta = mesh.Delta_x()/mesh.Delta_y()\n",
    "    beta_sq = beta**2\n",
    "    C_beta = 1/(2*(1+beta_sq))\n",
    "    \n",
    "    # initialise u_new \n",
    "    u_new = mesh.u.copy()\n",
    "    \n",
    "    # itteration\n",
    "    for it in range(maxit):\n",
    "        for j in range(1,mesh.Nj-1):\n",
    "            for i in range(1,mesh.Ni-1):\n",
    "                u_new[j,i] = (1-omega)*mesh.u[j,i] + \\\n",
    "                        omega * C_beta*(u_new[j-1,i]+mesh.u[j+1,i]+ \\\n",
    "                        beta_sq*(u_new[j,i-1]+mesh.u[j,i+1]))\n",
    "        \n",
    "        # compute the difference between the new and old solutions\n",
    "        err = np.max(mesh.u-u_new)/np.max(mesh.u)\n",
    "        \n",
    "        # update the solution\n",
    "        mesh.u = np.copy(u_new)\n",
    "        \n",
    "        # converged?\n",
    "        if err < tol:\n",
    "            break\n",
    "    \n",
    "    if it+1 == maxit:\n",
    "        print('SOR itteration failed to converge, error = {}'.format(err))\n",
    "    \n",
    "    return it+1, err # return the number of itterations and the final residual\n"
   ]
  },
  {
   "cell_type": "code",
   "execution_count": 16,
   "id": "dramatic-batman",
   "metadata": {},
   "outputs": [
    {
     "name": "stdout",
     "output_type": "stream",
     "text": [
      "Solver took 8.07 seconds.\n",
      "Converged after 330 itterations, final residual is 3.480489877941616e-08\n"
     ]
    },
    {
     "data": {
      "image/png": "[encoded data removed]",
      "text/plain": [
       "<Figure size 432x288 with 2 Axes>"
      ]
     },
     "metadata": {
      "needs_background": "light"
     },
     "output_type": "display_data"
    }
   ],
   "source": [
    "# Let's try test that fine grid again\n",
    "test_SOR = Example929(161,81)\n",
    "\n",
    "# we will time it\n",
    "start = time.process_time()\n",
    "itt, err = SOR(test_SOR)\n",
    "stop = time.process_time()\n",
    "print(\"Solver took {:.3g} seconds.\".format(stop-start))\n",
    "print('Converged after {} itterations, final residual is {}'.format(itt,err))\n",
    "\n",
    "# plot the solution\n",
    "fig, ax1 = plt.subplots()\n",
    "cmap = plt.get_cmap('PiYG')\n",
    "cf = ax1.contourf(test_SOR.x,test_SOR.y,test_SOR.u,cmap=cmap)\n",
    "fig.colorbar(cf, ax=ax1)\n",
    "ax1.set_title(f'Example 9.29 ({test_SOR.Ni} x {test_SOR.Nj} grid)')\n",
    "plt.show()"
   ]
  },
  {
   "cell_type": "markdown",
   "id": "simplified-netscape",
   "metadata": {},
   "source": [
    "### Analysis\n",
    "We have dramatically reduced the number of itterations needed (it's 7% of those needed for Jacobi) but the runtime is still higher.  It's not a conventional approach but we could try SOR-Jacobi to see if we get a rocket powered solver."
   ]
  },
  {
   "cell_type": "code",
   "execution_count": 17,
   "id": "theoretical-dinner",
   "metadata": {},
   "outputs": [],
   "source": [
    "def SOR_J(mesh,tol=0.5e-7,maxit=10000):\n",
    "    '''SOR version of the Jacobi itteration \n",
    "    applied to the grid stored in mesh.  \n",
    "    We will continue itterating until the difference between\n",
    "    u^{n+1} and u^n is less than tol. We will also stop if \n",
    "    we have done more than maxit itterations.\n",
    "    \n",
    "    The solution stored in the mesh.u variable is updated'''\n",
    "\n",
    "    # calculate the optimal value of omega\n",
    "    lamda = (np.cos(np.pi/mesh.Ni)+np.cos(np.pi/mesh.Nj))**2/4\n",
    "    omega = 2/(1+np.sqrt(1-lamda))\n",
    "    \n",
    "    # calculate the coefficients\n",
    "    beta = mesh.Delta_x()/mesh.Delta_y()\n",
    "    beta_sq = beta**2\n",
    "    C_beta = 1/(2*(1+beta_sq))\n",
    "    \n",
    "    # initialise u_new \n",
    "    u_new = mesh.u.copy()\n",
    "    \n",
    "    # itteration\n",
    "    for it in range(maxit):\n",
    "        u_new[1:-1,1:-1] = (1-omega) * mesh.u[1:-1,1:-1] + \\\n",
    "            omega * C_beta*(mesh.u[:-2,1:-1] + mesh.u[2:,1:-1] + \\\n",
    "            beta_sq*(mesh.u[1:-1,:-2] + mesh.u[1:-1,2:]))\n",
    "\n",
    "        # compute the difference between the new and old solutions\n",
    "        err = np.max(mesh.u-u_new)/np.max(mesh.u)\n",
    "        \n",
    "        # update the solution\n",
    "        mesh.u = np.copy(u_new)\n",
    "        \n",
    "        # converged?\n",
    "        if err < tol:\n",
    "            break\n",
    "    \n",
    "    if it+1 == maxit:\n",
    "        print('SOR Jacobi itteration failed to converge, error = {}'.format(err))\n",
    "    \n",
    "    return it+1, err # return the number of itterations and the final residual\n",
    "\n"
   ]
  },
  {
   "cell_type": "code",
   "execution_count": 18,
   "id": "recreational-bahrain",
   "metadata": {},
   "outputs": [
    {
     "name": "stderr",
     "output_type": "stream",
     "text": [
      "/var/folders/kc/kvwtcd51499g5czgmyk13js80000gn/T/ipykernel_64942/934759516.py:25: RuntimeWarning: overflow encountered in add\n",
      "  omega * C_beta*(mesh.u[:-2,1:-1] + mesh.u[2:,1:-1] + \\\n",
      "/var/folders/kc/kvwtcd51499g5czgmyk13js80000gn/T/ipykernel_64942/934759516.py:26: RuntimeWarning: overflow encountered in add\n",
      "  beta_sq*(mesh.u[1:-1,:-2] + mesh.u[1:-1,2:]))\n",
      "/var/folders/kc/kvwtcd51499g5czgmyk13js80000gn/T/ipykernel_64942/934759516.py:29: RuntimeWarning: invalid value encountered in double_scalars\n",
      "  err = np.max(mesh.u-u_new)/np.max(mesh.u)\n",
      "/var/folders/kc/kvwtcd51499g5czgmyk13js80000gn/T/ipykernel_64942/934759516.py:25: RuntimeWarning: invalid value encountered in add\n",
      "  omega * C_beta*(mesh.u[:-2,1:-1] + mesh.u[2:,1:-1] + \\\n"
     ]
    },
    {
     "name": "stdout",
     "output_type": "stream",
     "text": [
      "SOR Jacobi itteration failed to converge, error = nan\n",
      "Solver took 1.59 seconds.\n",
      "Converged after 10000 itterations, final residual is nan\n"
     ]
    }
   ],
   "source": [
    "# Let's try test that fine grid again\n",
    "test_SORJ = Example929(161,81)\n",
    "\n",
    "# we will time it\n",
    "start = time.process_time()\n",
    "itt, err = SOR_J(test_SORJ)\n",
    "stop = time.process_time()\n",
    "print(\"Solver took {:.3g} seconds.\".format(stop-start))\n",
    "print('Converged after {} itterations, final residual is {}'.format(itt,err))\n"
   ]
  },
  {
   "cell_type": "markdown",
   "id": "shaped-tooth",
   "metadata": {},
   "source": [
    "## Analysis\n",
    "\n",
    "SOR-Jacobi dosen't work!  It failed to converge and we have overflow errors and values of **nan** returned.  **nan** means \"not a number\" and occurs when we try to use numbers bigger than those that can be represented by the computer, divide by zero, take the square root of a negative number etc.   We say that the method has \"blown up\"  \n",
    "\n",
    "So we have choice we can use the **efficient** SOR algorithm or the fast **Jacobi** itteration.  \n"
   ]
  },
  {
   "cell_type": "code",
   "execution_count": null,
   "id": "b4aac54b-1279-4186-b74c-284969b0fa17",
   "metadata": {},
   "outputs": [],
   "source": []
  }
 ],
 "metadata": {
  "kernelspec": {
   "display_name": "Python 3",
   "language": "python",
   "name": "python3"
  },
  "language_info": {
   "codemirror_mode": {
    "name": "ipython",
    "version": 3
   },
   "file_extension": ".py",
   "mimetype": "text/x-python",
   "name": "python",
   "nbconvert_exporter": "python",
   "pygments_lexer": "ipython3",
   "version": "3.9.9"
  }
 },
 "nbformat": 4,
 "nbformat_minor": 5
}
