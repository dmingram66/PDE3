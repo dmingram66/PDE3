{
 "cells": [
  {
   "cell_type": "markdown",
   "metadata": {},
   "source": [
    "# Week 8 worksheet: Numerical solution of hyperbolic PDEs\n",
    "\n",
    "$$\\newcommand{\\vect}[1]{\\bm #1}\n",
    "\\newcommand{\\grad}{\\nabla}\n",
    "\\newcommand{\\pderiv}[2]{\\frac{\\partial #1}{\\partial #2}}\n",
    "\\newcommand{\\pdderiv}[2]{\\frac{\\partial^2 #1}{\\partial #2^2}}\n",
    "\\newcommand{\\deriv}[2]{\\frac{\\mathrm{d} #1}{\\mathrm{d} #2}}\n",
    "\\newcommand{\\Deriv}[3]{\\frac{\\mathrm{d}^#3 #1}{\\mathrm{d} #2^#3}}$$\n",
    "\n",
    "In this laboratory we will look at hyperbolic problems, solving the one dimensional, linear advection equation\n",
    "$$\\pderiv{u}{t}+a\\pderiv{u}{x}=0,$$\n",
    "where $u$ is a scalar quantity being advected at a uniform speed, $a$, over a periodic domain, $x\\in[0,1]$.\n",
    "\n",
    "The initial conditions are \n",
    "$$u(x,0) = \\begin{cases}\n",
    "\\sin^4 2\\pi x & 0 \\le x \\le \\frac12 \\\\\n",
    "1 & \\frac46 \\le x \\le \\frac56 \\\\\n",
    "0 & \\text{otherwise}\n",
    "\\end{cases}$$\n",
    "\n",
    "If the advection speed is an integer then every second the wave form will be back at the starting position.  This means we can make a direct comparison between the initial conditions and the results from the solver.\n",
    "\n",
    "Your are going to develop a simple one dimensional solver using Python to solve the problem.  In this question you are going to write the key parts of the driver routines needed to create a grid, calculate the time step, set up the initial conditions, solve the equations using the first order upwind scheme and plot the results.  The code starts with the following imports and definitions:\n"
   ]
  },
  {
   "cell_type": "code",
   "execution_count": 4,
   "metadata": {
    "tags": []
   },
   "outputs": [],
   "source": [
    "import numpy as np\n",
    "from matplotlib import pyplot as plt\n",
    "\n",
    "N = 500 # Number of grid points being used\n",
    "AdvectionSpeed = 1.0 # Advection speed (celarity) of the wave\n",
    "CourantNumber = 0.95 # Courant number"
   ]
  },
  {
   "cell_type": "code",
   "execution_count": 5,
   "metadata": {
    "tags": []
   },
   "outputs": [
    {
     "data": {
      "text/html": [
       "<script type='text/javascript' src='scripts/create_widgets.js'></script>"
      ],
      "text/plain": [
       "<IPython.core.display.HTML object>"
      ]
     },
     "metadata": {},
     "output_type": "display_data"
    },
    {
     "data": {
      "application/javascript": [
       "window.runSolutionCells()"
      ],
      "text/plain": [
       "<IPython.core.display.Javascript object>"
      ]
     },
     "metadata": {},
     "output_type": "display_data"
    },
    {
     "name": "stdout",
     "output_type": "stream",
     "text": [
      "Buttons created!\n"
     ]
    }
   ],
   "source": [
    "%run scripts/create_widgets.py W07"
   ]
  },
  {
   "cell_type": "markdown",
   "metadata": {
    "tags": []
   },
   "source": [
    "*How it works: You will see cells located below each exercise, each containing a command starting with `%run scripts/show_solutions.py`. You don't need to run those yourself; the command above runs a script which automatically runs these specific cells for you. The commands in each of these cells each create the button for the corresponding exercise. The Python code to achieve this is contained in `scripts/show_solutions.py`, and relies on [IPython widgets](https://ipywidgets.readthedocs.io/en/latest/examples/Widget%20Basics.html) --- feel free to take a look at the code if you are curious.*"
   ]
  },
  {
   "cell_type": "code",
   "execution_count": 6,
   "metadata": {
    "tags": []
   },
   "outputs": [
    {
     "data": {
      "application/javascript": [
       "MathJax.Hub.Config({\n",
       "    TeX: { equationNumbers: { autoNumber: \"AMS\" } }\n",
       "});\n"
      ],
      "text/plain": [
       "<IPython.core.display.Javascript object>"
      ]
     },
     "metadata": {},
     "output_type": "display_data"
    }
   ],
   "source": [
    "%%javascript\n",
    "MathJax.Hub.Config({\n",
    "    TeX: { equationNumbers: { autoNumber: \"AMS\" } }\n",
    "});"
   ]
  },
  {
   "cell_type": "markdown",
   "metadata": {},
   "source": [
    "## Exercise 1 - Grid generation\n",
    "\n",
    "### Part a)\n",
    "This  function _GridGen(N)_ which creates an array $x$ which contains a uniformly spaced grid of $N$ grid points over the interval $[0,1]$.  The function must return both the mesh spacing $\\Delta x$ and the $N$ ordinates $x_i$.\n",
    "\n",
    "The following code generates a simple 1D grid and returns the mesh spacing, $\\Delta x$"
   ]
  },
  {
   "cell_type": "code",
   "execution_count": 7,
   "metadata": {
    "tags": []
   },
   "outputs": [],
   "source": [
    "def GridGen(N):\n",
    "    ''' generate a 1D grid from over [0.0,1.0] with N grid points.'''\n",
    "    x_ord = np.linspace(0.0, 1.0 ,N)\n",
    "    dx = x_ord[1]-x_ord[0]\n",
    "    \n",
    "    return dx, x_ord"
   ]
  },
  {
   "cell_type": "markdown",
   "metadata": {},
   "source": [
    "We now write a function _InitialConditions(c)_ which returns an array $u$  so that\n",
    "$$u = \\begin{cases}\n",
    "\\sin^4 2\\pi x & 0 \\le x \\le \\frac12 \\\\\n",
    "1 & \\frac46 \\le x \\le \\frac56 \\\\\n",
    "0 & \\text{otherwise}\n",
    "\\end{cases}$$\n"
   ]
  },
  {
   "cell_type": "code",
   "execution_count": 16,
   "metadata": {
    "tags": []
   },
   "outputs": [],
   "source": [
    "def InitialConditions(x_ord):\n",
    "    ''' set up the intial conditions so that u(x)=sin^4(2 Pi x) for x\n",
    "    in [0.0,0.5] and u(x) = 1 for x in [4/6,5/6] and u(x)=0\n",
    "    otherwise.  These are the initial conditions for the classical\n",
    "    test problem.'''\n",
    "    \n",
    "    # initialise everythging to zero\n",
    "    u = np.zeros(N)\n",
    "\n",
    "    # set up the Gaussian wave\n",
    "    for i in range(N//2):\n",
    "        u[i]=np.sin(x_ord[i]*np.pi*2)**4\n",
    "\n",
    "    # and the top hat\n",
    "    n0 = 4*N//6\n",
    "    n1 = 5*N//6+1\n",
    "    u[n0:n1] = 1.0\n",
    "\n",
    "    return u\n"
   ]
  },
  {
   "cell_type": "code",
   "execution_count": 17,
   "metadata": {
    "tags": []
   },
   "outputs": [
    {
     "data": {
      "application/vnd.jupyter.widget-view+json": {
       "model_id": "3e685b07c95d4c38af31abb68eac3eb2",
       "version_major": 2,
       "version_minor": 0
      },
      "text/plain": [
       "Button(description='Reveal solution', style=ButtonStyle())"
      ]
     },
     "metadata": {},
     "output_type": "display_data"
    },
    {
     "data": {
      "application/vnd.jupyter.widget-view+json": {
       "model_id": "b0376c2340a7480cb60d017ac7f05c33",
       "version_major": 2,
       "version_minor": 0
      },
      "text/plain": [
       "Output(layout=Layout(border_bottom='1px solid green', border_left='1px solid green', border_right='1px solid g…"
      ]
     },
     "metadata": {},
     "output_type": "display_data"
    }
   ],
   "source": [
    "%run scripts/show_solutions.py W08_ex1_partb"
   ]
  },
  {
   "cell_type": "markdown",
   "metadata": {},
   "source": [
    "Write a function _TimeStep($\\Delta x$)_ which computes the stable time step, $$\\Delta t = \\nu \\frac{\\Delta x}{|a|}$$ where $\\nu$ is the Courant number, and $a$ is the advection speed.  Remember that the advection speed, $a$, is given by the Python constant <code>AdvectionSpeed</code> and the Courant number, $\\nu$ by the Python constant <code>CourantNumber</code>.\n"
   ]
  },
  {
   "cell_type": "code",
   "execution_count": 18,
   "metadata": {
    "tags": []
   },
   "outputs": [],
   "source": [
    "def TimeStep(dx):\n",
    "    ''' calculate the time step '''\n",
    "    dt = CourantNumber * dx / abs(AdvectionSpeed)\n",
    "    return dt"
   ]
  },
  {
   "cell_type": "code",
   "execution_count": 19,
   "metadata": {
    "tags": []
   },
   "outputs": [
    {
     "data": {
      "application/vnd.jupyter.widget-view+json": {
       "model_id": "8d3d04ddf88c4fb7b6489126e32f9f45",
       "version_major": 2,
       "version_minor": 0
      },
      "text/plain": [
       "Button(description='Reveal solution', style=ButtonStyle())"
      ]
     },
     "metadata": {},
     "output_type": "display_data"
    },
    {
     "data": {
      "application/vnd.jupyter.widget-view+json": {
       "model_id": "4254374777a34157af30104694d04cab",
       "version_major": 2,
       "version_minor": 0
      },
      "text/plain": [
       "Output(layout=Layout(border_bottom='1px solid green', border_left='1px solid green', border_right='1px solid g…"
      ]
     },
     "metadata": {},
     "output_type": "display_data"
    }
   ],
   "source": [
    "%run scripts/show_solutions.py W08_ex1_partc"
   ]
  },
  {
   "cell_type": "markdown",
   "metadata": {},
   "source": [
    "### Part b)\n",
    "\n",
    "The following Python function is the driver for the 1D solver.  It is passed the parameters <code>t\\_stop</code> the time at which the solution is required, <code>u</code> a vector containing the initial conditions,  <code>dx</code> the mesh spacing $\\Delta x$ and <code>method</code>, a function with parameters <code>(u,dx,dt)</code> which performs **one** time step with an advection solver and which returns both the updated solution $u^{n+1}$ and the name of the method used.\n"
   ]
  },
  {
   "cell_type": "code",
   "execution_count": 20,
   "metadata": {
    "tags": []
   },
   "outputs": [],
   "source": [
    "def OneDSolver(t_stop, u, dx, method):\n",
    "    '''One dimensional advection solver.  This calculates the time\n",
    "    step and then performs the appropriate number of time steps to\n",
    "    reach t_stop using the method passed in. '''\n",
    "\n",
    "    # calculate the time step\n",
    "    dt = TimeStep(dx)\n",
    "    MaxStep = int(t_stop / dt)  + 1 # maximum number of time steps\n",
    "\n",
    "    print('1D solver - performing {} time steps, dt = {:.4e}'\n",
    "              .format(MaxStep, dt))\n",
    "    time = 0.0\n",
    "    for i in range(MaxStep):\n",
    "        dt = min(dt, t_stop - time)\n",
    "\n",
    "        # There is no need to implement periodic boundary conditions\n",
    "        # here as these will be dealt with within the method using the\n",
    "        # np.roll() function wich rotates the contents of an array.\n",
    "        \n",
    "        # call the solver\n",
    "        u, scheme = method(u,dx,dt)\n",
    "\n",
    "        # update time\n",
    "        time = time + dt\n",
    "        if (time >= t_stop):\n",
    "            print('Done. {} seconds simulated using the {} scheme.'\n",
    "                      .format(time, scheme)) \n",
    "            break\n",
    "    return u, scheme"
   ]
  },
  {
   "cell_type": "markdown",
   "metadata": {},
   "source": [
    "As an example let's implement the first order upwind scheme \n",
    "\n",
    "$$u^{n+1}_i = u^n_i - \\frac{a\\Delta t}{\\Delta x}\\left(u^n_i - u^n_{i-1}\\right)$$\n",
    "\n",
    "We will make use of the <code>np.roll()</code> function to obtain the values of $u^n_{i-1}$.  Remember that the advection speed, $a$, is given by the Python constant <code>AdvectionSpeed</code>.\n"
   ]
  },
  {
   "cell_type": "code",
   "execution_count": 21,
   "metadata": {
    "tags": []
   },
   "outputs": [],
   "source": [
    "def FOU(u,dx,dt):\n",
    "    ''' this is the classical First Order Upwind scheme, this is first\n",
    "    order in time and space and has a stability condition that\n",
    "    nu<=1.\n",
    "\n",
    "    The periodic boundary conditions are handled using np.roll() which\n",
    "    shifts an array left or right rolling round the end values.'''\n",
    "    u =  u - AdvectionSpeed * dt / dx * (u - np.roll(u,-1))\n",
    "    \n",
    "    return u, 'FOU'"
   ]
  },
  {
   "cell_type": "markdown",
   "metadata": {},
   "source": [
    "The final step is to write the <code>main</code> program this needs to set up the gird and the initial conditions, save a copy of the initial conditions, call the solver and plot the results.  It can be coded as follows:"
   ]
  },
  {
   "cell_type": "code",
   "execution_count": 22,
   "metadata": {
    "tags": []
   },
   "outputs": [
    {
     "name": "stdout",
     "output_type": "stream",
     "text": [
      "1D solver - performing 2627 time steps, dt = 1.9038e-03\n",
      "Done. 5.0 seconds simulated using the FOU scheme.\n"
     ]
    },
    {
     "data": {
      "image/png": "[encoded data removed]",
      "text/plain": [
       "<Figure size 640x480 with 1 Axes>"
      ]
     },
     "metadata": {},
     "output_type": "display_data"
    }
   ],
   "source": [
    "'''Main Program'''\n",
    "# set up the grid and the initial conditions\n",
    "dx,x = GridGen(N)\n",
    "u = InitialConditions(x)\n",
    "u0 = u.copy()\n",
    "\n",
    "# call the solver\n",
    "tOut=5\n",
    "u, scheme = OneDSolver(tOut, u, dx, FOU)\n",
    "\n",
    "# Plot the results\n",
    "fig = plt.figure()\n",
    "plt.plot(x,u0,'-r')\n",
    "if (N>120):\n",
    "    plt.plot(x,u,'-b')\n",
    "else:\n",
    "    plt.plot(x,u,'ob')\n",
    "plt.title('Linear advection {} scheme, N={}, t={}'.format(scheme,N,tOut))\n",
    "plt.show()"
   ]
  },
  {
   "cell_type": "markdown",
   "metadata": {},
   "source": [
    "Use the solver to explore what happens if the solution is evolved for 0.5, 1.0, 10.0 and 50.0 seconds on a grid with $N=500$ points. Briefly comment on what you observe.\n"
   ]
  },
  {
   "cell_type": "code",
   "execution_count": null,
   "metadata": {
    "tags": []
   },
   "outputs": [],
   "source": [
    "%run scripts/show_solutions.py W08_ex1_parte"
   ]
  },
  {
   "cell_type": "markdown",
   "metadata": {},
   "source": [
    "## Exercise 2\n",
    "Implement the Lax-Friedrichs scheme, \n",
    "\n",
    "$$u^{n+1}_i = \\frac{u^n_{i+1}+u^n_{i-1}}{2} - \\frac{a\\Delta t}{2\\Delta x}\\left(u^n_{i+1}-u^n_{i-1}\\right).$$ \n",
    "\n",
    "You are reminded that the <code>np.roll()</code> function should be used to obtain the values of $u^n_{i-1}$ and $u^n_{i+1}$. Remember that the advection speed, $a$, is given by the Python constant <code>AdvectionSpeed</code>.  You should complete the following Python template"
   ]
  },
  {
   "cell_type": "code",
   "execution_count": null,
   "metadata": {},
   "outputs": [],
   "source": [
    "def LaxFriedrichs(u,dx,dt):\n",
    "    '''Classical Lax-Friedrichs scheme'''\n",
    "\n",
    "    return u, 'Lax-Friedrichs'"
   ]
  },
  {
   "cell_type": "markdown",
   "metadata": {},
   "source": [
    "Calculate the solution at 1.0, 10.0 and 50.0 seconds on a grid with $N=500$ points. Briefly comment on what you observe."
   ]
  },
  {
   "cell_type": "code",
   "execution_count": null,
   "metadata": {
    "tags": []
   },
   "outputs": [],
   "source": [
    "%run scripts/show_solutions.py W08_ex2_parta"
   ]
  },
  {
   "cell_type": "markdown",
   "metadata": {},
   "source": [
    "Calculate the solution at 1.0 on a grid with $N=50$ points. What do you observe?"
   ]
  },
  {
   "cell_type": "code",
   "execution_count": null,
   "metadata": {},
   "outputs": [],
   "source": [
    "%run scripts/show_solutions.py W08_ex2_partb"
   ]
  },
  {
   "cell_type": "markdown",
   "metadata": {},
   "source": [
    "## Exercise 3\n",
    "Implement the Lax-Wendroff scheme, \n",
    "\n",
    "$$u^{n+1}_i = u^n_i-\\frac{a\\Delta t}{2\\Delta x}\\left(u^n_{i+1}+u^n_{i-1}\\right)\n",
    " - \\frac{a^2\\Delta t^2}{2\\Delta x^2}\\left(u^n_{i+1}-2u^n_i+u^n_{i-1}\\right)$$ \n",
    "\n",
    "You are reminded that the <code>np.roll()</code> function should be used to obtain the values of $u^n_{i-1}$ and $u^n_{i+1}$. Remember that the advection speed, $a$, is given by the Python constant <code>AdvectionSpeed</code>.  You should complete the following Python template"
   ]
  },
  {
   "cell_type": "code",
   "execution_count": null,
   "metadata": {},
   "outputs": [],
   "source": [
    "def LaxWendroff(u,dx,dt):\n",
    "    '''Classical, 2nd order, Lax-Wendroff scheme'''\n",
    "      \n",
    "    return u, 'Lax-Wendroff'"
   ]
  },
  {
   "cell_type": "markdown",
   "metadata": {},
   "source": [
    "Calculate the solution at 1.0, 10.0 and 50.0 seconds on a grid with $N=500$ points. Briefly comment on what you observe."
   ]
  },
  {
   "cell_type": "code",
   "execution_count": null,
   "metadata": {
    "tags": []
   },
   "outputs": [],
   "source": [
    "%run scripts/show_solutions.py W08_ex3_parta"
   ]
  },
  {
   "cell_type": "markdown",
   "metadata": {},
   "source": [
    "## Exercise 4\n",
    "Implement the MacCormack predictor-correctorscheme, \n",
    "\n",
    "$$\\begin{align*}\n",
    "u^p_i &= u ^n_i - \\frac{a\\Delta t}{\\Delta x}\\left(u^n_i - u^n_{i-1}\\right) \\\\\n",
    "u^{n+1}_i &= \\frac{u^p_i+u^n_i}{2} - \\frac{a\\Delta t}{2\\Delta x}\\left(u^p_{i+1} - u^p_i\\right)\n",
    "\\end{align*}\n",
    "$$ \n",
    "\n",
    "You are reminded that the <code>np.roll()</code> function should be used to obtain the values of $u^n_{i-1}$ and $u^n_{i+1}$. Remember that the advection speed, $a$, is given by the Python constant <code>AdvectionSpeed</code>.  You should complete the following Python template"
   ]
  },
  {
   "cell_type": "code",
   "execution_count": null,
   "metadata": {},
   "outputs": [],
   "source": [
    "def MacCormack(u,dx,dt):\n",
    "    '''2nd order MacCormack predictor corrector method which is\n",
    "    equivalent to the classical Lax-Wendroff scheme.'''\n",
    "\n",
    "    # Predictor\n",
    "    up = \n",
    "    # Corrector\n",
    "    u =\n",
    "    \n",
    "    return u, 'MacCormack'    "
   ]
  },
  {
   "cell_type": "markdown",
   "metadata": {},
   "source": [
    "Check that the solution at 10.0 seconds on a grid with $N=500$ points is equivalent to the solution obtained with the Lax-Wendroff Scheme."
   ]
  },
  {
   "cell_type": "code",
   "execution_count": null,
   "metadata": {},
   "outputs": [],
   "source": [
    "%run scripts/show_solutions.py W08_ex4_parta"
   ]
  },
  {
   "cell_type": "code",
   "execution_count": null,
   "metadata": {},
   "outputs": [],
   "source": [
    "### Part b)\n",
    "\n",
    "Using either the MacCormack or the Lax-Wendroff scheme see what happens when $a=-1$, \n",
    "compare the solution at $t=10.0$ seconds with the case where $a=1$\n"
   ]
  },
  {
   "cell_type": "code",
   "execution_count": null,
   "metadata": {},
   "outputs": [],
   "source": [
    "%run scripts/show_solutions.py W08_ex4_partb"
   ]
  }
 ],
 "metadata": {
  "kernelspec": {
   "display_name": "Python 3 (ipykernel)",
   "language": "python",
   "name": "python3"
  },
  "language_info": {
   "codemirror_mode": {
    "name": "ipython",
    "version": 3
   },
   "file_extension": ".py",
   "mimetype": "text/x-python",
   "name": "python",
   "nbconvert_exporter": "python",
   "pygments_lexer": "ipython3",
   "version": "3.11.2"
  },
  "widgets": {
   "application/vnd.jupyter.widget-state+json": {
    "state": {
     "01c2c703f09a4d5bbc9efff1ae3afadc": {
      "model_module": "@jupyter-widgets/base",
      "model_module_version": "1.2.0",
      "model_name": "LayoutModel",
      "state": {
       "border": "1px solid green"
      }
     },
     "027f1b16dcac4eefaea5e56d9e18229f": {
      "model_module": "@jupyter-widgets/base",
      "model_module_version": "1.2.0",
      "model_name": "LayoutModel",
      "state": {
       "border": "1px solid green"
      }
     },
     "031238aeceab47b998369d147703abd7": {
      "model_module": "@jupyter-widgets/base",
      "model_module_version": "1.2.0",
      "model_name": "LayoutModel",
      "state": {}
     },
     "0362cb671e934906a3138d4d894e22cd": {
      "model_module": "@jupyter-widgets/base",
      "model_module_version": "1.2.0",
      "model_name": "LayoutModel",
      "state": {}
     },
     "0423469a8d1e4a2397d9013c9a2448af": {
      "model_module": "@jupyter-widgets/controls",
      "model_module_version": "1.5.0",
      "model_name": "ButtonModel",
      "state": {
       "description": "Reveal solution",
       "layout": "IPY_MODEL_2f0981c1e6c241c3a8d7cab5d597939e",
       "style": "IPY_MODEL_a6c9abcefddf488e81aa369690da81a3"
      }
     },
     "053a3c35b7e34987a910c8167c599b63": {
      "model_module": "@jupyter-widgets/controls",
      "model_module_version": "1.5.0",
      "model_name": "ButtonStyleModel",
      "state": {}
     },
     "055b59b70f874f60b8d9e94ea76aa478": {
      "model_module": "@jupyter-widgets/output",
      "model_module_version": "1.0.0",
      "model_name": "OutputModel",
      "state": {
       "layout": "IPY_MODEL_25af8437d92344658ee3339bc8a81203",
       "outputs": [
        {
         "data": {
          "application/vnd.jupyter.widget-view+json": {
           "model_id": "c1f7dc590835420b883f293119cd48dc",
           "version_major": 2,
           "version_minor": 0
          },
          "text/plain": "Button(description='Reveal solution', style=ButtonStyle())"
         },
         "metadata": {},
         "output_type": "display_data"
        }
       ]
      }
     },
     "0597ba2280834061a99330f0c70c144e": {
      "model_module": "@jupyter-widgets/output",
      "model_module_version": "1.0.0",
      "model_name": "OutputModel",
      "state": {
       "layout": "IPY_MODEL_ab70b523e6204cdea40e0436ca67eb5d"
      }
     },
     "066d40c991d14b3f8c6a4190e50cf898": {
      "model_module": "@jupyter-widgets/output",
      "model_module_version": "1.0.0",
      "model_name": "OutputModel",
      "state": {
       "layout": "IPY_MODEL_6a5c834d857f42f4adb40cb3e366e52a"
      }
     },
     "06c1baa44f7a445c9e7821cf942e5891": {
      "model_module": "@jupyter-widgets/controls",
      "model_module_version": "1.5.0",
      "model_name": "ButtonStyleModel",
      "state": {}
     },
     "07da2293f4004896bbfc9023b9452b0a": {
      "model_module": "@jupyter-widgets/base",
      "model_module_version": "1.2.0",
      "model_name": "LayoutModel",
      "state": {}
     },
     "094e4bbf48a74409aba5dc45ec469a68": {
      "model_module": "@jupyter-widgets/controls",
      "model_module_version": "1.5.0",
      "model_name": "ButtonStyleModel",
      "state": {}
     },
     "09a5e94ed7f04a52bc9c7a7c1a6a8951": {
      "model_module": "@jupyter-widgets/base",
      "model_module_version": "1.2.0",
      "model_name": "LayoutModel",
      "state": {
       "border": "1px solid green"
      }
     },
     "0b90262bd1664e33851dfe35d60f815a": {
      "model_module": "@jupyter-widgets/base",
      "model_module_version": "1.2.0",
      "model_name": "LayoutModel",
      "state": {}
     },
     "0bfe3b057d744c3d97a0bd0f6afd3cc7": {
      "model_module": "@jupyter-widgets/output",
      "model_module_version": "1.0.0",
      "model_name": "OutputModel",
      "state": {
       "layout": "IPY_MODEL_7099bea4670f40f29655f593ac94085a",
       "outputs": [
        {
         "data": {
          "text/html": "<style>.output_html .hll { background-color: #ffffcc }\n.output_html  { background: #f8f8f8; }\n.output_html .c { color: #408080; font-style: italic } /* Comment */\n.output_html .err { border: 1px solid #FF0000 } /* Error */\n.output_html .k { color: #008000; font-weight: bold } /* Keyword */\n.output_html .o { color: #666666 } /* Operator */\n.output_html .ch { color: #408080; font-style: italic } /* Comment.Hashbang */\n.output_html .cm { color: #408080; font-style: italic } /* Comment.Multiline */\n.output_html .cp { color: #BC7A00 } /* Comment.Preproc */\n.output_html .cpf { color: #408080; font-style: italic } /* Comment.PreprocFile */\n.output_html .c1 { color: #408080; font-style: italic } /* Comment.Single */\n.output_html .cs { color: #408080; font-style: italic } /* Comment.Special */\n.output_html .gd { color: #A00000 } /* Generic.Deleted */\n.output_html .ge { font-style: italic } /* Generic.Emph */\n.output_html .gr { color: #FF0000 } /* Generic.Error */\n.output_html .gh { color: #000080; font-weight: bold } /* Generic.Heading */\n.output_html .gi { color: #00A000 } /* Generic.Inserted */\n.output_html .go { color: #888888 } /* Generic.Output */\n.output_html .gp { color: #000080; font-weight: bold } /* Generic.Prompt */\n.output_html .gs { font-weight: bold } /* Generic.Strong */\n.output_html .gu { color: #800080; font-weight: bold } /* Generic.Subheading */\n.output_html .gt { color: #0044DD } /* Generic.Traceback */\n.output_html .kc { color: #008000; font-weight: bold } /* Keyword.Constant */\n.output_html .kd { color: #008000; font-weight: bold } /* Keyword.Declaration */\n.output_html .kn { color: #008000; font-weight: bold } /* Keyword.Namespace */\n.output_html .kp { color: #008000 } /* Keyword.Pseudo */\n.output_html .kr { color: #008000; font-weight: bold } /* Keyword.Reserved */\n.output_html .kt { color: #B00040 } /* Keyword.Type */\n.output_html .m { color: #666666 } /* Literal.Number */\n.output_html .s { color: #BA2121 } /* Literal.String */\n.output_html .na { color: #7D9029 } /* Name.Attribute */\n.output_html .nb { color: #008000 } /* Name.Builtin */\n.output_html .nc { color: #0000FF; font-weight: bold } /* Name.Class */\n.output_html .no { color: #880000 } /* Name.Constant */\n.output_html .nd { color: #AA22FF } /* Name.Decorator */\n.output_html .ni { color: #999999; font-weight: bold } /* Name.Entity */\n.output_html .ne { color: #D2413A; font-weight: bold } /* Name.Exception */\n.output_html .nf { color: #0000FF } /* Name.Function */\n.output_html .nl { color: #A0A000 } /* Name.Label */\n.output_html .nn { color: #0000FF; font-weight: bold } /* Name.Namespace */\n.output_html .nt { color: #008000; font-weight: bold } /* Name.Tag */\n.output_html .nv { color: #19177C } /* Name.Variable */\n.output_html .ow { color: #AA22FF; font-weight: bold } /* Operator.Word */\n.output_html .w { color: #bbbbbb } /* Text.Whitespace */\n.output_html .mb { color: #666666 } /* Literal.Number.Bin */\n.output_html .mf { color: #666666 } /* Literal.Number.Float */\n.output_html .mh { color: #666666 } /* Literal.Number.Hex */\n.output_html .mi { color: #666666 } /* Literal.Number.Integer */\n.output_html .mo { color: #666666 } /* Literal.Number.Oct */\n.output_html .sa { color: #BA2121 } /* Literal.String.Affix */\n.output_html .sb { color: #BA2121 } /* Literal.String.Backtick */\n.output_html .sc { color: #BA2121 } /* Literal.String.Char */\n.output_html .dl { color: #BA2121 } /* Literal.String.Delimiter */\n.output_html .sd { color: #BA2121; font-style: italic } /* Literal.String.Doc */\n.output_html .s2 { color: #BA2121 } /* Literal.String.Double */\n.output_html .se { color: #BB6622; font-weight: bold } /* Literal.String.Escape */\n.output_html .sh { color: #BA2121 } /* Literal.String.Heredoc */\n.output_html .si { color: #BB6688; font-weight: bold } /* Literal.String.Interpol */\n.output_html .sx { color: #008000 } /* Literal.String.Other */\n.output_html .sr { color: #BB6688 } /* Literal.String.Regex */\n.output_html .s1 { color: #BA2121 } /* Literal.String.Single */\n.output_html .ss { color: #19177C } /* Literal.String.Symbol */\n.output_html .bp { color: #008000 } /* Name.Builtin.Pseudo */\n.output_html .fm { color: #0000FF } /* Name.Function.Magic */\n.output_html .vc { color: #19177C } /* Name.Variable.Class */\n.output_html .vg { color: #19177C } /* Name.Variable.Global */\n.output_html .vi { color: #19177C } /* Name.Variable.Instance */\n.output_html .vm { color: #19177C } /* Name.Variable.Magic */\n.output_html .il { color: #666666 } /* Literal.Number.Integer.Long */</style><div class=\"highlight\"><pre><span></span><span class=\"kn\">import</span> <span class=\"nn\">ipywidgets</span> <span class=\"k\">as</span> <span class=\"nn\">widgets</span>\n\n<span class=\"n\">accordion</span> <span class=\"o\">=</span> <span class=\"n\">widgets</span><span class=\"o\">.</span><span class=\"n\">Accordion</span><span class=\"p\">(</span><span class=\"n\">children</span><span class=\"o\">=</span><span class=\"p\">[</span><span class=\"n\">widgets</span><span class=\"o\">.</span><span class=\"n\">Text</span><span class=\"p\">(</span><span class=\"s1\">&#39;This is the answer for Q1&#39;</span><span class=\"p\">),</span>\n                                        <span class=\"n\">widgets</span><span class=\"o\">.</span><span class=\"n\">Text</span><span class=\"p\">(</span><span class=\"s1\">&#39;Answer for Q2&#39;</span><span class=\"p\">)],</span>\n                              <span class=\"n\">selected_index</span><span class=\"o\">=</span><span class=\"kc\">None</span><span class=\"p\">)</span>\n<span class=\"n\">accordion</span><span class=\"o\">.</span><span class=\"n\">set_title</span><span class=\"p\">(</span><span class=\"mi\">0</span><span class=\"p\">,</span> <span class=\"s1\">&#39;test 1&#39;</span><span class=\"p\">)</span>\n<span class=\"n\">display</span><span class=\"p\">(</span><span class=\"n\">accordion</span><span class=\"p\">)</span>\n</pre></div>\n",
          "text/latex": "\\begin{Verbatim}[commandchars=\\\\\\{\\}]\n\\PY{k+kn}{import} \\PY{n+nn}{ipywidgets} \\PY{k}{as} \\PY{n+nn}{widgets}\n\n\\PY{n}{accordion} \\PY{o}{=} \\PY{n}{widgets}\\PY{o}{.}\\PY{n}{Accordion}\\PY{p}{(}\\PY{n}{children}\\PY{o}{=}\\PY{p}{[}\\PY{n}{widgets}\\PY{o}{.}\\PY{n}{Text}\\PY{p}{(}\\PY{l+s+s1}{\\PYZsq{}}\\PY{l+s+s1}{This is the answer for Q1}\\PY{l+s+s1}{\\PYZsq{}}\\PY{p}{)}\\PY{p}{,}\n                                        \\PY{n}{widgets}\\PY{o}{.}\\PY{n}{Text}\\PY{p}{(}\\PY{l+s+s1}{\\PYZsq{}}\\PY{l+s+s1}{Answer for Q2}\\PY{l+s+s1}{\\PYZsq{}}\\PY{p}{)}\\PY{p}{]}\\PY{p}{,}\n                              \\PY{n}{selected\\PYZus{}index}\\PY{o}{=}\\PY{k+kc}{None}\\PY{p}{)}\n\\PY{n}{accordion}\\PY{o}{.}\\PY{n}{set\\PYZus{}title}\\PY{p}{(}\\PY{l+m+mi}{0}\\PY{p}{,} \\PY{l+s+s1}{\\PYZsq{}}\\PY{l+s+s1}{test 1}\\PY{l+s+s1}{\\PYZsq{}}\\PY{p}{)}\n\\PY{n}{display}\\PY{p}{(}\\PY{n}{accordion}\\PY{p}{)}\n\\end{Verbatim}\n",
          "text/plain": "import ipywidgets as widgets\n\naccordion = widgets.Accordion(children=[widgets.Text('This is the answer for Q1'),\n                                        widgets.Text('Answer for Q2')],\n                              selected_index=None)\naccordion.set_title(0, 'test 1')\ndisplay(accordion)\n"
         },
         "metadata": {},
         "output_type": "display_data"
        },
        {
         "data": {
          "text/html": "<style>.output_html .hll { background-color: #ffffcc }\n.output_html  { background: #f8f8f8; }\n.output_html .c { color: #408080; font-style: italic } /* Comment */\n.output_html .err { border: 1px solid #FF0000 } /* Error */\n.output_html .k { color: #008000; font-weight: bold } /* Keyword */\n.output_html .o { color: #666666 } /* Operator */\n.output_html .ch { color: #408080; font-style: italic } /* Comment.Hashbang */\n.output_html .cm { color: #408080; font-style: italic } /* Comment.Multiline */\n.output_html .cp { color: #BC7A00 } /* Comment.Preproc */\n.output_html .cpf { color: #408080; font-style: italic } /* Comment.PreprocFile */\n.output_html .c1 { color: #408080; font-style: italic } /* Comment.Single */\n.output_html .cs { color: #408080; font-style: italic } /* Comment.Special */\n.output_html .gd { color: #A00000 } /* Generic.Deleted */\n.output_html .ge { font-style: italic } /* Generic.Emph */\n.output_html .gr { color: #FF0000 } /* Generic.Error */\n.output_html .gh { color: #000080; font-weight: bold } /* Generic.Heading */\n.output_html .gi { color: #00A000 } /* Generic.Inserted */\n.output_html .go { color: #888888 } /* Generic.Output */\n.output_html .gp { color: #000080; font-weight: bold } /* Generic.Prompt */\n.output_html .gs { font-weight: bold } /* Generic.Strong */\n.output_html .gu { color: #800080; font-weight: bold } /* Generic.Subheading */\n.output_html .gt { color: #0044DD } /* Generic.Traceback */\n.output_html .kc { color: #008000; font-weight: bold } /* Keyword.Constant */\n.output_html .kd { color: #008000; font-weight: bold } /* Keyword.Declaration */\n.output_html .kn { color: #008000; font-weight: bold } /* Keyword.Namespace */\n.output_html .kp { color: #008000 } /* Keyword.Pseudo */\n.output_html .kr { color: #008000; font-weight: bold } /* Keyword.Reserved */\n.output_html .kt { color: #B00040 } /* Keyword.Type */\n.output_html .m { color: #666666 } /* Literal.Number */\n.output_html .s { color: #BA2121 } /* Literal.String */\n.output_html .na { color: #7D9029 } /* Name.Attribute */\n.output_html .nb { color: #008000 } /* Name.Builtin */\n.output_html .nc { color: #0000FF; font-weight: bold } /* Name.Class */\n.output_html .no { color: #880000 } /* Name.Constant */\n.output_html .nd { color: #AA22FF } /* Name.Decorator */\n.output_html .ni { color: #999999; font-weight: bold } /* Name.Entity */\n.output_html .ne { color: #D2413A; font-weight: bold } /* Name.Exception */\n.output_html .nf { color: #0000FF } /* Name.Function */\n.output_html .nl { color: #A0A000 } /* Name.Label */\n.output_html .nn { color: #0000FF; font-weight: bold } /* Name.Namespace */\n.output_html .nt { color: #008000; font-weight: bold } /* Name.Tag */\n.output_html .nv { color: #19177C } /* Name.Variable */\n.output_html .ow { color: #AA22FF; font-weight: bold } /* Operator.Word */\n.output_html .w { color: #bbbbbb } /* Text.Whitespace */\n.output_html .mb { color: #666666 } /* Literal.Number.Bin */\n.output_html .mf { color: #666666 } /* Literal.Number.Float */\n.output_html .mh { color: #666666 } /* Literal.Number.Hex */\n.output_html .mi { color: #666666 } /* Literal.Number.Integer */\n.output_html .mo { color: #666666 } /* Literal.Number.Oct */\n.output_html .sa { color: #BA2121 } /* Literal.String.Affix */\n.output_html .sb { color: #BA2121 } /* Literal.String.Backtick */\n.output_html .sc { color: #BA2121 } /* Literal.String.Char */\n.output_html .dl { color: #BA2121 } /* Literal.String.Delimiter */\n.output_html .sd { color: #BA2121; font-style: italic } /* Literal.String.Doc */\n.output_html .s2 { color: #BA2121 } /* Literal.String.Double */\n.output_html .se { color: #BB6622; font-weight: bold } /* Literal.String.Escape */\n.output_html .sh { color: #BA2121 } /* Literal.String.Heredoc */\n.output_html .si { color: #BB6688; font-weight: bold } /* Literal.String.Interpol */\n.output_html .sx { color: #008000 } /* Literal.String.Other */\n.output_html .sr { color: #BB6688 } /* Literal.String.Regex */\n.output_html .s1 { color: #BA2121 } /* Literal.String.Single */\n.output_html .ss { color: #19177C } /* Literal.String.Symbol */\n.output_html .bp { color: #008000 } /* Name.Builtin.Pseudo */\n.output_html .fm { color: #0000FF } /* Name.Function.Magic */\n.output_html .vc { color: #19177C } /* Name.Variable.Class */\n.output_html .vg { color: #19177C } /* Name.Variable.Global */\n.output_html .vi { color: #19177C } /* Name.Variable.Instance */\n.output_html .vm { color: #19177C } /* Name.Variable.Magic */\n.output_html .il { color: #666666 } /* Literal.Number.Integer.Long */</style><div class=\"highlight\"><pre><span></span><span class=\"kn\">import</span> <span class=\"nn\">ipywidgets</span> <span class=\"k\">as</span> <span class=\"nn\">widgets</span>\n\n<span class=\"n\">accordion</span> <span class=\"o\">=</span> <span class=\"n\">widgets</span><span class=\"o\">.</span><span class=\"n\">Accordion</span><span class=\"p\">(</span><span class=\"n\">children</span><span class=\"o\">=</span><span class=\"p\">[</span><span class=\"n\">widgets</span><span class=\"o\">.</span><span class=\"n\">Text</span><span class=\"p\">(</span><span class=\"s1\">&#39;This is the answer for Q1&#39;</span><span class=\"p\">),</span>\n                                        <span class=\"n\">widgets</span><span class=\"o\">.</span><span class=\"n\">Text</span><span class=\"p\">(</span><span class=\"s1\">&#39;Answer for Q2&#39;</span><span class=\"p\">)],</span>\n                              <span class=\"n\">selected_index</span><span class=\"o\">=</span><span class=\"kc\">None</span><span class=\"p\">)</span>\n<span class=\"n\">accordion</span><span class=\"o\">.</span><span class=\"n\">set_title</span><span class=\"p\">(</span><span class=\"mi\">0</span><span class=\"p\">,</span> <span class=\"s1\">&#39;test 1&#39;</span><span class=\"p\">)</span>\n<span class=\"n\">display</span><span class=\"p\">(</span><span class=\"n\">accordion</span><span class=\"p\">)</span>\n</pre></div>\n",
          "text/latex": "\\begin{Verbatim}[commandchars=\\\\\\{\\}]\n\\PY{k+kn}{import} \\PY{n+nn}{ipywidgets} \\PY{k}{as} \\PY{n+nn}{widgets}\n\n\\PY{n}{accordion} \\PY{o}{=} \\PY{n}{widgets}\\PY{o}{.}\\PY{n}{Accordion}\\PY{p}{(}\\PY{n}{children}\\PY{o}{=}\\PY{p}{[}\\PY{n}{widgets}\\PY{o}{.}\\PY{n}{Text}\\PY{p}{(}\\PY{l+s+s1}{\\PYZsq{}}\\PY{l+s+s1}{This is the answer for Q1}\\PY{l+s+s1}{\\PYZsq{}}\\PY{p}{)}\\PY{p}{,}\n                                        \\PY{n}{widgets}\\PY{o}{.}\\PY{n}{Text}\\PY{p}{(}\\PY{l+s+s1}{\\PYZsq{}}\\PY{l+s+s1}{Answer for Q2}\\PY{l+s+s1}{\\PYZsq{}}\\PY{p}{)}\\PY{p}{]}\\PY{p}{,}\n                              \\PY{n}{selected\\PYZus{}index}\\PY{o}{=}\\PY{k+kc}{None}\\PY{p}{)}\n\\PY{n}{accordion}\\PY{o}{.}\\PY{n}{set\\PYZus{}title}\\PY{p}{(}\\PY{l+m+mi}{0}\\PY{p}{,} \\PY{l+s+s1}{\\PYZsq{}}\\PY{l+s+s1}{test 1}\\PY{l+s+s1}{\\PYZsq{}}\\PY{p}{)}\n\\PY{n}{display}\\PY{p}{(}\\PY{n}{accordion}\\PY{p}{)}\n\\end{Verbatim}\n",
          "text/plain": "import ipywidgets as widgets\n\naccordion = widgets.Accordion(children=[widgets.Text('This is the answer for Q1'),\n                                        widgets.Text('Answer for Q2')],\n                              selected_index=None)\naccordion.set_title(0, 'test 1')\ndisplay(accordion)\n"
         },
         "metadata": {},
         "output_type": "display_data"
        },
        {
         "data": {
          "text/html": "<style>.output_html .hll { background-color: #ffffcc }\n.output_html  { background: #f8f8f8; }\n.output_html .c { color: #408080; font-style: italic } /* Comment */\n.output_html .err { border: 1px solid #FF0000 } /* Error */\n.output_html .k { color: #008000; font-weight: bold } /* Keyword */\n.output_html .o { color: #666666 } /* Operator */\n.output_html .ch { color: #408080; font-style: italic } /* Comment.Hashbang */\n.output_html .cm { color: #408080; font-style: italic } /* Comment.Multiline */\n.output_html .cp { color: #BC7A00 } /* Comment.Preproc */\n.output_html .cpf { color: #408080; font-style: italic } /* Comment.PreprocFile */\n.output_html .c1 { color: #408080; font-style: italic } /* Comment.Single */\n.output_html .cs { color: #408080; font-style: italic } /* Comment.Special */\n.output_html .gd { color: #A00000 } /* Generic.Deleted */\n.output_html .ge { font-style: italic } /* Generic.Emph */\n.output_html .gr { color: #FF0000 } /* Generic.Error */\n.output_html .gh { color: #000080; font-weight: bold } /* Generic.Heading */\n.output_html .gi { color: #00A000 } /* Generic.Inserted */\n.output_html .go { color: #888888 } /* Generic.Output */\n.output_html .gp { color: #000080; font-weight: bold } /* Generic.Prompt */\n.output_html .gs { font-weight: bold } /* Generic.Strong */\n.output_html .gu { color: #800080; font-weight: bold } /* Generic.Subheading */\n.output_html .gt { color: #0044DD } /* Generic.Traceback */\n.output_html .kc { color: #008000; font-weight: bold } /* Keyword.Constant */\n.output_html .kd { color: #008000; font-weight: bold } /* Keyword.Declaration */\n.output_html .kn { color: #008000; font-weight: bold } /* Keyword.Namespace */\n.output_html .kp { color: #008000 } /* Keyword.Pseudo */\n.output_html .kr { color: #008000; font-weight: bold } /* Keyword.Reserved */\n.output_html .kt { color: #B00040 } /* Keyword.Type */\n.output_html .m { color: #666666 } /* Literal.Number */\n.output_html .s { color: #BA2121 } /* Literal.String */\n.output_html .na { color: #7D9029 } /* Name.Attribute */\n.output_html .nb { color: #008000 } /* Name.Builtin */\n.output_html .nc { color: #0000FF; font-weight: bold } /* Name.Class */\n.output_html .no { color: #880000 } /* Name.Constant */\n.output_html .nd { color: #AA22FF } /* Name.Decorator */\n.output_html .ni { color: #999999; font-weight: bold } /* Name.Entity */\n.output_html .ne { color: #D2413A; font-weight: bold } /* Name.Exception */\n.output_html .nf { color: #0000FF } /* Name.Function */\n.output_html .nl { color: #A0A000 } /* Name.Label */\n.output_html .nn { color: #0000FF; font-weight: bold } /* Name.Namespace */\n.output_html .nt { color: #008000; font-weight: bold } /* Name.Tag */\n.output_html .nv { color: #19177C } /* Name.Variable */\n.output_html .ow { color: #AA22FF; font-weight: bold } /* Operator.Word */\n.output_html .w { color: #bbbbbb } /* Text.Whitespace */\n.output_html .mb { color: #666666 } /* Literal.Number.Bin */\n.output_html .mf { color: #666666 } /* Literal.Number.Float */\n.output_html .mh { color: #666666 } /* Literal.Number.Hex */\n.output_html .mi { color: #666666 } /* Literal.Number.Integer */\n.output_html .mo { color: #666666 } /* Literal.Number.Oct */\n.output_html .sa { color: #BA2121 } /* Literal.String.Affix */\n.output_html .sb { color: #BA2121 } /* Literal.String.Backtick */\n.output_html .sc { color: #BA2121 } /* Literal.String.Char */\n.output_html .dl { color: #BA2121 } /* Literal.String.Delimiter */\n.output_html .sd { color: #BA2121; font-style: italic } /* Literal.String.Doc */\n.output_html .s2 { color: #BA2121 } /* Literal.String.Double */\n.output_html .se { color: #BB6622; font-weight: bold } /* Literal.String.Escape */\n.output_html .sh { color: #BA2121 } /* Literal.String.Heredoc */\n.output_html .si { color: #BB6688; font-weight: bold } /* Literal.String.Interpol */\n.output_html .sx { color: #008000 } /* Literal.String.Other */\n.output_html .sr { color: #BB6688 } /* Literal.String.Regex */\n.output_html .s1 { color: #BA2121 } /* Literal.String.Single */\n.output_html .ss { color: #19177C } /* Literal.String.Symbol */\n.output_html .bp { color: #008000 } /* Name.Builtin.Pseudo */\n.output_html .fm { color: #0000FF } /* Name.Function.Magic */\n.output_html .vc { color: #19177C } /* Name.Variable.Class */\n.output_html .vg { color: #19177C } /* Name.Variable.Global */\n.output_html .vi { color: #19177C } /* Name.Variable.Instance */\n.output_html .vm { color: #19177C } /* Name.Variable.Magic */\n.output_html .il { color: #666666 } /* Literal.Number.Integer.Long */</style><div class=\"highlight\"><pre><span></span><span class=\"kn\">import</span> <span class=\"nn\">ipywidgets</span> <span class=\"k\">as</span> <span class=\"nn\">widgets</span>\n\n<span class=\"n\">accordion</span> <span class=\"o\">=</span> <span class=\"n\">widgets</span><span class=\"o\">.</span><span class=\"n\">Accordion</span><span class=\"p\">(</span><span class=\"n\">children</span><span class=\"o\">=</span><span class=\"p\">[</span><span class=\"n\">widgets</span><span class=\"o\">.</span><span class=\"n\">Text</span><span class=\"p\">(</span><span class=\"s1\">&#39;This is the answer for Q1&#39;</span><span class=\"p\">),</span>\n                                        <span class=\"n\">widgets</span><span class=\"o\">.</span><span class=\"n\">Text</span><span class=\"p\">(</span><span class=\"s1\">&#39;Answer for Q2&#39;</span><span class=\"p\">)],</span>\n                              <span class=\"n\">selected_index</span><span class=\"o\">=</span><span class=\"kc\">None</span><span class=\"p\">)</span>\n<span class=\"n\">accordion</span><span class=\"o\">.</span><span class=\"n\">set_title</span><span class=\"p\">(</span><span class=\"mi\">0</span><span class=\"p\">,</span> <span class=\"s1\">&#39;test 1&#39;</span><span class=\"p\">)</span>\n<span class=\"n\">display</span><span class=\"p\">(</span><span class=\"n\">accordion</span><span class=\"p\">)</span>\n</pre></div>\n",
          "text/latex": "\\begin{Verbatim}[commandchars=\\\\\\{\\}]\n\\PY{k+kn}{import} \\PY{n+nn}{ipywidgets} \\PY{k}{as} \\PY{n+nn}{widgets}\n\n\\PY{n}{accordion} \\PY{o}{=} \\PY{n}{widgets}\\PY{o}{.}\\PY{n}{Accordion}\\PY{p}{(}\\PY{n}{children}\\PY{o}{=}\\PY{p}{[}\\PY{n}{widgets}\\PY{o}{.}\\PY{n}{Text}\\PY{p}{(}\\PY{l+s+s1}{\\PYZsq{}}\\PY{l+s+s1}{This is the answer for Q1}\\PY{l+s+s1}{\\PYZsq{}}\\PY{p}{)}\\PY{p}{,}\n                                        \\PY{n}{widgets}\\PY{o}{.}\\PY{n}{Text}\\PY{p}{(}\\PY{l+s+s1}{\\PYZsq{}}\\PY{l+s+s1}{Answer for Q2}\\PY{l+s+s1}{\\PYZsq{}}\\PY{p}{)}\\PY{p}{]}\\PY{p}{,}\n                              \\PY{n}{selected\\PYZus{}index}\\PY{o}{=}\\PY{k+kc}{None}\\PY{p}{)}\n\\PY{n}{accordion}\\PY{o}{.}\\PY{n}{set\\PYZus{}title}\\PY{p}{(}\\PY{l+m+mi}{0}\\PY{p}{,} \\PY{l+s+s1}{\\PYZsq{}}\\PY{l+s+s1}{test 1}\\PY{l+s+s1}{\\PYZsq{}}\\PY{p}{)}\n\\PY{n}{display}\\PY{p}{(}\\PY{n}{accordion}\\PY{p}{)}\n\\end{Verbatim}\n",
          "text/plain": "import ipywidgets as widgets\n\naccordion = widgets.Accordion(children=[widgets.Text('This is the answer for Q1'),\n                                        widgets.Text('Answer for Q2')],\n                              selected_index=None)\naccordion.set_title(0, 'test 1')\ndisplay(accordion)\n"
         },
         "metadata": {},
         "output_type": "display_data"
        }
       ]
      }
     },
     "0c4135551b0049c4813aa7393c67b635": {
      "model_module": "@jupyter-widgets/base",
      "model_module_version": "1.2.0",
      "model_name": "LayoutModel",
      "state": {
       "border": "1px solid black"
      }
     },
     "0dbe000f8e6d4538a1ab241022a2ddee": {
      "model_module": "@jupyter-widgets/base",
      "model_module_version": "1.2.0",
      "model_name": "LayoutModel",
      "state": {}
     },
     "0dcc76235cdf464b8c9ab3de027738c1": {
      "model_module": "@jupyter-widgets/controls",
      "model_module_version": "1.5.0",
      "model_name": "ButtonStyleModel",
      "state": {}
     },
     "0e1c2fab78734f08ba574b32ebe47f52": {
      "model_module": "@jupyter-widgets/controls",
      "model_module_version": "1.5.0",
      "model_name": "ButtonModel",
      "state": {
       "description": "Reveal solution",
       "layout": "IPY_MODEL_17b48c2db6884a74afcf2cbc32e56954",
       "style": "IPY_MODEL_6283b8e3f5c441669b567fadef56b8c7"
      }
     },
     "0ec8f4ba0974493699ade3bc172747b9": {
      "model_module": "@jupyter-widgets/base",
      "model_module_version": "1.2.0",
      "model_name": "LayoutModel",
      "state": {}
     },
     "0fd9c2102b6f44a5922583aa4d8b40ff": {
      "model_module": "@jupyter-widgets/controls",
      "model_module_version": "1.5.0",
      "model_name": "ButtonModel",
      "state": {
       "description": "Reveal solution",
       "layout": "IPY_MODEL_0ec8f4ba0974493699ade3bc172747b9",
       "style": "IPY_MODEL_eb5cbbb0684e440792cd5dc5c106bdf3"
      }
     },
     "0fea0e902f074f2ca650ab614f27bcf7": {
      "model_module": "@jupyter-widgets/base",
      "model_module_version": "1.2.0",
      "model_name": "LayoutModel",
      "state": {}
     },
     "111a1f4847c6481aa93d0e2d9420eca8": {
      "model_module": "@jupyter-widgets/controls",
      "model_module_version": "1.5.0",
      "model_name": "ButtonStyleModel",
      "state": {}
     },
     "11650a2456974468ae310ae0f1c7395c": {
      "model_module": "@jupyter-widgets/output",
      "model_module_version": "1.0.0",
      "model_name": "OutputModel",
      "state": {
       "layout": "IPY_MODEL_8524900ccc3b44f1a803123daefd5480"
      }
     },
     "125adc3e215c4c5581f7fe8a4ca6e68b": {
      "model_module": "@jupyter-widgets/base",
      "model_module_version": "1.2.0",
      "model_name": "LayoutModel",
      "state": {
       "border": "1px solid green"
      }
     },
     "12ef9ba3f54d40e687a12d89e715641f": {
      "model_module": "@jupyter-widgets/output",
      "model_module_version": "1.0.0",
      "model_name": "OutputModel",
      "state": {
       "layout": "IPY_MODEL_cee7553c776347c18df28fca9cc6aceb"
      }
     },
     "137eec85ffc34d4492dc08310c71847b": {
      "model_module": "@jupyter-widgets/output",
      "model_module_version": "1.0.0",
      "model_name": "OutputModel",
      "state": {
       "layout": "IPY_MODEL_ff97e4471b2249e79122773fbafe067b"
      }
     },
     "141bf8a6e8ce4d2eb03630f14ecae560": {
      "model_module": "@jupyter-widgets/controls",
      "model_module_version": "1.5.0",
      "model_name": "ButtonStyleModel",
      "state": {}
     },
     "1484438ebc6f41d3ba26872700ec2ccb": {
      "model_module": "@jupyter-widgets/base",
      "model_module_version": "1.2.0",
      "model_name": "LayoutModel",
      "state": {}
     },
     "149f4f0a37b9428c92529c19eb1a0aa1": {
      "model_module": "@jupyter-widgets/controls",
      "model_module_version": "1.5.0",
      "model_name": "ButtonModel",
      "state": {
       "description": "Reveal solution",
       "layout": "IPY_MODEL_ed0ddef7219f49acaccdbc5f3454c07e",
       "style": "IPY_MODEL_92bf66880f95421a917316db799ead51"
      }
     },
     "1541caeebd8a42d094ae1699c886df05": {
      "model_module": "@jupyter-widgets/controls",
      "model_module_version": "1.5.0",
      "model_name": "ButtonStyleModel",
      "state": {}
     },
     "1654f8bc08c54ad5bac63fcd5a36ab48": {
      "model_module": "@jupyter-widgets/base",
      "model_module_version": "1.2.0",
      "model_name": "LayoutModel",
      "state": {
       "border": "1px solid green"
      }
     },
     "16852d9e559a4ff29dace51ac35e536f": {
      "model_module": "@jupyter-widgets/output",
      "model_module_version": "1.0.0",
      "model_name": "OutputModel",
      "state": {
       "layout": "IPY_MODEL_e6a20e3a8b7c4761b7868fafce17024b",
       "outputs": [
        {
         "data": {
          "application/vnd.jupyter.widget-view+json": {
           "model_id": "3d5a2d8e8c7844658083aedcb69fb100",
           "version_major": 2,
           "version_minor": 0
          },
          "text/plain": "Button(description='Reveal solution', style=ButtonStyle())"
         },
         "metadata": {},
         "output_type": "display_data"
        }
       ]
      }
     },
     "168e5fc6359345028b504ca5e0881e6b": {
      "model_module": "@jupyter-widgets/base",
      "model_module_version": "1.2.0",
      "model_name": "LayoutModel",
      "state": {}
     },
     "174f602150ea4549a7401951a95454b8": {
      "model_module": "@jupyter-widgets/controls",
      "model_module_version": "1.5.0",
      "model_name": "ButtonModel",
      "state": {
       "description": "Reveal solution",
       "layout": "IPY_MODEL_f6111db2b8744778b209cf1d775a0a30",
       "style": "IPY_MODEL_e34713367950459ba34bd955bbef7cae"
      }
     },
     "17b48c2db6884a74afcf2cbc32e56954": {
      "model_module": "@jupyter-widgets/base",
      "model_module_version": "1.2.0",
      "model_name": "LayoutModel",
      "state": {}
     },
     "17cdf7b8073a4c4fa08857bccb8e1843": {
      "model_module": "@jupyter-widgets/output",
      "model_module_version": "1.0.0",
      "model_name": "OutputModel",
      "state": {
       "layout": "IPY_MODEL_acdb038d1fec4df7b4d850072da3f18c"
      }
     },
     "185e6b16072948f2ad8156572248ecb3": {
      "model_module": "@jupyter-widgets/base",
      "model_module_version": "1.2.0",
      "model_name": "LayoutModel",
      "state": {
       "border": "1px solid green"
      }
     },
     "185e6d6e4c5d45839f202e4819bfd7f9": {
      "model_module": "@jupyter-widgets/controls",
      "model_module_version": "1.5.0",
      "model_name": "ButtonModel",
      "state": {
       "description": "Reveal solution",
       "layout": "IPY_MODEL_784c21bbdf8044768442700b0004ed1e",
       "style": "IPY_MODEL_f520a77d1c1d4f8bb3bcd81397ee4404"
      }
     },
     "187a25f569d0449fa2bf770432017043": {
      "model_module": "@jupyter-widgets/controls",
      "model_module_version": "1.5.0",
      "model_name": "ButtonStyleModel",
      "state": {}
     },
     "19b407063c974819a5e6ef10158b8faa": {
      "model_module": "@jupyter-widgets/controls",
      "model_module_version": "1.5.0",
      "model_name": "ButtonModel",
      "state": {
       "description": "Reveal answer",
       "layout": "IPY_MODEL_9d329753c8d3468480cb7f954b1e2cb4",
       "style": "IPY_MODEL_2d81815f42f146cb9ed28a669b177401"
      }
     },
     "1a59efac656d433f9b7a5ece56c4f374": {
      "model_module": "@jupyter-widgets/base",
      "model_module_version": "1.2.0",
      "model_name": "LayoutModel",
      "state": {}
     },
     "1be6531780c64fd4b718f8e157efe5f5": {
      "model_module": "@jupyter-widgets/controls",
      "model_module_version": "1.5.0",
      "model_name": "ButtonModel",
      "state": {
       "description": "Reveal solution",
       "layout": "IPY_MODEL_a28c6dd63fe2467f92e847026662f399",
       "style": "IPY_MODEL_094e4bbf48a74409aba5dc45ec469a68"
      }
     },
     "1c27f50c03c0412c94104550f45edcfa": {
      "model_module": "@jupyter-widgets/controls",
      "model_module_version": "1.5.0",
      "model_name": "ButtonModel",
      "state": {
       "description": "Reveal solution",
       "layout": "IPY_MODEL_8eb1174b69ee42188c7e64aea17f2189",
       "style": "IPY_MODEL_fb44220a4ad347b4969a8da02f7485f0"
      }
     },
     "1c4abe58d9a5478eae6a7c0fe08888ff": {
      "model_module": "@jupyter-widgets/base",
      "model_module_version": "1.2.0",
      "model_name": "LayoutModel",
      "state": {
       "border": "1px solid green"
      }
     },
     "1e0b5bb234f345e18290979512a113c4": {
      "model_module": "@jupyter-widgets/output",
      "model_module_version": "1.0.0",
      "model_name": "OutputModel",
      "state": {
       "layout": "IPY_MODEL_6e39c5ef6b7441d38e3bf6cfdbd347d7"
      }
     },
     "1f01e2a0e93040aca03a2d4715647f0b": {
      "model_module": "@jupyter-widgets/output",
      "model_module_version": "1.0.0",
      "model_name": "OutputModel",
      "state": {
       "layout": "IPY_MODEL_a4358d16d3d84fcba9e18c7d7fe32095"
      }
     },
     "1fd33709bb1940ffbffe0af26ef7f16c": {
      "model_module": "@jupyter-widgets/controls",
      "model_module_version": "1.5.0",
      "model_name": "ButtonStyleModel",
      "state": {}
     },
     "203935b63e294375a12b20bdbcacd451": {
      "model_module": "@jupyter-widgets/output",
      "model_module_version": "1.0.0",
      "model_name": "OutputModel",
      "state": {
       "layout": "IPY_MODEL_54281bb9b34042c8a3cdf09157abe736"
      }
     },
     "211e98bd3fbd447285b7818ec22c25e1": {
      "model_module": "@jupyter-widgets/output",
      "model_module_version": "1.0.0",
      "model_name": "OutputModel",
      "state": {
       "layout": "IPY_MODEL_5266f7f31249431d9228120243bf1cb1",
       "outputs": [
        {
         "data": {
          "application/vnd.jupyter.widget-view+json": {
           "model_id": "f46892c6f3394654b14eac9c6a850e3c",
           "version_major": 2,
           "version_minor": 0
          },
          "text/plain": "Button(description='Reveal answer', style=ButtonStyle())"
         },
         "metadata": {},
         "output_type": "display_data"
        }
       ]
      }
     },
     "216baeddbf7445f7b2511cd7a0682116": {
      "model_module": "@jupyter-widgets/base",
      "model_module_version": "1.2.0",
      "model_name": "LayoutModel",
      "state": {}
     },
     "21a45ece903840c4967d488a2fa1b398": {
      "model_module": "@jupyter-widgets/controls",
      "model_module_version": "1.5.0",
      "model_name": "ButtonModel",
      "state": {
       "description": "Reveal solution",
       "layout": "IPY_MODEL_98822c48be814867b7b048e7e402da4d",
       "style": "IPY_MODEL_d9339bdcb99b47f58a5ef937cdd78457"
      }
     },
     "223068136cdb426d98431cce8e222d38": {
      "model_module": "@jupyter-widgets/base",
      "model_module_version": "1.2.0",
      "model_name": "LayoutModel",
      "state": {}
     },
     "223f2e095b8942e8b0d29b0a00ea9cd9": {
      "model_module": "@jupyter-widgets/base",
      "model_module_version": "1.2.0",
      "model_name": "LayoutModel",
      "state": {}
     },
     "23f5a447bb7d466a86b7b8cba54d67bb": {
      "model_module": "@jupyter-widgets/base",
      "model_module_version": "1.2.0",
      "model_name": "LayoutModel",
      "state": {
       "border": "1px solid green"
      }
     },
     "2407481c90994027940e4916f5701933": {
      "model_module": "@jupyter-widgets/controls",
      "model_module_version": "1.5.0",
      "model_name": "ButtonStyleModel",
      "state": {}
     },
     "24502714ac3142c380aa717ea5414ca3": {
      "model_module": "@jupyter-widgets/base",
      "model_module_version": "1.2.0",
      "model_name": "LayoutModel",
      "state": {}
     },
     "24f3e167f6634ebdb9a02ca724a8962d": {
      "model_module": "@jupyter-widgets/controls",
      "model_module_version": "1.5.0",
      "model_name": "ButtonModel",
      "state": {
       "description": "Reveal solution",
       "layout": "IPY_MODEL_318634490ef94a9d9312b732e900a5cd",
       "style": "IPY_MODEL_ec5f0f0995f84eaa90cb667a6709044a"
      }
     },
     "25af8437d92344658ee3339bc8a81203": {
      "model_module": "@jupyter-widgets/base",
      "model_module_version": "1.2.0",
      "model_name": "LayoutModel",
      "state": {}
     },
     "25f809f320c54d7e8ab50f2827f787d1": {
      "model_module": "@jupyter-widgets/controls",
      "model_module_version": "1.5.0",
      "model_name": "ButtonStyleModel",
      "state": {}
     },
     "28a7449e672e4d70bab8b26e21b7f42a": {
      "model_module": "@jupyter-widgets/base",
      "model_module_version": "1.2.0",
      "model_name": "LayoutModel",
      "state": {
       "border": "1px solid green"
      }
     },
     "28ccdc51a7404181b32889b52a88160e": {
      "model_module": "@jupyter-widgets/output",
      "model_module_version": "1.0.0",
      "model_name": "OutputModel",
      "state": {
       "layout": "IPY_MODEL_ee34f267e06c4a7e87ced6c6c9789571"
      }
     },
     "295c19a102bb4b5c97034dd01c91d391": {
      "model_module": "@jupyter-widgets/controls",
      "model_module_version": "1.5.0",
      "model_name": "ButtonModel",
      "state": {
       "description": "Reveal solution",
       "layout": "IPY_MODEL_aa54ff297e9c46c3abc2ea4e2ddbffcf",
       "style": "IPY_MODEL_d958cfdad30d469f91bf7ba40e11565e"
      }
     },
     "2a3756ea1dfe477985a7cc9727d12a85": {
      "model_module": "@jupyter-widgets/base",
      "model_module_version": "1.2.0",
      "model_name": "LayoutModel",
      "state": {
       "border": "1px solid green"
      }
     },
     "2a4de6ac20cd4bc28cb06c4e3ae37081": {
      "model_module": "@jupyter-widgets/base",
      "model_module_version": "1.2.0",
      "model_name": "LayoutModel",
      "state": {}
     },
     "2b2589d150634405b8e53311b8de095e": {
      "model_module": "@jupyter-widgets/controls",
      "model_module_version": "1.5.0",
      "model_name": "ButtonModel",
      "state": {
       "description": "Reveal/hide answer",
       "layout": "IPY_MODEL_c457224951df40bea658c8f1ea9915fd",
       "style": "IPY_MODEL_8f292428ba6a4e25a1954c7088021e6d"
      }
     },
     "2ba18cf8001d446284b5c150c9351846": {
      "model_module": "@jupyter-widgets/base",
      "model_module_version": "1.2.0",
      "model_name": "LayoutModel",
      "state": {}
     },
     "2c78b180dcda4737925e048a6b601ea6": {
      "model_module": "@jupyter-widgets/output",
      "model_module_version": "1.0.0",
      "model_name": "OutputModel",
      "state": {
       "layout": "IPY_MODEL_70068ec0ceb34c799c1a7ce7d1ea46e2"
      }
     },
     "2c9cad6cccd14e319a7cc265070ef8be": {
      "model_module": "@jupyter-widgets/output",
      "model_module_version": "1.0.0",
      "model_name": "OutputModel",
      "state": {
       "layout": "IPY_MODEL_ac37ccc75d384d4ba2d75f436cc92af3"
      }
     },
     "2d81815f42f146cb9ed28a669b177401": {
      "model_module": "@jupyter-widgets/controls",
      "model_module_version": "1.5.0",
      "model_name": "ButtonStyleModel",
      "state": {}
     },
     "2e4e9080e9f5483389cc08f615507761": {
      "model_module": "@jupyter-widgets/base",
      "model_module_version": "1.2.0",
      "model_name": "LayoutModel",
      "state": {
       "border": "1px solid green"
      }
     },
     "2efd179aabfd4739a837f794ecbe9611": {
      "model_module": "@jupyter-widgets/controls",
      "model_module_version": "1.5.0",
      "model_name": "ButtonStyleModel",
      "state": {}
     },
     "2f0981c1e6c241c3a8d7cab5d597939e": {
      "model_module": "@jupyter-widgets/base",
      "model_module_version": "1.2.0",
      "model_name": "LayoutModel",
      "state": {}
     },
     "2f96ff11700e42158968a1151cb2b599": {
      "model_module": "@jupyter-widgets/output",
      "model_module_version": "1.0.0",
      "model_name": "OutputModel",
      "state": {
       "layout": "IPY_MODEL_c5ee2d8697e94047ae19e0e840fa7866"
      }
     },
     "318634490ef94a9d9312b732e900a5cd": {
      "model_module": "@jupyter-widgets/base",
      "model_module_version": "1.2.0",
      "model_name": "LayoutModel",
      "state": {}
     },
     "31eb41bb6a59442a97e6035586ee5a16": {
      "model_module": "@jupyter-widgets/controls",
      "model_module_version": "1.5.0",
      "model_name": "ButtonModel",
      "state": {
       "description": "Reveal solution",
       "layout": "IPY_MODEL_5edbfa5890ea4b9ca6aefac70caff57f",
       "style": "IPY_MODEL_3e5eb767b6b84daa87924354fbd8f0ef"
      }
     },
     "322d7d33912342d783464e0ad190c01c": {
      "model_module": "@jupyter-widgets/controls",
      "model_module_version": "1.5.0",
      "model_name": "ButtonStyleModel",
      "state": {}
     },
     "327bcbe0ae8040d0a505d3fe4b438e24": {
      "model_module": "@jupyter-widgets/output",
      "model_module_version": "1.0.0",
      "model_name": "OutputModel",
      "state": {
       "layout": "IPY_MODEL_23f5a447bb7d466a86b7b8cba54d67bb"
      }
     },
     "32bfadeb6f044d70a2ce861722ef4f32": {
      "model_module": "@jupyter-widgets/base",
      "model_module_version": "1.2.0",
      "model_name": "LayoutModel",
      "state": {
       "border": "1px solid green"
      }
     },
     "344321af46a4463b8efb5fb17119e63f": {
      "model_module": "@jupyter-widgets/base",
      "model_module_version": "1.2.0",
      "model_name": "LayoutModel",
      "state": {
       "border": "1px solid green"
      }
     },
     "35f7d0343c0a41a8ac78b213a85d73b6": {
      "model_module": "@jupyter-widgets/controls",
      "model_module_version": "1.5.0",
      "model_name": "ButtonModel",
      "state": {
       "description": "Reveal solution",
       "layout": "IPY_MODEL_b3956229190e427e8fe3f99746b482c6",
       "style": "IPY_MODEL_3f86a7b2d4f945d89c59944a593b2ce0"
      }
     },
     "3704769b443c4eb89d46d47ad35aaeba": {
      "model_module": "@jupyter-widgets/controls",
      "model_module_version": "1.5.0",
      "model_name": "ButtonStyleModel",
      "state": {}
     },
     "38fb3fab28e545dbb9609f72b860cb1c": {
      "model_module": "@jupyter-widgets/output",
      "model_module_version": "1.0.0",
      "model_name": "OutputModel",
      "state": {
       "layout": "IPY_MODEL_a49a4e722115469483843f5cc66df7ea"
      }
     },
     "39284deea5e846b79ebcb86e34f7b62c": {
      "model_module": "@jupyter-widgets/controls",
      "model_module_version": "1.5.0",
      "model_name": "ButtonStyleModel",
      "state": {}
     },
     "395c11588ab041dab29f539bda8f086f": {
      "model_module": "@jupyter-widgets/controls",
      "model_module_version": "1.5.0",
      "model_name": "ButtonModel",
      "state": {
       "description": "Reveal solution",
       "layout": "IPY_MODEL_cbef569f71b8403f94759e8033678182",
       "style": "IPY_MODEL_549a4644d3974161a5ea078c524fe4f0"
      }
     },
     "398b895af4cd4994a3bc1c1457e9486d": {
      "model_module": "@jupyter-widgets/base",
      "model_module_version": "1.2.0",
      "model_name": "LayoutModel",
      "state": {}
     },
     "39a0fbfbb43648a6b51738050214a072": {
      "model_module": "@jupyter-widgets/output",
      "model_module_version": "1.0.0",
      "model_name": "OutputModel",
      "state": {
       "layout": "IPY_MODEL_f2939eaf62c84459b4ee999c6f0f48c9",
       "outputs": [
        {
         "data": {
          "text/html": "<style>.output_html .hll { background-color: #ffffcc }\n.output_html  { background: #f8f8f8; }\n.output_html .c { color: #408080; font-style: italic } /* Comment */\n.output_html .err { border: 1px solid #FF0000 } /* Error */\n.output_html .k { color: #008000; font-weight: bold } /* Keyword */\n.output_html .o { color: #666666 } /* Operator */\n.output_html .ch { color: #408080; font-style: italic } /* Comment.Hashbang */\n.output_html .cm { color: #408080; font-style: italic } /* Comment.Multiline */\n.output_html .cp { color: #BC7A00 } /* Comment.Preproc */\n.output_html .cpf { color: #408080; font-style: italic } /* Comment.PreprocFile */\n.output_html .c1 { color: #408080; font-style: italic } /* Comment.Single */\n.output_html .cs { color: #408080; font-style: italic } /* Comment.Special */\n.output_html .gd { color: #A00000 } /* Generic.Deleted */\n.output_html .ge { font-style: italic } /* Generic.Emph */\n.output_html .gr { color: #FF0000 } /* Generic.Error */\n.output_html .gh { color: #000080; font-weight: bold } /* Generic.Heading */\n.output_html .gi { color: #00A000 } /* Generic.Inserted */\n.output_html .go { color: #888888 } /* Generic.Output */\n.output_html .gp { color: #000080; font-weight: bold } /* Generic.Prompt */\n.output_html .gs { font-weight: bold } /* Generic.Strong */\n.output_html .gu { color: #800080; font-weight: bold } /* Generic.Subheading */\n.output_html .gt { color: #0044DD } /* Generic.Traceback */\n.output_html .kc { color: #008000; font-weight: bold } /* Keyword.Constant */\n.output_html .kd { color: #008000; font-weight: bold } /* Keyword.Declaration */\n.output_html .kn { color: #008000; font-weight: bold } /* Keyword.Namespace */\n.output_html .kp { color: #008000 } /* Keyword.Pseudo */\n.output_html .kr { color: #008000; font-weight: bold } /* Keyword.Reserved */\n.output_html .kt { color: #B00040 } /* Keyword.Type */\n.output_html .m { color: #666666 } /* Literal.Number */\n.output_html .s { color: #BA2121 } /* Literal.String */\n.output_html .na { color: #7D9029 } /* Name.Attribute */\n.output_html .nb { color: #008000 } /* Name.Builtin */\n.output_html .nc { color: #0000FF; font-weight: bold } /* Name.Class */\n.output_html .no { color: #880000 } /* Name.Constant */\n.output_html .nd { color: #AA22FF } /* Name.Decorator */\n.output_html .ni { color: #999999; font-weight: bold } /* Name.Entity */\n.output_html .ne { color: #D2413A; font-weight: bold } /* Name.Exception */\n.output_html .nf { color: #0000FF } /* Name.Function */\n.output_html .nl { color: #A0A000 } /* Name.Label */\n.output_html .nn { color: #0000FF; font-weight: bold } /* Name.Namespace */\n.output_html .nt { color: #008000; font-weight: bold } /* Name.Tag */\n.output_html .nv { color: #19177C } /* Name.Variable */\n.output_html .ow { color: #AA22FF; font-weight: bold } /* Operator.Word */\n.output_html .w { color: #bbbbbb } /* Text.Whitespace */\n.output_html .mb { color: #666666 } /* Literal.Number.Bin */\n.output_html .mf { color: #666666 } /* Literal.Number.Float */\n.output_html .mh { color: #666666 } /* Literal.Number.Hex */\n.output_html .mi { color: #666666 } /* Literal.Number.Integer */\n.output_html .mo { color: #666666 } /* Literal.Number.Oct */\n.output_html .sa { color: #BA2121 } /* Literal.String.Affix */\n.output_html .sb { color: #BA2121 } /* Literal.String.Backtick */\n.output_html .sc { color: #BA2121 } /* Literal.String.Char */\n.output_html .dl { color: #BA2121 } /* Literal.String.Delimiter */\n.output_html .sd { color: #BA2121; font-style: italic } /* Literal.String.Doc */\n.output_html .s2 { color: #BA2121 } /* Literal.String.Double */\n.output_html .se { color: #BB6622; font-weight: bold } /* Literal.String.Escape */\n.output_html .sh { color: #BA2121 } /* Literal.String.Heredoc */\n.output_html .si { color: #BB6688; font-weight: bold } /* Literal.String.Interpol */\n.output_html .sx { color: #008000 } /* Literal.String.Other */\n.output_html .sr { color: #BB6688 } /* Literal.String.Regex */\n.output_html .s1 { color: #BA2121 } /* Literal.String.Single */\n.output_html .ss { color: #19177C } /* Literal.String.Symbol */\n.output_html .bp { color: #008000 } /* Name.Builtin.Pseudo */\n.output_html .fm { color: #0000FF } /* Name.Function.Magic */\n.output_html .vc { color: #19177C } /* Name.Variable.Class */\n.output_html .vg { color: #19177C } /* Name.Variable.Global */\n.output_html .vi { color: #19177C } /* Name.Variable.Instance */\n.output_html .vm { color: #19177C } /* Name.Variable.Magic */\n.output_html .il { color: #666666 } /* Literal.Number.Integer.Long */</style><div class=\"highlight\"><pre><span></span><span class=\"kn\">import</span> <span class=\"nn\">ipywidgets</span> <span class=\"k\">as</span> <span class=\"nn\">widgets</span>\n\n<span class=\"n\">accordion</span> <span class=\"o\">=</span> <span class=\"n\">widgets</span><span class=\"o\">.</span><span class=\"n\">Accordion</span><span class=\"p\">(</span><span class=\"n\">children</span><span class=\"o\">=</span><span class=\"p\">[</span><span class=\"n\">widgets</span><span class=\"o\">.</span><span class=\"n\">Text</span><span class=\"p\">(</span><span class=\"s1\">&#39;This is the answer for Q1&#39;</span><span class=\"p\">),</span>\n                                        <span class=\"n\">widgets</span><span class=\"o\">.</span><span class=\"n\">Text</span><span class=\"p\">(</span><span class=\"s1\">&#39;Answer for Q2&#39;</span><span class=\"p\">)],</span>\n                              <span class=\"n\">selected_index</span><span class=\"o\">=</span><span class=\"kc\">None</span><span class=\"p\">)</span>\n<span class=\"n\">accordion</span><span class=\"o\">.</span><span class=\"n\">set_title</span><span class=\"p\">(</span><span class=\"mi\">0</span><span class=\"p\">,</span> <span class=\"s1\">&#39;test 1&#39;</span><span class=\"p\">)</span>\n<span class=\"n\">display</span><span class=\"p\">(</span><span class=\"n\">accordion</span><span class=\"p\">)</span>\n</pre></div>\n",
          "text/latex": "\\begin{Verbatim}[commandchars=\\\\\\{\\}]\n\\PY{k+kn}{import} \\PY{n+nn}{ipywidgets} \\PY{k}{as} \\PY{n+nn}{widgets}\n\n\\PY{n}{accordion} \\PY{o}{=} \\PY{n}{widgets}\\PY{o}{.}\\PY{n}{Accordion}\\PY{p}{(}\\PY{n}{children}\\PY{o}{=}\\PY{p}{[}\\PY{n}{widgets}\\PY{o}{.}\\PY{n}{Text}\\PY{p}{(}\\PY{l+s+s1}{\\PYZsq{}}\\PY{l+s+s1}{This is the answer for Q1}\\PY{l+s+s1}{\\PYZsq{}}\\PY{p}{)}\\PY{p}{,}\n                                        \\PY{n}{widgets}\\PY{o}{.}\\PY{n}{Text}\\PY{p}{(}\\PY{l+s+s1}{\\PYZsq{}}\\PY{l+s+s1}{Answer for Q2}\\PY{l+s+s1}{\\PYZsq{}}\\PY{p}{)}\\PY{p}{]}\\PY{p}{,}\n                              \\PY{n}{selected\\PYZus{}index}\\PY{o}{=}\\PY{k+kc}{None}\\PY{p}{)}\n\\PY{n}{accordion}\\PY{o}{.}\\PY{n}{set\\PYZus{}title}\\PY{p}{(}\\PY{l+m+mi}{0}\\PY{p}{,} \\PY{l+s+s1}{\\PYZsq{}}\\PY{l+s+s1}{test 1}\\PY{l+s+s1}{\\PYZsq{}}\\PY{p}{)}\n\\PY{n}{display}\\PY{p}{(}\\PY{n}{accordion}\\PY{p}{)}\n\\end{Verbatim}\n",
          "text/plain": "import ipywidgets as widgets\n\naccordion = widgets.Accordion(children=[widgets.Text('This is the answer for Q1'),\n                                        widgets.Text('Answer for Q2')],\n                              selected_index=None)\naccordion.set_title(0, 'test 1')\ndisplay(accordion)\n"
         },
         "metadata": {},
         "output_type": "display_data"
        }
       ]
      }
     },
     "39f24b90add3410d94c41314015d4378": {
      "model_module": "@jupyter-widgets/base",
      "model_module_version": "1.2.0",
      "model_name": "LayoutModel",
      "state": {}
     },
     "3a6435cb78da4db3bb6739ef756ca50d": {
      "model_module": "@jupyter-widgets/base",
      "model_module_version": "1.2.0",
      "model_name": "LayoutModel",
      "state": {}
     },
     "3b627fa1133e43638ea0e0c0db6e35e3": {
      "model_module": "@jupyter-widgets/output",
      "model_module_version": "1.0.0",
      "model_name": "OutputModel",
      "state": {
       "layout": "IPY_MODEL_e6f000ca3a7145efb056b38b4beaf156"
      }
     },
     "3b926bec1d8d42e782e57ec41e8fecdc": {
      "model_module": "@jupyter-widgets/output",
      "model_module_version": "1.0.0",
      "model_name": "OutputModel",
      "state": {
       "layout": "IPY_MODEL_e03901dc17534fd2b71e9007472a630e",
       "outputs": [
        {
         "data": {
          "application/vnd.jupyter.widget-view+json": {
           "model_id": "63fc17b282f14e9b9a6ac2efe9fedceb",
           "version_major": 2,
           "version_minor": 0
          },
          "text/plain": "Button(description='Reveal solution', style=ButtonStyle())"
         },
         "metadata": {},
         "output_type": "display_data"
        },
        {
         "data": {
          "application/vnd.jupyter.widget-view+json": {
           "model_id": "b3a11f930666404cb2b638a4a1bb20fc",
           "version_major": 2,
           "version_minor": 0
          },
          "text/plain": "Output(layout=Layout(border='1px solid green'))"
         },
         "metadata": {},
         "output_type": "display_data"
        }
       ]
      }
     },
     "3bf5988f15f6414b89d99204bd843a84": {
      "model_module": "@jupyter-widgets/controls",
      "model_module_version": "1.5.0",
      "model_name": "ButtonModel",
      "state": {
       "description": "Reveal solution",
       "layout": "IPY_MODEL_b6aee2fb4b1f42eb8d93d82639c7b785",
       "style": "IPY_MODEL_46601bf953bf486abffe5852c417397a"
      }
     },
     "3c1ed246990a420199036075fc6275c9": {
      "model_module": "@jupyter-widgets/base",
      "model_module_version": "1.2.0",
      "model_name": "LayoutModel",
      "state": {}
     },
     "3d357a563a7c4a80b5338a988e62f72b": {
      "model_module": "@jupyter-widgets/output",
      "model_module_version": "1.0.0",
      "model_name": "OutputModel",
      "state": {
       "layout": "IPY_MODEL_1654f8bc08c54ad5bac63fcd5a36ab48"
      }
     },
     "3d5a2d8e8c7844658083aedcb69fb100": {
      "model_module": "@jupyter-widgets/controls",
      "model_module_version": "1.5.0",
      "model_name": "ButtonModel",
      "state": {
       "description": "Reveal solution",
       "layout": "IPY_MODEL_2ba18cf8001d446284b5c150c9351846",
       "style": "IPY_MODEL_919ec755efbf46c8adadcb5ed59918e5"
      }
     },
     "3dc5e476589f41629d01eb9737a37c1f": {
      "model_module": "@jupyter-widgets/output",
      "model_module_version": "1.0.0",
      "model_name": "OutputModel",
      "state": {
       "layout": "IPY_MODEL_7dff8f96dcd84e46a9a265dddb3229ed"
      }
     },
     "3e250bbb498646f9aa9fea8dea1f670f": {
      "model_module": "@jupyter-widgets/base",
      "model_module_version": "1.2.0",
      "model_name": "LayoutModel",
      "state": {}
     },
     "3e5eb767b6b84daa87924354fbd8f0ef": {
      "model_module": "@jupyter-widgets/controls",
      "model_module_version": "1.5.0",
      "model_name": "ButtonStyleModel",
      "state": {}
     },
     "3e781d8b5fd6462db6c55b0d68aebbd6": {
      "model_module": "@jupyter-widgets/output",
      "model_module_version": "1.0.0",
      "model_name": "OutputModel",
      "state": {
       "layout": "IPY_MODEL_0dbe000f8e6d4538a1ab241022a2ddee",
       "outputs": [
        {
         "data": {
          "application/vnd.jupyter.widget-view+json": {
           "model_id": "a6de95b34f394582953a5fb8cecae7cd",
           "version_major": 2,
           "version_minor": 0
          },
          "text/plain": "Button(description='Reveal answer', style=ButtonStyle())"
         },
         "metadata": {},
         "output_type": "display_data"
        }
       ]
      }
     },
     "3f86a7b2d4f945d89c59944a593b2ce0": {
      "model_module": "@jupyter-widgets/controls",
      "model_module_version": "1.5.0",
      "model_name": "ButtonStyleModel",
      "state": {}
     },
     "40c01eb1b06c4574bf4a40fc8bd1d5ae": {
      "model_module": "@jupyter-widgets/controls",
      "model_module_version": "1.5.0",
      "model_name": "ButtonStyleModel",
      "state": {}
     },
     "415d39474424470db7381a9e25c4f0a1": {
      "model_module": "@jupyter-widgets/controls",
      "model_module_version": "1.5.0",
      "model_name": "ButtonModel",
      "state": {
       "description": "Reveal answer",
       "layout": "IPY_MODEL_88cdd7bcdd90424a864e88e3fa9d5141",
       "style": "IPY_MODEL_d95ae134e3ad4cfcac05618401d94aa3"
      }
     },
     "4240baae56ce42f4a5e493706f2570d9": {
      "model_module": "@jupyter-widgets/base",
      "model_module_version": "1.2.0",
      "model_name": "LayoutModel",
      "state": {
       "border": "1px solid green"
      }
     },
     "45994ebec309427bbd303893af060642": {
      "model_module": "@jupyter-widgets/output",
      "model_module_version": "1.0.0",
      "model_name": "OutputModel",
      "state": {
       "layout": "IPY_MODEL_a0e189bdccf544b8bee2564f9036fcee"
      }
     },
     "459cc908762145ddbfef367172dd1a5b": {
      "model_module": "@jupyter-widgets/output",
      "model_module_version": "1.0.0",
      "model_name": "OutputModel",
      "state": {
       "layout": "IPY_MODEL_b0ad42a404f74f4e9a469f1f35cf1fc8"
      }
     },
     "459f6b19bd404180b23e31555a632520": {
      "model_module": "@jupyter-widgets/base",
      "model_module_version": "1.2.0",
      "model_name": "LayoutModel",
      "state": {}
     },
     "46601bf953bf486abffe5852c417397a": {
      "model_module": "@jupyter-widgets/controls",
      "model_module_version": "1.5.0",
      "model_name": "ButtonStyleModel",
      "state": {}
     },
     "470d1d139ed8493f91b17379187fed05": {
      "model_module": "@jupyter-widgets/controls",
      "model_module_version": "1.5.0",
      "model_name": "ButtonModel",
      "state": {
       "description": "Reveal solution",
       "layout": "IPY_MODEL_3a6435cb78da4db3bb6739ef756ca50d",
       "style": "IPY_MODEL_053a3c35b7e34987a910c8167c599b63"
      }
     },
     "47192f6e21ee456b8d2aed72186e3f04": {
      "model_module": "@jupyter-widgets/controls",
      "model_module_version": "1.5.0",
      "model_name": "ButtonStyleModel",
      "state": {}
     },
     "472cc82853b246dfa30b01c9d1ecd6e8": {
      "model_module": "@jupyter-widgets/base",
      "model_module_version": "1.2.0",
      "model_name": "LayoutModel",
      "state": {
       "border": "1px solid green"
      }
     },
     "47711b68d828458c8bd123a46e383846": {
      "model_module": "@jupyter-widgets/controls",
      "model_module_version": "1.5.0",
      "model_name": "ButtonModel",
      "state": {
       "description": "Reveal solution",
       "layout": "IPY_MODEL_b673901b9e294564b6cf5532c3cb5c97",
       "style": "IPY_MODEL_80854a8c6f5d49aeb882fa2aba6e4547"
      }
     },
     "480c4df08a2f4d318bd03111140ee318": {
      "model_module": "@jupyter-widgets/base",
      "model_module_version": "1.2.0",
      "model_name": "LayoutModel",
      "state": {}
     },
     "4851c0fbb8184ce79679f120a7885dae": {
      "model_module": "@jupyter-widgets/controls",
      "model_module_version": "1.5.0",
      "model_name": "ButtonModel",
      "state": {
       "description": "Reveal answer",
       "layout": "IPY_MODEL_223f2e095b8942e8b0d29b0a00ea9cd9",
       "style": "IPY_MODEL_06c1baa44f7a445c9e7821cf942e5891"
      }
     },
     "4974ea13f05e44cc980f484341976430": {
      "model_module": "@jupyter-widgets/controls",
      "model_module_version": "1.5.0",
      "model_name": "ButtonStyleModel",
      "state": {}
     },
     "4a15a852627a470585422ad3dfd2b2df": {
      "model_module": "@jupyter-widgets/output",
      "model_module_version": "1.0.0",
      "model_name": "OutputModel",
      "state": {
       "layout": "IPY_MODEL_b2d9a56fe7e948f187e63ea147d82324",
       "outputs": [
        {
         "data": {
          "application/vnd.jupyter.widget-view+json": {
           "model_id": "8332caf00a4b40588a86b5799b726522",
           "version_major": 2,
           "version_minor": 0
          },
          "text/plain": "Button(description='Reveal solution', style=ButtonStyle())"
         },
         "metadata": {},
         "output_type": "display_data"
        }
       ]
      }
     },
     "4a584cedc54844bb8662bd21b0c5a03f": {
      "model_module": "@jupyter-widgets/controls",
      "model_module_version": "1.5.0",
      "model_name": "ButtonModel",
      "state": {
       "description": "Reveal solution",
       "layout": "IPY_MODEL_a8ee6f412dbd4910bc8a8129fe5d7895",
       "style": "IPY_MODEL_3704769b443c4eb89d46d47ad35aaeba"
      }
     },
     "4b7601eec4b649d49a6824a86b704c88": {
      "model_module": "@jupyter-widgets/controls",
      "model_module_version": "1.5.0",
      "model_name": "ButtonModel",
      "state": {
       "description": "Reveal answer",
       "layout": "IPY_MODEL_223068136cdb426d98431cce8e222d38",
       "style": "IPY_MODEL_2407481c90994027940e4916f5701933"
      }
     },
     "4c376f4aee7044a68dffa15a88c687c6": {
      "model_module": "@jupyter-widgets/controls",
      "model_module_version": "1.5.0",
      "model_name": "ButtonModel",
      "state": {
       "description": "Reveal answer",
       "layout": "IPY_MODEL_0362cb671e934906a3138d4d894e22cd",
       "style": "IPY_MODEL_62268a9420bc40698fa15d9511ca4ccd"
      }
     },
     "4c40280d315045ef8f8f5ea6d3c90189": {
      "model_module": "@jupyter-widgets/base",
      "model_module_version": "1.2.0",
      "model_name": "LayoutModel",
      "state": {}
     },
     "4de71e16fbbe49ae99ce1215b6ccf258": {
      "model_module": "@jupyter-widgets/base",
      "model_module_version": "1.2.0",
      "model_name": "LayoutModel",
      "state": {
       "border": "1px solid green"
      }
     },
     "4ef5fd0ea3e247fea5c1b2479cc63665": {
      "model_module": "@jupyter-widgets/output",
      "model_module_version": "1.0.0",
      "model_name": "OutputModel",
      "state": {
       "layout": "IPY_MODEL_60f07715cde44b598846ae0caa65931c"
      }
     },
     "4efe3931587c414688e9a23e17bbe234": {
      "model_module": "@jupyter-widgets/controls",
      "model_module_version": "1.5.0",
      "model_name": "ButtonModel",
      "state": {
       "description": "Reveal solution",
       "layout": "IPY_MODEL_903a3388612e48f29e4257821225a8c3",
       "style": "IPY_MODEL_d37ee70f3e32489fa401850aa6691310"
      }
     },
     "4f1b63df33274986ae4ea9cce08f956b": {
      "model_module": "@jupyter-widgets/controls",
      "model_module_version": "1.5.0",
      "model_name": "ButtonModel",
      "state": {
       "description": "Reveal solution",
       "layout": "IPY_MODEL_a8cca7118dbe4ad58798489d186047cf",
       "style": "IPY_MODEL_5d611bd47a2e40ed84bc532caa79fd16"
      }
     },
     "5062c90927ea4a82b8f0edbbb015dec8": {
      "model_module": "@jupyter-widgets/base",
      "model_module_version": "1.2.0",
      "model_name": "LayoutModel",
      "state": {
       "border": "1px solid green"
      }
     },
     "512341a40688469d8e15195e0e97a843": {
      "model_module": "@jupyter-widgets/output",
      "model_module_version": "1.0.0",
      "model_name": "OutputModel",
      "state": {
       "layout": "IPY_MODEL_5e7f4241c67e478f82f1eea448af6fa0",
       "outputs": [
        {
         "data": {
          "application/vnd.jupyter.widget-view+json": {
           "model_id": "63e0491d199146ddb5d1667a25d91525",
           "version_major": 2,
           "version_minor": 0
          },
          "text/plain": "Button(description='Reveal solution', style=ButtonStyle())"
         },
         "metadata": {},
         "output_type": "display_data"
        }
       ]
      }
     },
     "51715fc3becb4721a8479bcce544e4de": {
      "model_module": "@jupyter-widgets/base",
      "model_module_version": "1.2.0",
      "model_name": "LayoutModel",
      "state": {}
     },
     "52337032c34a4d73a056312b379d05c1": {
      "model_module": "@jupyter-widgets/controls",
      "model_module_version": "1.5.0",
      "model_name": "ButtonModel",
      "state": {
       "description": "Reveal solution",
       "layout": "IPY_MODEL_ca45ce84f2544bddbc85b0a46a610f58",
       "style": "IPY_MODEL_83af22de943947b0864715a9761ddb15"
      }
     },
     "5266f7f31249431d9228120243bf1cb1": {
      "model_module": "@jupyter-widgets/base",
      "model_module_version": "1.2.0",
      "model_name": "LayoutModel",
      "state": {}
     },
     "54281bb9b34042c8a3cdf09157abe736": {
      "model_module": "@jupyter-widgets/base",
      "model_module_version": "1.2.0",
      "model_name": "LayoutModel",
      "state": {
       "border": "1px solid green"
      }
     },
     "549a4644d3974161a5ea078c524fe4f0": {
      "model_module": "@jupyter-widgets/controls",
      "model_module_version": "1.5.0",
      "model_name": "ButtonStyleModel",
      "state": {}
     },
     "57702941df63459cacf2fd079030b709": {
      "model_module": "@jupyter-widgets/controls",
      "model_module_version": "1.5.0",
      "model_name": "ButtonStyleModel",
      "state": {}
     },
     "5817be0005474038b48defc5d182db41": {
      "model_module": "@jupyter-widgets/base",
      "model_module_version": "1.2.0",
      "model_name": "LayoutModel",
      "state": {
       "border": "1px solid green"
      }
     },
     "5a551a007978420f80f92bf6806ad61c": {
      "model_module": "@jupyter-widgets/controls",
      "model_module_version": "1.5.0",
      "model_name": "ButtonStyleModel",
      "state": {}
     },
     "5ad29a61eb924353be0ccf3914e6c7d0": {
      "model_module": "@jupyter-widgets/base",
      "model_module_version": "1.2.0",
      "model_name": "LayoutModel",
      "state": {
       "border": "1px solid green"
      }
     },
     "5bb813c4e218412680781450155307ac": {
      "model_module": "@jupyter-widgets/output",
      "model_module_version": "1.0.0",
      "model_name": "OutputModel",
      "state": {
       "layout": "IPY_MODEL_09a5e94ed7f04a52bc9c7a7c1a6a8951"
      }
     },
     "5c92e96a478a48d49cc9fa59e4724a37": {
      "model_module": "@jupyter-widgets/output",
      "model_module_version": "1.0.0",
      "model_name": "OutputModel",
      "state": {
       "layout": "IPY_MODEL_0c4135551b0049c4813aa7393c67b635",
       "outputs": [
        {
         "data": {
          "text/html": "<style>.output_html .hll { background-color: #ffffcc }\n.output_html  { background: #f8f8f8; }\n.output_html .c { color: #408080; font-style: italic } /* Comment */\n.output_html .err { border: 1px solid #FF0000 } /* Error */\n.output_html .k { color: #008000; font-weight: bold } /* Keyword */\n.output_html .o { color: #666666 } /* Operator */\n.output_html .ch { color: #408080; font-style: italic } /* Comment.Hashbang */\n.output_html .cm { color: #408080; font-style: italic } /* Comment.Multiline */\n.output_html .cp { color: #BC7A00 } /* Comment.Preproc */\n.output_html .cpf { color: #408080; font-style: italic } /* Comment.PreprocFile */\n.output_html .c1 { color: #408080; font-style: italic } /* Comment.Single */\n.output_html .cs { color: #408080; font-style: italic } /* Comment.Special */\n.output_html .gd { color: #A00000 } /* Generic.Deleted */\n.output_html .ge { font-style: italic } /* Generic.Emph */\n.output_html .gr { color: #FF0000 } /* Generic.Error */\n.output_html .gh { color: #000080; font-weight: bold } /* Generic.Heading */\n.output_html .gi { color: #00A000 } /* Generic.Inserted */\n.output_html .go { color: #888888 } /* Generic.Output */\n.output_html .gp { color: #000080; font-weight: bold } /* Generic.Prompt */\n.output_html .gs { font-weight: bold } /* Generic.Strong */\n.output_html .gu { color: #800080; font-weight: bold } /* Generic.Subheading */\n.output_html .gt { color: #0044DD } /* Generic.Traceback */\n.output_html .kc { color: #008000; font-weight: bold } /* Keyword.Constant */\n.output_html .kd { color: #008000; font-weight: bold } /* Keyword.Declaration */\n.output_html .kn { color: #008000; font-weight: bold } /* Keyword.Namespace */\n.output_html .kp { color: #008000 } /* Keyword.Pseudo */\n.output_html .kr { color: #008000; font-weight: bold } /* Keyword.Reserved */\n.output_html .kt { color: #B00040 } /* Keyword.Type */\n.output_html .m { color: #666666 } /* Literal.Number */\n.output_html .s { color: #BA2121 } /* Literal.String */\n.output_html .na { color: #7D9029 } /* Name.Attribute */\n.output_html .nb { color: #008000 } /* Name.Builtin */\n.output_html .nc { color: #0000FF; font-weight: bold } /* Name.Class */\n.output_html .no { color: #880000 } /* Name.Constant */\n.output_html .nd { color: #AA22FF } /* Name.Decorator */\n.output_html .ni { color: #999999; font-weight: bold } /* Name.Entity */\n.output_html .ne { color: #D2413A; font-weight: bold } /* Name.Exception */\n.output_html .nf { color: #0000FF } /* Name.Function */\n.output_html .nl { color: #A0A000 } /* Name.Label */\n.output_html .nn { color: #0000FF; font-weight: bold } /* Name.Namespace */\n.output_html .nt { color: #008000; font-weight: bold } /* Name.Tag */\n.output_html .nv { color: #19177C } /* Name.Variable */\n.output_html .ow { color: #AA22FF; font-weight: bold } /* Operator.Word */\n.output_html .w { color: #bbbbbb } /* Text.Whitespace */\n.output_html .mb { color: #666666 } /* Literal.Number.Bin */\n.output_html .mf { color: #666666 } /* Literal.Number.Float */\n.output_html .mh { color: #666666 } /* Literal.Number.Hex */\n.output_html .mi { color: #666666 } /* Literal.Number.Integer */\n.output_html .mo { color: #666666 } /* Literal.Number.Oct */\n.output_html .sa { color: #BA2121 } /* Literal.String.Affix */\n.output_html .sb { color: #BA2121 } /* Literal.String.Backtick */\n.output_html .sc { color: #BA2121 } /* Literal.String.Char */\n.output_html .dl { color: #BA2121 } /* Literal.String.Delimiter */\n.output_html .sd { color: #BA2121; font-style: italic } /* Literal.String.Doc */\n.output_html .s2 { color: #BA2121 } /* Literal.String.Double */\n.output_html .se { color: #BB6622; font-weight: bold } /* Literal.String.Escape */\n.output_html .sh { color: #BA2121 } /* Literal.String.Heredoc */\n.output_html .si { color: #BB6688; font-weight: bold } /* Literal.String.Interpol */\n.output_html .sx { color: #008000 } /* Literal.String.Other */\n.output_html .sr { color: #BB6688 } /* Literal.String.Regex */\n.output_html .s1 { color: #BA2121 } /* Literal.String.Single */\n.output_html .ss { color: #19177C } /* Literal.String.Symbol */\n.output_html .bp { color: #008000 } /* Name.Builtin.Pseudo */\n.output_html .fm { color: #0000FF } /* Name.Function.Magic */\n.output_html .vc { color: #19177C } /* Name.Variable.Class */\n.output_html .vg { color: #19177C } /* Name.Variable.Global */\n.output_html .vi { color: #19177C } /* Name.Variable.Instance */\n.output_html .vm { color: #19177C } /* Name.Variable.Magic */\n.output_html .il { color: #666666 } /* Literal.Number.Integer.Long */</style><div class=\"highlight\"><pre><span></span><span class=\"kn\">import</span> <span class=\"nn\">ipywidgets</span> <span class=\"k\">as</span> <span class=\"nn\">widgets</span>\n\n<span class=\"n\">accordion</span> <span class=\"o\">=</span> <span class=\"n\">widgets</span><span class=\"o\">.</span><span class=\"n\">Accordion</span><span class=\"p\">(</span><span class=\"n\">children</span><span class=\"o\">=</span><span class=\"p\">[</span><span class=\"n\">widgets</span><span class=\"o\">.</span><span class=\"n\">Text</span><span class=\"p\">(</span><span class=\"s1\">&#39;This is the answer for Q1&#39;</span><span class=\"p\">),</span>\n                                        <span class=\"n\">widgets</span><span class=\"o\">.</span><span class=\"n\">Text</span><span class=\"p\">(</span><span class=\"s1\">&#39;Answer for Q2&#39;</span><span class=\"p\">)],</span>\n                              <span class=\"n\">selected_index</span><span class=\"o\">=</span><span class=\"kc\">None</span><span class=\"p\">)</span>\n<span class=\"n\">accordion</span><span class=\"o\">.</span><span class=\"n\">set_title</span><span class=\"p\">(</span><span class=\"mi\">0</span><span class=\"p\">,</span> <span class=\"s1\">&#39;test 1&#39;</span><span class=\"p\">)</span>\n<span class=\"n\">display</span><span class=\"p\">(</span><span class=\"n\">accordion</span><span class=\"p\">)</span>\n</pre></div>\n",
          "text/latex": "\\begin{Verbatim}[commandchars=\\\\\\{\\}]\n\\PY{k+kn}{import} \\PY{n+nn}{ipywidgets} \\PY{k}{as} \\PY{n+nn}{widgets}\n\n\\PY{n}{accordion} \\PY{o}{=} \\PY{n}{widgets}\\PY{o}{.}\\PY{n}{Accordion}\\PY{p}{(}\\PY{n}{children}\\PY{o}{=}\\PY{p}{[}\\PY{n}{widgets}\\PY{o}{.}\\PY{n}{Text}\\PY{p}{(}\\PY{l+s+s1}{\\PYZsq{}}\\PY{l+s+s1}{This is the answer for Q1}\\PY{l+s+s1}{\\PYZsq{}}\\PY{p}{)}\\PY{p}{,}\n                                        \\PY{n}{widgets}\\PY{o}{.}\\PY{n}{Text}\\PY{p}{(}\\PY{l+s+s1}{\\PYZsq{}}\\PY{l+s+s1}{Answer for Q2}\\PY{l+s+s1}{\\PYZsq{}}\\PY{p}{)}\\PY{p}{]}\\PY{p}{,}\n                              \\PY{n}{selected\\PYZus{}index}\\PY{o}{=}\\PY{k+kc}{None}\\PY{p}{)}\n\\PY{n}{accordion}\\PY{o}{.}\\PY{n}{set\\PYZus{}title}\\PY{p}{(}\\PY{l+m+mi}{0}\\PY{p}{,} \\PY{l+s+s1}{\\PYZsq{}}\\PY{l+s+s1}{test 1}\\PY{l+s+s1}{\\PYZsq{}}\\PY{p}{)}\n\\PY{n}{display}\\PY{p}{(}\\PY{n}{accordion}\\PY{p}{)}\n\\end{Verbatim}\n",
          "text/plain": "import ipywidgets as widgets\n\naccordion = widgets.Accordion(children=[widgets.Text('This is the answer for Q1'),\n                                        widgets.Text('Answer for Q2')],\n                              selected_index=None)\naccordion.set_title(0, 'test 1')\ndisplay(accordion)\n"
         },
         "metadata": {},
         "output_type": "display_data"
        }
       ]
      }
     },
     "5ca3ae5d0beb40e1ae5bf77755142cd7": {
      "model_module": "@jupyter-widgets/output",
      "model_module_version": "1.0.0",
      "model_name": "OutputModel",
      "state": {
       "layout": "IPY_MODEL_df8b05358180486487813c1879db6fdf"
      }
     },
     "5d611bd47a2e40ed84bc532caa79fd16": {
      "model_module": "@jupyter-widgets/controls",
      "model_module_version": "1.5.0",
      "model_name": "ButtonStyleModel",
      "state": {}
     },
     "5e00c13284af495ca2bd784a533f2782": {
      "model_module": "@jupyter-widgets/controls",
      "model_module_version": "1.5.0",
      "model_name": "ButtonModel",
      "state": {
       "description": "Reveal answer",
       "layout": "IPY_MODEL_1484438ebc6f41d3ba26872700ec2ccb",
       "style": "IPY_MODEL_47192f6e21ee456b8d2aed72186e3f04"
      }
     },
     "5e7f4241c67e478f82f1eea448af6fa0": {
      "model_module": "@jupyter-widgets/base",
      "model_module_version": "1.2.0",
      "model_name": "LayoutModel",
      "state": {}
     },
     "5e9a66aa241e45a8b2f32cf382bd8a52": {
      "model_module": "@jupyter-widgets/controls",
      "model_module_version": "1.5.0",
      "model_name": "ButtonModel",
      "state": {
       "description": "Reveal solution",
       "layout": "IPY_MODEL_480c4df08a2f4d318bd03111140ee318",
       "style": "IPY_MODEL_57702941df63459cacf2fd079030b709"
      }
     },
     "5ea4ad6a795b4cde98eec457fabaf5ab": {
      "model_module": "@jupyter-widgets/output",
      "model_module_version": "1.0.0",
      "model_name": "OutputModel",
      "state": {
       "layout": "IPY_MODEL_fec0d5b2303f433d8b4b79a727a39b46"
      }
     },
     "5edbfa5890ea4b9ca6aefac70caff57f": {
      "model_module": "@jupyter-widgets/base",
      "model_module_version": "1.2.0",
      "model_name": "LayoutModel",
      "state": {}
     },
     "60b4ddfd1d7e43f7b30f257565282998": {
      "model_module": "@jupyter-widgets/base",
      "model_module_version": "1.2.0",
      "model_name": "LayoutModel",
      "state": {}
     },
     "60d148a7fe4940939ec832561d11fcb2": {
      "model_module": "@jupyter-widgets/output",
      "model_module_version": "1.0.0",
      "model_name": "OutputModel",
      "state": {
       "layout": "IPY_MODEL_24502714ac3142c380aa717ea5414ca3",
       "outputs": [
        {
         "data": {
          "application/vnd.jupyter.widget-view+json": {
           "model_id": "470d1d139ed8493f91b17379187fed05",
           "version_major": 2,
           "version_minor": 0
          },
          "text/plain": "Button(description='Reveal solution', style=ButtonStyle())"
         },
         "metadata": {},
         "output_type": "display_data"
        }
       ]
      }
     },
     "60f07715cde44b598846ae0caa65931c": {
      "model_module": "@jupyter-widgets/base",
      "model_module_version": "1.2.0",
      "model_name": "LayoutModel",
      "state": {
       "border": "1px solid green"
      }
     },
     "62268a9420bc40698fa15d9511ca4ccd": {
      "model_module": "@jupyter-widgets/controls",
      "model_module_version": "1.5.0",
      "model_name": "ButtonStyleModel",
      "state": {}
     },
     "6231d6202ffc4efb9120305a5c8f56c1": {
      "model_module": "@jupyter-widgets/base",
      "model_module_version": "1.2.0",
      "model_name": "LayoutModel",
      "state": {
       "border": "1px solid green"
      }
     },
     "62420e413e4340869de2d71e15430588": {
      "model_module": "@jupyter-widgets/output",
      "model_module_version": "1.0.0",
      "model_name": "OutputModel",
      "state": {
       "layout": "IPY_MODEL_aa51ffebd4cc4dfbb8c6b64dad7cde2b"
      }
     },
     "6283b8e3f5c441669b567fadef56b8c7": {
      "model_module": "@jupyter-widgets/controls",
      "model_module_version": "1.5.0",
      "model_name": "ButtonStyleModel",
      "state": {}
     },
     "62a7da19659d4f21bb2defac2f7ceb19": {
      "model_module": "@jupyter-widgets/base",
      "model_module_version": "1.2.0",
      "model_name": "LayoutModel",
      "state": {}
     },
     "63cdb2a41b8a4830beb02a04dd6d13a0": {
      "model_module": "@jupyter-widgets/controls",
      "model_module_version": "1.5.0",
      "model_name": "ButtonModel",
      "state": {
       "description": "Reveal solution",
       "layout": "IPY_MODEL_39f24b90add3410d94c41314015d4378",
       "style": "IPY_MODEL_fc4a5602a4b848c5824b9ac448bfa8d8"
      }
     },
     "63e0491d199146ddb5d1667a25d91525": {
      "model_module": "@jupyter-widgets/controls",
      "model_module_version": "1.5.0",
      "model_name": "ButtonModel",
      "state": {
       "description": "Reveal solution",
       "layout": "IPY_MODEL_0b90262bd1664e33851dfe35d60f815a",
       "style": "IPY_MODEL_2efd179aabfd4739a837f794ecbe9611"
      }
     },
     "63fc17b282f14e9b9a6ac2efe9fedceb": {
      "model_module": "@jupyter-widgets/controls",
      "model_module_version": "1.5.0",
      "model_name": "ButtonModel",
      "state": {
       "description": "Reveal solution",
       "layout": "IPY_MODEL_7bd9e9745245429f894cc777d159cab8",
       "style": "IPY_MODEL_4974ea13f05e44cc980f484341976430"
      }
     },
     "64eef49d09644fe3bb7669acc98eae80": {
      "model_module": "@jupyter-widgets/controls",
      "model_module_version": "1.5.0",
      "model_name": "ButtonStyleModel",
      "state": {}
     },
     "64f5fec9be3c4f98980948d623a32465": {
      "model_module": "@jupyter-widgets/controls",
      "model_module_version": "1.5.0",
      "model_name": "ButtonModel",
      "state": {
       "description": "Reveal solution",
       "layout": "IPY_MODEL_d7163f8a9dcf4e939a99bd4f9d3c8d47",
       "style": "IPY_MODEL_dea2ab8e0f2347a2a172e6cd14479748"
      }
     },
     "66befbf70164401eb652b3bd40655ee7": {
      "model_module": "@jupyter-widgets/controls",
      "model_module_version": "1.5.0",
      "model_name": "ButtonModel",
      "state": {
       "description": "Reveal solution",
       "layout": "IPY_MODEL_7abb72732c38443fb869968cc1123d9d",
       "style": "IPY_MODEL_25f809f320c54d7e8ab50f2827f787d1"
      }
     },
     "67f4427eb53e49af894310f58c99297d": {
      "model_module": "@jupyter-widgets/controls",
      "model_module_version": "1.5.0",
      "model_name": "ButtonStyleModel",
      "state": {}
     },
     "6847d877a2774cb39031bc0d8fb4dcbd": {
      "model_module": "@jupyter-widgets/base",
      "model_module_version": "1.2.0",
      "model_name": "LayoutModel",
      "state": {}
     },
     "6a5c834d857f42f4adb40cb3e366e52a": {
      "model_module": "@jupyter-widgets/base",
      "model_module_version": "1.2.0",
      "model_name": "LayoutModel",
      "state": {
       "border": "1px solid green"
      }
     },
     "6be626e5315b49db8cedb4a4bbbf7772": {
      "model_module": "@jupyter-widgets/controls",
      "model_module_version": "1.5.0",
      "model_name": "ButtonModel",
      "state": {
       "description": "Reveal solution",
       "layout": "IPY_MODEL_6847d877a2774cb39031bc0d8fb4dcbd",
       "style": "IPY_MODEL_797f2771125845668eb1a58163a18ae5"
      }
     },
     "6c1eeabd93164a4398f921c0f6110643": {
      "model_module": "@jupyter-widgets/controls",
      "model_module_version": "1.5.0",
      "model_name": "ButtonStyleModel",
      "state": {}
     },
     "6d04d85e31524f4c95a8d0389cc6f413": {
      "model_module": "@jupyter-widgets/base",
      "model_module_version": "1.2.0",
      "model_name": "LayoutModel",
      "state": {
       "border": "1px solid green"
      }
     },
     "6e39c5ef6b7441d38e3bf6cfdbd347d7": {
      "model_module": "@jupyter-widgets/base",
      "model_module_version": "1.2.0",
      "model_name": "LayoutModel",
      "state": {
       "border": "1px solid green"
      }
     },
     "6eaac5f8eea44f49b3309c657b8b8fa7": {
      "model_module": "@jupyter-widgets/controls",
      "model_module_version": "1.5.0",
      "model_name": "ButtonModel",
      "state": {
       "description": "Reveal solution",
       "layout": "IPY_MODEL_d4d4e9a216e34ac29409e19f97e3a78f",
       "style": "IPY_MODEL_8b505d0117fa4e1aaa9e0f085d5a67db"
      }
     },
     "70068ec0ceb34c799c1a7ce7d1ea46e2": {
      "model_module": "@jupyter-widgets/base",
      "model_module_version": "1.2.0",
      "model_name": "LayoutModel",
      "state": {
       "border": "1px solid green"
      }
     },
     "7099bea4670f40f29655f593ac94085a": {
      "model_module": "@jupyter-widgets/base",
      "model_module_version": "1.2.0",
      "model_name": "LayoutModel",
      "state": {
       "border": "1px solid green"
      }
     },
     "7134546298124388a0c5378fc377a1b3": {
      "model_module": "@jupyter-widgets/output",
      "model_module_version": "1.0.0",
      "model_name": "OutputModel",
      "state": {
       "layout": "IPY_MODEL_027f1b16dcac4eefaea5e56d9e18229f"
      }
     },
     "71aadd8eae69424d94585b846aadc9c6": {
      "model_module": "@jupyter-widgets/base",
      "model_module_version": "1.2.0",
      "model_name": "LayoutModel",
      "state": {}
     },
     "728d889fd83f403680fbf7d508847133": {
      "model_module": "@jupyter-widgets/base",
      "model_module_version": "1.2.0",
      "model_name": "LayoutModel",
      "state": {
       "border": "1px solid green"
      }
     },
     "7546a95f186445048e5903a9718c0a60": {
      "model_module": "@jupyter-widgets/controls",
      "model_module_version": "1.5.0",
      "model_name": "ButtonModel",
      "state": {
       "description": "Reveal solution",
       "layout": "IPY_MODEL_2a4de6ac20cd4bc28cb06c4e3ae37081",
       "style": "IPY_MODEL_daef895b042d41fdbb43b5a3a7c0ecdd"
      }
     },
     "7550334482554867a02b100b698f8138": {
      "model_module": "@jupyter-widgets/output",
      "model_module_version": "1.0.0",
      "model_name": "OutputModel",
      "state": {
       "layout": "IPY_MODEL_b71d4da10dde4e9085a31ebc79b1288b"
      }
     },
     "7578bd0818d24d35834a3a1488220cfa": {
      "model_module": "@jupyter-widgets/base",
      "model_module_version": "1.2.0",
      "model_name": "LayoutModel",
      "state": {}
     },
     "76e45030b9954e5e9dca2c03e6df084e": {
      "model_module": "@jupyter-widgets/controls",
      "model_module_version": "1.5.0",
      "model_name": "ButtonStyleModel",
      "state": {}
     },
     "772f694dddcb4ee98d20c48076c3d8fd": {
      "model_module": "@jupyter-widgets/output",
      "model_module_version": "1.0.0",
      "model_name": "OutputModel",
      "state": {
       "layout": "IPY_MODEL_d9e347efe7874529b58c2a29cb4642a9"
      }
     },
     "77dad3c06bf74acd9085540164648a11": {
      "model_module": "@jupyter-widgets/base",
      "model_module_version": "1.2.0",
      "model_name": "LayoutModel",
      "state": {
       "border": "1px solid green"
      }
     },
     "784c21bbdf8044768442700b0004ed1e": {
      "model_module": "@jupyter-widgets/base",
      "model_module_version": "1.2.0",
      "model_name": "LayoutModel",
      "state": {}
     },
     "797f2771125845668eb1a58163a18ae5": {
      "model_module": "@jupyter-widgets/controls",
      "model_module_version": "1.5.0",
      "model_name": "ButtonStyleModel",
      "state": {}
     },
     "79a8bb5ce85e4047b96563cff29f32cb": {
      "model_module": "@jupyter-widgets/base",
      "model_module_version": "1.2.0",
      "model_name": "LayoutModel",
      "state": {}
     },
     "7abb72732c38443fb869968cc1123d9d": {
      "model_module": "@jupyter-widgets/base",
      "model_module_version": "1.2.0",
      "model_name": "LayoutModel",
      "state": {}
     },
     "7ad8507b5ce84b07b7e495528c334395": {
      "model_module": "@jupyter-widgets/base",
      "model_module_version": "1.2.0",
      "model_name": "LayoutModel",
      "state": {
       "border": "1px solid green"
      }
     },
     "7af6398283fb403c803ece868ec2b3dd": {
      "model_module": "@jupyter-widgets/controls",
      "model_module_version": "1.5.0",
      "model_name": "ButtonModel",
      "state": {
       "description": "Reveal solution",
       "layout": "IPY_MODEL_60b4ddfd1d7e43f7b30f257565282998",
       "style": "IPY_MODEL_e8f68355135c456fa8a14291d68a5490"
      }
     },
     "7b01d5ea1fef4847954e787aecf26873": {
      "model_module": "@jupyter-widgets/base",
      "model_module_version": "1.2.0",
      "model_name": "LayoutModel",
      "state": {}
     },
     "7bd9e9745245429f894cc777d159cab8": {
      "model_module": "@jupyter-widgets/base",
      "model_module_version": "1.2.0",
      "model_name": "LayoutModel",
      "state": {}
     },
     "7d82adac2a0a40059317c6a373b0d5dd": {
      "model_module": "@jupyter-widgets/controls",
      "model_module_version": "1.5.0",
      "model_name": "ButtonModel",
      "state": {
       "description": "Reveal solution",
       "layout": "IPY_MODEL_216baeddbf7445f7b2511cd7a0682116",
       "style": "IPY_MODEL_40c01eb1b06c4574bf4a40fc8bd1d5ae"
      }
     },
     "7d9adddcd1574572b2fe3f9b91ef490c": {
      "model_module": "@jupyter-widgets/base",
      "model_module_version": "1.2.0",
      "model_name": "LayoutModel",
      "state": {
       "border": "1px solid green"
      }
     },
     "7dff8f96dcd84e46a9a265dddb3229ed": {
      "model_module": "@jupyter-widgets/base",
      "model_module_version": "1.2.0",
      "model_name": "LayoutModel",
      "state": {
       "border": "1px solid green"
      }
     },
     "7f88ec1efcaa4c86b9bb4168169d0634": {
      "model_module": "@jupyter-widgets/controls",
      "model_module_version": "1.5.0",
      "model_name": "ButtonStyleModel",
      "state": {}
     },
     "80854a8c6f5d49aeb882fa2aba6e4547": {
      "model_module": "@jupyter-widgets/controls",
      "model_module_version": "1.5.0",
      "model_name": "ButtonStyleModel",
      "state": {}
     },
     "813061ce5d3c487492fd863624cec6f2": {
      "model_module": "@jupyter-widgets/base",
      "model_module_version": "1.2.0",
      "model_name": "LayoutModel",
      "state": {
       "border": "1px solid green"
      }
     },
     "81ad7e15bc774124b6dd9a4bd301bad6": {
      "model_module": "@jupyter-widgets/output",
      "model_module_version": "1.0.0",
      "model_name": "OutputModel",
      "state": {
       "layout": "IPY_MODEL_e2a187c11c3a452196d38b8c1e49bbf7"
      }
     },
     "82975208a8e847db992c5942e5a2aa04": {
      "model_module": "@jupyter-widgets/base",
      "model_module_version": "1.2.0",
      "model_name": "LayoutModel",
      "state": {}
     },
     "82f512bc78454ffc957914c1400e1008": {
      "model_module": "@jupyter-widgets/controls",
      "model_module_version": "1.5.0",
      "model_name": "ButtonModel",
      "state": {
       "description": "Reveal solution",
       "layout": "IPY_MODEL_d4eb8facfd5f4834b8dc1d2156668423",
       "style": "IPY_MODEL_76e45030b9954e5e9dca2c03e6df084e"
      }
     },
     "8332caf00a4b40588a86b5799b726522": {
      "model_module": "@jupyter-widgets/controls",
      "model_module_version": "1.5.0",
      "model_name": "ButtonModel",
      "state": {
       "description": "Reveal solution",
       "layout": "IPY_MODEL_c1a67f0e0e094606a02b4afa00e9cb99",
       "style": "IPY_MODEL_141bf8a6e8ce4d2eb03630f14ecae560"
      }
     },
     "83835810c5e34f3db4fbac34d88c8219": {
      "model_module": "@jupyter-widgets/base",
      "model_module_version": "1.2.0",
      "model_name": "LayoutModel",
      "state": {}
     },
     "83af22de943947b0864715a9761ddb15": {
      "model_module": "@jupyter-widgets/controls",
      "model_module_version": "1.5.0",
      "model_name": "ButtonStyleModel",
      "state": {}
     },
     "8524900ccc3b44f1a803123daefd5480": {
      "model_module": "@jupyter-widgets/base",
      "model_module_version": "1.2.0",
      "model_name": "LayoutModel",
      "state": {
       "border": "1px solid green"
      }
     },
     "85bdd8a9589442cc91e8574cb4baf943": {
      "model_module": "@jupyter-widgets/output",
      "model_module_version": "1.0.0",
      "model_name": "OutputModel",
      "state": {
       "layout": "IPY_MODEL_185e6b16072948f2ad8156572248ecb3"
      }
     },
     "8615ec16e78b46bb8a911044b5e5185b": {
      "model_module": "@jupyter-widgets/controls",
      "model_module_version": "1.5.0",
      "model_name": "ButtonModel",
      "state": {
       "description": "Reveal solution",
       "layout": "IPY_MODEL_bb17368733584cd098213d98157c5824",
       "style": "IPY_MODEL_8c5510fca37a404eaf333404f7abce0a"
      }
     },
     "877587934dbb44c5a15d968bb7501e9c": {
      "model_module": "@jupyter-widgets/output",
      "model_module_version": "1.0.0",
      "model_name": "OutputModel",
      "state": {
       "layout": "IPY_MODEL_8c6219831f754981b0f95dd7ac69ac34"
      }
     },
     "88b1e5ec1bb8434f88cea87d60a8dac1": {
      "model_module": "@jupyter-widgets/base",
      "model_module_version": "1.2.0",
      "model_name": "LayoutModel",
      "state": {
       "border": "1px solid green"
      }
     },
     "88cdd7bcdd90424a864e88e3fa9d5141": {
      "model_module": "@jupyter-widgets/base",
      "model_module_version": "1.2.0",
      "model_name": "LayoutModel",
      "state": {}
     },
     "89a96a03d0f14e5494661597558883e2": {
      "model_module": "@jupyter-widgets/controls",
      "model_module_version": "1.5.0",
      "model_name": "ButtonModel",
      "state": {
       "description": "Reveal solution",
       "layout": "IPY_MODEL_7b01d5ea1fef4847954e787aecf26873",
       "style": "IPY_MODEL_1541caeebd8a42d094ae1699c886df05"
      }
     },
     "89cbda6d064d46aca1f6de50520064de": {
      "model_module": "@jupyter-widgets/controls",
      "model_module_version": "1.5.0",
      "model_name": "ButtonModel",
      "state": {
       "description": "Reveal solution",
       "layout": "IPY_MODEL_79a8bb5ce85e4047b96563cff29f32cb",
       "style": "IPY_MODEL_39284deea5e846b79ebcb86e34f7b62c"
      }
     },
     "8a6f17a521a04d0c902a6dfa29df8b02": {
      "model_module": "@jupyter-widgets/output",
      "model_module_version": "1.0.0",
      "model_name": "OutputModel",
      "state": {
       "layout": "IPY_MODEL_2a3756ea1dfe477985a7cc9727d12a85"
      }
     },
     "8b505d0117fa4e1aaa9e0f085d5a67db": {
      "model_module": "@jupyter-widgets/controls",
      "model_module_version": "1.5.0",
      "model_name": "ButtonStyleModel",
      "state": {}
     },
     "8c5510fca37a404eaf333404f7abce0a": {
      "model_module": "@jupyter-widgets/controls",
      "model_module_version": "1.5.0",
      "model_name": "ButtonStyleModel",
      "state": {}
     },
     "8c6219831f754981b0f95dd7ac69ac34": {
      "model_module": "@jupyter-widgets/base",
      "model_module_version": "1.2.0",
      "model_name": "LayoutModel",
      "state": {
       "border": "1px solid green"
      }
     },
     "8cd22e170aba4adfa1c4c4f152c3e7e8": {
      "model_module": "@jupyter-widgets/base",
      "model_module_version": "1.2.0",
      "model_name": "LayoutModel",
      "state": {}
     },
     "8eb1174b69ee42188c7e64aea17f2189": {
      "model_module": "@jupyter-widgets/base",
      "model_module_version": "1.2.0",
      "model_name": "LayoutModel",
      "state": {}
     },
     "8f292428ba6a4e25a1954c7088021e6d": {
      "model_module": "@jupyter-widgets/controls",
      "model_module_version": "1.5.0",
      "model_name": "ButtonStyleModel",
      "state": {}
     },
     "903a3388612e48f29e4257821225a8c3": {
      "model_module": "@jupyter-widgets/base",
      "model_module_version": "1.2.0",
      "model_name": "LayoutModel",
      "state": {}
     },
     "9078a2f13a024070b76df837ba2da317": {
      "model_module": "@jupyter-widgets/controls",
      "model_module_version": "1.5.0",
      "model_name": "ButtonModel",
      "state": {
       "description": "Reveal answer",
       "layout": "IPY_MODEL_c86cc3a543ad44d9a36806133c4e96c8",
       "style": "IPY_MODEL_6c1eeabd93164a4398f921c0f6110643"
      }
     },
     "90b417c3ea8c4a4c8286cd836f2ff628": {
      "model_module": "@jupyter-widgets/output",
      "model_module_version": "1.0.0",
      "model_name": "OutputModel",
      "state": {
       "layout": "IPY_MODEL_6d04d85e31524f4c95a8d0389cc6f413"
      }
     },
     "90e5353037134f7593a938ded8b0d582": {
      "model_module": "@jupyter-widgets/output",
      "model_module_version": "1.0.0",
      "model_name": "OutputModel",
      "state": {
       "layout": "IPY_MODEL_7578bd0818d24d35834a3a1488220cfa",
       "outputs": [
        {
         "data": {
          "application/vnd.jupyter.widget-view+json": {
           "model_id": "fbbec5b66c954ce691a96fa0561b44e1",
           "version_major": 2,
           "version_minor": 0
          },
          "text/plain": "Button(description='Reveal answer', style=ButtonStyle())"
         },
         "metadata": {},
         "output_type": "display_data"
        }
       ]
      }
     },
     "919ec755efbf46c8adadcb5ed59918e5": {
      "model_module": "@jupyter-widgets/controls",
      "model_module_version": "1.5.0",
      "model_name": "ButtonStyleModel",
      "state": {}
     },
     "91e276c8cd0d45b18daec7478cbbaf87": {
      "model_module": "@jupyter-widgets/controls",
      "model_module_version": "1.5.0",
      "model_name": "ButtonStyleModel",
      "state": {}
     },
     "92bf66880f95421a917316db799ead51": {
      "model_module": "@jupyter-widgets/controls",
      "model_module_version": "1.5.0",
      "model_name": "ButtonStyleModel",
      "state": {}
     },
     "93ec254acd6a4755a168dd0ddcccebbb": {
      "model_module": "@jupyter-widgets/output",
      "model_module_version": "1.0.0",
      "model_name": "OutputModel",
      "state": {
       "layout": "IPY_MODEL_e0e74a245aa5404c97a54d5cd94d296c"
      }
     },
     "948fd956bbe740898c1650275a0f0b5d": {
      "model_module": "@jupyter-widgets/controls",
      "model_module_version": "1.5.0",
      "model_name": "ButtonStyleModel",
      "state": {}
     },
     "96ab4e86e41d47b182469ad7aade2e54": {
      "model_module": "@jupyter-widgets/controls",
      "model_module_version": "1.5.0",
      "model_name": "ButtonModel",
      "state": {
       "description": "Reveal solution",
       "layout": "IPY_MODEL_ded0195e65e34fe1804b9269a4f29267",
       "style": "IPY_MODEL_c624ddb199b34e9ebf6f6b58934f91a3"
      }
     },
     "98822c48be814867b7b048e7e402da4d": {
      "model_module": "@jupyter-widgets/base",
      "model_module_version": "1.2.0",
      "model_name": "LayoutModel",
      "state": {}
     },
     "999492534c0b4ee7aa1dabe80a3e467c": {
      "model_module": "@jupyter-widgets/output",
      "model_module_version": "1.0.0",
      "model_name": "OutputModel",
      "state": {
       "layout": "IPY_MODEL_e672bcf98b524a0eaa02bd152d9c78f7"
      }
     },
     "99956b5c009d48d2ba6120abdd8b2606": {
      "model_module": "@jupyter-widgets/base",
      "model_module_version": "1.2.0",
      "model_name": "LayoutModel",
      "state": {
       "border": "1px solid green"
      }
     },
     "99ac4eb185ef41f58992a99252b8a24d": {
      "model_module": "@jupyter-widgets/controls",
      "model_module_version": "1.5.0",
      "model_name": "ButtonStyleModel",
      "state": {}
     },
     "9ab3773778aa4b9d857c63408cb97236": {
      "model_module": "@jupyter-widgets/output",
      "model_module_version": "1.0.0",
      "model_name": "OutputModel",
      "state": {
       "layout": "IPY_MODEL_cdb99dce2eda4acbb4d211d70753fe0c"
      }
     },
     "9ae1e68e59d84d819c20893f86278290": {
      "model_module": "@jupyter-widgets/base",
      "model_module_version": "1.2.0",
      "model_name": "LayoutModel",
      "state": {}
     },
     "9b687b9e6f4a43a8b791612117430b57": {
      "model_module": "@jupyter-widgets/output",
      "model_module_version": "1.0.0",
      "model_name": "OutputModel",
      "state": {
       "layout": "IPY_MODEL_01c2c703f09a4d5bbc9efff1ae3afadc"
      }
     },
     "9ba26a10081543a99d38d28cfbb279f6": {
      "model_module": "@jupyter-widgets/controls",
      "model_module_version": "1.5.0",
      "model_name": "ButtonStyleModel",
      "state": {}
     },
     "9cdb5364a7a84adcbedc51d0f83e9793": {
      "model_module": "@jupyter-widgets/output",
      "model_module_version": "1.0.0",
      "model_name": "OutputModel",
      "state": {
       "layout": "IPY_MODEL_398b895af4cd4994a3bc1c1457e9486d",
       "outputs": [
        {
         "data": {
          "application/vnd.jupyter.widget-view+json": {
           "model_id": "d5d2fd9f8e17459ab0f27f47e2d833fd",
           "version_major": 2,
           "version_minor": 0
          },
          "text/plain": "Output()"
         },
         "metadata": {},
         "output_type": "display_data"
        }
       ]
      }
     },
     "9d329753c8d3468480cb7f954b1e2cb4": {
      "model_module": "@jupyter-widgets/base",
      "model_module_version": "1.2.0",
      "model_name": "LayoutModel",
      "state": {}
     },
     "9db3697cfaf741719e725497d5330405": {
      "model_module": "@jupyter-widgets/controls",
      "model_module_version": "1.5.0",
      "model_name": "ButtonModel",
      "state": {
       "description": "Reveal solution",
       "layout": "IPY_MODEL_cba37fb00f2844f488f236f938a225f7",
       "style": "IPY_MODEL_9ba26a10081543a99d38d28cfbb279f6"
      }
     },
     "9de618b120ab4d0b9e2081326c7d11b7": {
      "model_module": "@jupyter-widgets/base",
      "model_module_version": "1.2.0",
      "model_name": "LayoutModel",
      "state": {}
     },
     "9ed9aed8f45140d5afb57afa21d30245": {
      "model_module": "@jupyter-widgets/output",
      "model_module_version": "1.0.0",
      "model_name": "OutputModel",
      "state": {
       "layout": "IPY_MODEL_bf5ad3eeb1e34e3dbd49398d1e4429ce"
      }
     },
     "a0e189bdccf544b8bee2564f9036fcee": {
      "model_module": "@jupyter-widgets/base",
      "model_module_version": "1.2.0",
      "model_name": "LayoutModel",
      "state": {
       "border": "1px solid green"
      }
     },
     "a28c5c68f2c44d7785dec6cb100ddd89": {
      "model_module": "@jupyter-widgets/output",
      "model_module_version": "1.0.0",
      "model_name": "OutputModel",
      "state": {
       "layout": "IPY_MODEL_1c4abe58d9a5478eae6a7c0fe08888ff"
      }
     },
     "a28c6dd63fe2467f92e847026662f399": {
      "model_module": "@jupyter-widgets/base",
      "model_module_version": "1.2.0",
      "model_name": "LayoutModel",
      "state": {}
     },
     "a2cd7948b4c24abaac085be31828c557": {
      "model_module": "@jupyter-widgets/controls",
      "model_module_version": "1.5.0",
      "model_name": "ButtonModel",
      "state": {
       "description": "Reveal solution",
       "layout": "IPY_MODEL_9ae1e68e59d84d819c20893f86278290",
       "style": "IPY_MODEL_df18275882ee412a987b7db4e571f958"
      }
     },
     "a35622643f06492aa58b348f01f352fc": {
      "model_module": "@jupyter-widgets/output",
      "model_module_version": "1.0.0",
      "model_name": "OutputModel",
      "state": {
       "layout": "IPY_MODEL_f5f7774e224f4e188fa2948fb081ae8a"
      }
     },
     "a4358d16d3d84fcba9e18c7d7fe32095": {
      "model_module": "@jupyter-widgets/base",
      "model_module_version": "1.2.0",
      "model_name": "LayoutModel",
      "state": {
       "border": "1px solid green"
      }
     },
     "a448b7bbd86a46158b5ae5cdf4dbe23b": {
      "model_module": "@jupyter-widgets/output",
      "model_module_version": "1.0.0",
      "model_name": "OutputModel",
      "state": {
       "layout": "IPY_MODEL_ee50082d72a4441eb0444294ba726396"
      }
     },
     "a49a4e722115469483843f5cc66df7ea": {
      "model_module": "@jupyter-widgets/base",
      "model_module_version": "1.2.0",
      "model_name": "LayoutModel",
      "state": {
       "border": "1px solid green"
      }
     },
     "a6c9abcefddf488e81aa369690da81a3": {
      "model_module": "@jupyter-widgets/controls",
      "model_module_version": "1.5.0",
      "model_name": "ButtonStyleModel",
      "state": {}
     },
     "a6de95b34f394582953a5fb8cecae7cd": {
      "model_module": "@jupyter-widgets/controls",
      "model_module_version": "1.5.0",
      "model_name": "ButtonModel",
      "state": {
       "description": "Reveal answer",
       "layout": "IPY_MODEL_aed621511aab434b8b919042a642e48f",
       "style": "IPY_MODEL_99ac4eb185ef41f58992a99252b8a24d"
      }
     },
     "a8cca7118dbe4ad58798489d186047cf": {
      "model_module": "@jupyter-widgets/base",
      "model_module_version": "1.2.0",
      "model_name": "LayoutModel",
      "state": {}
     },
     "a8ee6f412dbd4910bc8a8129fe5d7895": {
      "model_module": "@jupyter-widgets/base",
      "model_module_version": "1.2.0",
      "model_name": "LayoutModel",
      "state": {}
     },
     "aa51aa06ee52480da3ba3c4459e2dcc2": {
      "model_module": "@jupyter-widgets/output",
      "model_module_version": "1.0.0",
      "model_name": "OutputModel",
      "state": {
       "layout": "IPY_MODEL_ec521a6518c34a14b16c95eda6307dfc"
      }
     },
     "aa51ffebd4cc4dfbb8c6b64dad7cde2b": {
      "model_module": "@jupyter-widgets/base",
      "model_module_version": "1.2.0",
      "model_name": "LayoutModel",
      "state": {
       "border": "1px solid green"
      }
     },
     "aa54ff297e9c46c3abc2ea4e2ddbffcf": {
      "model_module": "@jupyter-widgets/base",
      "model_module_version": "1.2.0",
      "model_name": "LayoutModel",
      "state": {}
     },
     "ab70b523e6204cdea40e0436ca67eb5d": {
      "model_module": "@jupyter-widgets/base",
      "model_module_version": "1.2.0",
      "model_name": "LayoutModel",
      "state": {
       "border": "1px solid green"
      }
     },
     "ab8d0284ab014824a3b2ae3d2ebf6be9": {
      "model_module": "@jupyter-widgets/output",
      "model_module_version": "1.0.0",
      "model_name": "OutputModel",
      "state": {
       "layout": "IPY_MODEL_2e4e9080e9f5483389cc08f615507761",
       "outputs": [
        {
         "data": {
          "text/html": "<style>.output_html .hll { background-color: #ffffcc }\n.output_html  { background: #f8f8f8; }\n.output_html .c { color: #408080; font-style: italic } /* Comment */\n.output_html .err { border: 1px solid #FF0000 } /* Error */\n.output_html .k { color: #008000; font-weight: bold } /* Keyword */\n.output_html .o { color: #666666 } /* Operator */\n.output_html .ch { color: #408080; font-style: italic } /* Comment.Hashbang */\n.output_html .cm { color: #408080; font-style: italic } /* Comment.Multiline */\n.output_html .cp { color: #BC7A00 } /* Comment.Preproc */\n.output_html .cpf { color: #408080; font-style: italic } /* Comment.PreprocFile */\n.output_html .c1 { color: #408080; font-style: italic } /* Comment.Single */\n.output_html .cs { color: #408080; font-style: italic } /* Comment.Special */\n.output_html .gd { color: #A00000 } /* Generic.Deleted */\n.output_html .ge { font-style: italic } /* Generic.Emph */\n.output_html .gr { color: #FF0000 } /* Generic.Error */\n.output_html .gh { color: #000080; font-weight: bold } /* Generic.Heading */\n.output_html .gi { color: #00A000 } /* Generic.Inserted */\n.output_html .go { color: #888888 } /* Generic.Output */\n.output_html .gp { color: #000080; font-weight: bold } /* Generic.Prompt */\n.output_html .gs { font-weight: bold } /* Generic.Strong */\n.output_html .gu { color: #800080; font-weight: bold } /* Generic.Subheading */\n.output_html .gt { color: #0044DD } /* Generic.Traceback */\n.output_html .kc { color: #008000; font-weight: bold } /* Keyword.Constant */\n.output_html .kd { color: #008000; font-weight: bold } /* Keyword.Declaration */\n.output_html .kn { color: #008000; font-weight: bold } /* Keyword.Namespace */\n.output_html .kp { color: #008000 } /* Keyword.Pseudo */\n.output_html .kr { color: #008000; font-weight: bold } /* Keyword.Reserved */\n.output_html .kt { color: #B00040 } /* Keyword.Type */\n.output_html .m { color: #666666 } /* Literal.Number */\n.output_html .s { color: #BA2121 } /* Literal.String */\n.output_html .na { color: #7D9029 } /* Name.Attribute */\n.output_html .nb { color: #008000 } /* Name.Builtin */\n.output_html .nc { color: #0000FF; font-weight: bold } /* Name.Class */\n.output_html .no { color: #880000 } /* Name.Constant */\n.output_html .nd { color: #AA22FF } /* Name.Decorator */\n.output_html .ni { color: #999999; font-weight: bold } /* Name.Entity */\n.output_html .ne { color: #D2413A; font-weight: bold } /* Name.Exception */\n.output_html .nf { color: #0000FF } /* Name.Function */\n.output_html .nl { color: #A0A000 } /* Name.Label */\n.output_html .nn { color: #0000FF; font-weight: bold } /* Name.Namespace */\n.output_html .nt { color: #008000; font-weight: bold } /* Name.Tag */\n.output_html .nv { color: #19177C } /* Name.Variable */\n.output_html .ow { color: #AA22FF; font-weight: bold } /* Operator.Word */\n.output_html .w { color: #bbbbbb } /* Text.Whitespace */\n.output_html .mb { color: #666666 } /* Literal.Number.Bin */\n.output_html .mf { color: #666666 } /* Literal.Number.Float */\n.output_html .mh { color: #666666 } /* Literal.Number.Hex */\n.output_html .mi { color: #666666 } /* Literal.Number.Integer */\n.output_html .mo { color: #666666 } /* Literal.Number.Oct */\n.output_html .sa { color: #BA2121 } /* Literal.String.Affix */\n.output_html .sb { color: #BA2121 } /* Literal.String.Backtick */\n.output_html .sc { color: #BA2121 } /* Literal.String.Char */\n.output_html .dl { color: #BA2121 } /* Literal.String.Delimiter */\n.output_html .sd { color: #BA2121; font-style: italic } /* Literal.String.Doc */\n.output_html .s2 { color: #BA2121 } /* Literal.String.Double */\n.output_html .se { color: #BB6622; font-weight: bold } /* Literal.String.Escape */\n.output_html .sh { color: #BA2121 } /* Literal.String.Heredoc */\n.output_html .si { color: #BB6688; font-weight: bold } /* Literal.String.Interpol */\n.output_html .sx { color: #008000 } /* Literal.String.Other */\n.output_html .sr { color: #BB6688 } /* Literal.String.Regex */\n.output_html .s1 { color: #BA2121 } /* Literal.String.Single */\n.output_html .ss { color: #19177C } /* Literal.String.Symbol */\n.output_html .bp { color: #008000 } /* Name.Builtin.Pseudo */\n.output_html .fm { color: #0000FF } /* Name.Function.Magic */\n.output_html .vc { color: #19177C } /* Name.Variable.Class */\n.output_html .vg { color: #19177C } /* Name.Variable.Global */\n.output_html .vi { color: #19177C } /* Name.Variable.Instance */\n.output_html .vm { color: #19177C } /* Name.Variable.Magic */\n.output_html .il { color: #666666 } /* Literal.Number.Integer.Long */</style><div class=\"highlight\"><pre><span></span><span class=\"kn\">import</span> <span class=\"nn\">ipywidgets</span> <span class=\"k\">as</span> <span class=\"nn\">widgets</span>\n\n<span class=\"n\">accordion</span> <span class=\"o\">=</span> <span class=\"n\">widgets</span><span class=\"o\">.</span><span class=\"n\">Accordion</span><span class=\"p\">(</span><span class=\"n\">children</span><span class=\"o\">=</span><span class=\"p\">[</span><span class=\"n\">widgets</span><span class=\"o\">.</span><span class=\"n\">Text</span><span class=\"p\">(</span><span class=\"s1\">&#39;This is the answer for Q1&#39;</span><span class=\"p\">),</span>\n                                        <span class=\"n\">widgets</span><span class=\"o\">.</span><span class=\"n\">Text</span><span class=\"p\">(</span><span class=\"s1\">&#39;Answer for Q2&#39;</span><span class=\"p\">)],</span>\n                              <span class=\"n\">selected_index</span><span class=\"o\">=</span><span class=\"kc\">None</span><span class=\"p\">)</span>\n<span class=\"n\">accordion</span><span class=\"o\">.</span><span class=\"n\">set_title</span><span class=\"p\">(</span><span class=\"mi\">0</span><span class=\"p\">,</span> <span class=\"s1\">&#39;test 1&#39;</span><span class=\"p\">)</span>\n<span class=\"n\">display</span><span class=\"p\">(</span><span class=\"n\">accordion</span><span class=\"p\">)</span>\n</pre></div>\n",
          "text/latex": "\\begin{Verbatim}[commandchars=\\\\\\{\\}]\n\\PY{k+kn}{import} \\PY{n+nn}{ipywidgets} \\PY{k}{as} \\PY{n+nn}{widgets}\n\n\\PY{n}{accordion} \\PY{o}{=} \\PY{n}{widgets}\\PY{o}{.}\\PY{n}{Accordion}\\PY{p}{(}\\PY{n}{children}\\PY{o}{=}\\PY{p}{[}\\PY{n}{widgets}\\PY{o}{.}\\PY{n}{Text}\\PY{p}{(}\\PY{l+s+s1}{\\PYZsq{}}\\PY{l+s+s1}{This is the answer for Q1}\\PY{l+s+s1}{\\PYZsq{}}\\PY{p}{)}\\PY{p}{,}\n                                        \\PY{n}{widgets}\\PY{o}{.}\\PY{n}{Text}\\PY{p}{(}\\PY{l+s+s1}{\\PYZsq{}}\\PY{l+s+s1}{Answer for Q2}\\PY{l+s+s1}{\\PYZsq{}}\\PY{p}{)}\\PY{p}{]}\\PY{p}{,}\n                              \\PY{n}{selected\\PYZus{}index}\\PY{o}{=}\\PY{k+kc}{None}\\PY{p}{)}\n\\PY{n}{accordion}\\PY{o}{.}\\PY{n}{set\\PYZus{}title}\\PY{p}{(}\\PY{l+m+mi}{0}\\PY{p}{,} \\PY{l+s+s1}{\\PYZsq{}}\\PY{l+s+s1}{test 1}\\PY{l+s+s1}{\\PYZsq{}}\\PY{p}{)}\n\\PY{n}{display}\\PY{p}{(}\\PY{n}{accordion}\\PY{p}{)}\n\\end{Verbatim}\n",
          "text/plain": "import ipywidgets as widgets\n\naccordion = widgets.Accordion(children=[widgets.Text('This is the answer for Q1'),\n                                        widgets.Text('Answer for Q2')],\n                              selected_index=None)\naccordion.set_title(0, 'test 1')\ndisplay(accordion)\n"
         },
         "metadata": {},
         "output_type": "display_data"
        }
       ]
      }
     },
     "abfc3e295b014dc9af93f94e3568e55d": {
      "model_module": "@jupyter-widgets/output",
      "model_module_version": "1.0.0",
      "model_name": "OutputModel",
      "state": {
       "layout": "IPY_MODEL_344321af46a4463b8efb5fb17119e63f"
      }
     },
     "ac37ccc75d384d4ba2d75f436cc92af3": {
      "model_module": "@jupyter-widgets/base",
      "model_module_version": "1.2.0",
      "model_name": "LayoutModel",
      "state": {
       "border": "1px solid green"
      }
     },
     "ac586e7b78f64214941bfd55899d45aa": {
      "model_module": "@jupyter-widgets/base",
      "model_module_version": "1.2.0",
      "model_name": "LayoutModel",
      "state": {
       "border": "1px solid green"
      }
     },
     "ac6340a16aa642a0b153dd73b9b4a235": {
      "model_module": "@jupyter-widgets/controls",
      "model_module_version": "1.5.0",
      "model_name": "ButtonModel",
      "state": {
       "description": "Reveal solution",
       "layout": "IPY_MODEL_d43f3f4bf6554783bae0f7e78fe567fc",
       "style": "IPY_MODEL_c8fe49c80cd7479b8c13e6565bd13efd"
      }
     },
     "acdb038d1fec4df7b4d850072da3f18c": {
      "model_module": "@jupyter-widgets/base",
      "model_module_version": "1.2.0",
      "model_name": "LayoutModel",
      "state": {
       "border": "1px solid green"
      }
     },
     "ace0f560fffd4470a05907bef34e6005": {
      "model_module": "@jupyter-widgets/output",
      "model_module_version": "1.0.0",
      "model_name": "OutputModel",
      "state": {
       "layout": "IPY_MODEL_d44a1b5c774d4d4bb2e4e768b6639faf",
       "outputs": [
        {
         "data": {
          "application/vnd.jupyter.widget-view+json": {
           "model_id": "89cbda6d064d46aca1f6de50520064de",
           "version_major": 2,
           "version_minor": 0
          },
          "text/plain": "Button(description='Reveal solution', style=ButtonStyle())"
         },
         "metadata": {},
         "output_type": "display_data"
        }
       ]
      }
     },
     "ae1ee120e5e548ecb6f3b71787d9cb24": {
      "model_module": "@jupyter-widgets/controls",
      "model_module_version": "1.5.0",
      "model_name": "ButtonModel",
      "state": {
       "description": "Reveal solution",
       "layout": "IPY_MODEL_fb70148f86fc4e379830686cdf2d560f",
       "style": "IPY_MODEL_f82226f480334fcf937a7d5355d53c83"
      }
     },
     "ae3257d4317d425d8f03e094ce63cbf1": {
      "model_module": "@jupyter-widgets/base",
      "model_module_version": "1.2.0",
      "model_name": "LayoutModel",
      "state": {}
     },
     "aed621511aab434b8b919042a642e48f": {
      "model_module": "@jupyter-widgets/base",
      "model_module_version": "1.2.0",
      "model_name": "LayoutModel",
      "state": {}
     },
     "aefc9796b71946a3b67ec44629629303": {
      "model_module": "@jupyter-widgets/base",
      "model_module_version": "1.2.0",
      "model_name": "LayoutModel",
      "state": {}
     },
     "b091ea6771cd43fcab15b69acb068d6f": {
      "model_module": "@jupyter-widgets/output",
      "model_module_version": "1.0.0",
      "model_name": "OutputModel",
      "state": {
       "layout": "IPY_MODEL_77dad3c06bf74acd9085540164648a11"
      }
     },
     "b0ad42a404f74f4e9a469f1f35cf1fc8": {
      "model_module": "@jupyter-widgets/base",
      "model_module_version": "1.2.0",
      "model_name": "LayoutModel",
      "state": {
       "border": "1px solid green"
      }
     },
     "b17af5c69df14e8c9ecbb186d96c25e4": {
      "model_module": "@jupyter-widgets/output",
      "model_module_version": "1.0.0",
      "model_name": "OutputModel",
      "state": {
       "layout": "IPY_MODEL_cd135fc15a3e4255943dc6cdf146b18b"
      }
     },
     "b1e814dfcb2546cb9005b14de661279e": {
      "model_module": "@jupyter-widgets/controls",
      "model_module_version": "1.5.0",
      "model_name": "ButtonModel",
      "state": {
       "description": "Reveal solution",
       "layout": "IPY_MODEL_e677b2ef820a4ed0b1a40a34fe320f04",
       "style": "IPY_MODEL_1fd33709bb1940ffbffe0af26ef7f16c"
      }
     },
     "b2494b5391d342c9b41da965d8b9a6fb": {
      "model_module": "@jupyter-widgets/output",
      "model_module_version": "1.0.0",
      "model_name": "OutputModel",
      "state": {
       "layout": "IPY_MODEL_f9723da8bf4946d499f9dee21605ad88",
       "outputs": [
        {
         "data": {
          "application/vnd.jupyter.widget-view+json": {
           "model_id": "8332caf00a4b40588a86b5799b726522",
           "version_major": 2,
           "version_minor": 0
          },
          "text/plain": "Button(description='Reveal solution', style=ButtonStyle())"
         },
         "metadata": {},
         "output_type": "display_data"
        },
        {
         "data": {
          "application/vnd.jupyter.widget-view+json": {
           "model_id": "1e0b5bb234f345e18290979512a113c4",
           "version_major": 2,
           "version_minor": 0
          },
          "text/plain": "Output(layout=Layout(border='1px solid green'))"
         },
         "metadata": {},
         "output_type": "display_data"
        }
       ]
      }
     },
     "b2d21cc5dd6e4ce3be229991dec76765": {
      "model_module": "@jupyter-widgets/output",
      "model_module_version": "1.0.0",
      "model_name": "OutputModel",
      "state": {
       "layout": "IPY_MODEL_4240baae56ce42f4a5e493706f2570d9"
      }
     },
     "b2d9a56fe7e948f187e63ea147d82324": {
      "model_module": "@jupyter-widgets/base",
      "model_module_version": "1.2.0",
      "model_name": "LayoutModel",
      "state": {}
     },
     "b3956229190e427e8fe3f99746b482c6": {
      "model_module": "@jupyter-widgets/base",
      "model_module_version": "1.2.0",
      "model_name": "LayoutModel",
      "state": {}
     },
     "b3a11f930666404cb2b638a4a1bb20fc": {
      "model_module": "@jupyter-widgets/output",
      "model_module_version": "1.0.0",
      "model_name": "OutputModel",
      "state": {
       "layout": "IPY_MODEL_fd89a271e4b0446dbbc0d7877b1202f9"
      }
     },
     "b473a4155fb24c4eb5ebc5fb16431d85": {
      "model_module": "@jupyter-widgets/output",
      "model_module_version": "1.0.0",
      "model_name": "OutputModel",
      "state": {
       "layout": "IPY_MODEL_4c40280d315045ef8f8f5ea6d3c90189",
       "outputs": [
        {
         "data": {
          "application/vnd.jupyter.widget-view+json": {
           "model_id": "24f3e167f6634ebdb9a02ca724a8962d",
           "version_major": 2,
           "version_minor": 0
          },
          "text/plain": "Button(description='Reveal solution', style=ButtonStyle())"
         },
         "metadata": {},
         "output_type": "display_data"
        }
       ]
      }
     },
     "b673901b9e294564b6cf5532c3cb5c97": {
      "model_module": "@jupyter-widgets/base",
      "model_module_version": "1.2.0",
      "model_name": "LayoutModel",
      "state": {}
     },
     "b6aee2fb4b1f42eb8d93d82639c7b785": {
      "model_module": "@jupyter-widgets/base",
      "model_module_version": "1.2.0",
      "model_name": "LayoutModel",
      "state": {}
     },
     "b71d4da10dde4e9085a31ebc79b1288b": {
      "model_module": "@jupyter-widgets/base",
      "model_module_version": "1.2.0",
      "model_name": "LayoutModel",
      "state": {
       "border": "1px solid green"
      }
     },
     "b7a44b9a917d45f88994aa7b9d394ccb": {
      "model_module": "@jupyter-widgets/controls",
      "model_module_version": "1.5.0",
      "model_name": "ButtonModel",
      "state": {
       "description": "Reveal answer",
       "layout": "IPY_MODEL_9de618b120ab4d0b9e2081326c7d11b7",
       "style": "IPY_MODEL_322d7d33912342d783464e0ad190c01c"
      }
     },
     "ba970b16defd4a11a847a43f80cb9c4d": {
      "model_module": "@jupyter-widgets/output",
      "model_module_version": "1.0.0",
      "model_name": "OutputModel",
      "state": {
       "layout": "IPY_MODEL_4de71e16fbbe49ae99ce1215b6ccf258"
      }
     },
     "bb17368733584cd098213d98157c5824": {
      "model_module": "@jupyter-widgets/base",
      "model_module_version": "1.2.0",
      "model_name": "LayoutModel",
      "state": {}
     },
     "bdc85da8b2804f1294070fb32c75c82b": {
      "model_module": "@jupyter-widgets/output",
      "model_module_version": "1.0.0",
      "model_name": "OutputModel",
      "state": {
       "layout": "IPY_MODEL_c4742fed154a4e6799315c7bb4975be3"
      }
     },
     "bf19afa6f76d48fe96674b57e806bfbf": {
      "model_module": "@jupyter-widgets/output",
      "model_module_version": "1.0.0",
      "model_name": "OutputModel",
      "state": {
       "layout": "IPY_MODEL_32bfadeb6f044d70a2ce861722ef4f32"
      }
     },
     "bf5ad3eeb1e34e3dbd49398d1e4429ce": {
      "model_module": "@jupyter-widgets/base",
      "model_module_version": "1.2.0",
      "model_name": "LayoutModel",
      "state": {
       "border": "1px solid green"
      }
     },
     "c1a67f0e0e094606a02b4afa00e9cb99": {
      "model_module": "@jupyter-widgets/base",
      "model_module_version": "1.2.0",
      "model_name": "LayoutModel",
      "state": {}
     },
     "c1f7dc590835420b883f293119cd48dc": {
      "model_module": "@jupyter-widgets/controls",
      "model_module_version": "1.5.0",
      "model_name": "ButtonModel",
      "state": {
       "description": "Reveal solution",
       "layout": "IPY_MODEL_ecf22773f2ec45c4bdc75b424ce1c929",
       "style": "IPY_MODEL_111a1f4847c6481aa93d0e2d9420eca8"
      }
     },
     "c35857dd18e14eb19a1f05d2ff80d674": {
      "model_module": "@jupyter-widgets/controls",
      "model_module_version": "1.5.0",
      "model_name": "ButtonStyleModel",
      "state": {}
     },
     "c427bcda2a044c528bfe723cd3b41876": {
      "model_module": "@jupyter-widgets/controls",
      "model_module_version": "1.5.0",
      "model_name": "ButtonModel",
      "state": {
       "description": "Reveal solution",
       "layout": "IPY_MODEL_031238aeceab47b998369d147703abd7",
       "style": "IPY_MODEL_64eef49d09644fe3bb7669acc98eae80"
      }
     },
     "c457224951df40bea658c8f1ea9915fd": {
      "model_module": "@jupyter-widgets/base",
      "model_module_version": "1.2.0",
      "model_name": "LayoutModel",
      "state": {}
     },
     "c4742fed154a4e6799315c7bb4975be3": {
      "model_module": "@jupyter-widgets/base",
      "model_module_version": "1.2.0",
      "model_name": "LayoutModel",
      "state": {
       "border": "1px solid green"
      }
     },
     "c507a15b98c84d4183e90c000ab0eccf": {
      "model_module": "@jupyter-widgets/controls",
      "model_module_version": "1.5.0",
      "model_name": "ButtonModel",
      "state": {
       "description": "Reveal solution",
       "layout": "IPY_MODEL_d271344f1ba34e5296bb827b25997f7f",
       "style": "IPY_MODEL_cb47d0fccce14540bd57b9792fdbe727"
      }
     },
     "c5d9c92e1f554f8db8a7b521a74ec265": {
      "model_module": "@jupyter-widgets/output",
      "model_module_version": "1.0.0",
      "model_name": "OutputModel",
      "state": {
       "layout": "IPY_MODEL_813061ce5d3c487492fd863624cec6f2"
      }
     },
     "c5ee2d8697e94047ae19e0e840fa7866": {
      "model_module": "@jupyter-widgets/base",
      "model_module_version": "1.2.0",
      "model_name": "LayoutModel",
      "state": {
       "border": "1px solid green"
      }
     },
     "c624ddb199b34e9ebf6f6b58934f91a3": {
      "model_module": "@jupyter-widgets/controls",
      "model_module_version": "1.5.0",
      "model_name": "ButtonStyleModel",
      "state": {}
     },
     "c73ee75c6f2c4f2683a1fd4ffad36647": {
      "model_module": "@jupyter-widgets/controls",
      "model_module_version": "1.5.0",
      "model_name": "ButtonModel",
      "state": {
       "description": "Reveal answer",
       "layout": "IPY_MODEL_ead81999a99640bab86f89cc27dc2d3b",
       "style": "IPY_MODEL_e5359664ca004de4a25609a3ec8d300d"
      }
     },
     "c86cc3a543ad44d9a36806133c4e96c8": {
      "model_module": "@jupyter-widgets/base",
      "model_module_version": "1.2.0",
      "model_name": "LayoutModel",
      "state": {}
     },
     "c8b483c9782a4c3d93e5fcb98370b084": {
      "model_module": "@jupyter-widgets/output",
      "model_module_version": "1.0.0",
      "model_name": "OutputModel",
      "state": {
       "layout": "IPY_MODEL_7d9adddcd1574572b2fe3f9b91ef490c"
      }
     },
     "c8bd012380cf4e5fa8e1e95698cae365": {
      "model_module": "@jupyter-widgets/controls",
      "model_module_version": "1.5.0",
      "model_name": "ButtonModel",
      "state": {
       "description": "Reveal solution",
       "layout": "IPY_MODEL_82975208a8e847db992c5942e5a2aa04",
       "style": "IPY_MODEL_d039a88add7f43bcbbfa2e46323768ca"
      }
     },
     "c8fe49c80cd7479b8c13e6565bd13efd": {
      "model_module": "@jupyter-widgets/controls",
      "model_module_version": "1.5.0",
      "model_name": "ButtonStyleModel",
      "state": {}
     },
     "c9906d95a4f248fc951e330345f09674": {
      "model_module": "@jupyter-widgets/controls",
      "model_module_version": "1.5.0",
      "model_name": "ButtonStyleModel",
      "state": {}
     },
     "ca45ce84f2544bddbc85b0a46a610f58": {
      "model_module": "@jupyter-widgets/base",
      "model_module_version": "1.2.0",
      "model_name": "LayoutModel",
      "state": {}
     },
     "cb39ed8678ed4513aab6acaba4820ee5": {
      "model_module": "@jupyter-widgets/output",
      "model_module_version": "1.0.0",
      "model_name": "OutputModel",
      "state": {
       "layout": "IPY_MODEL_dd9826edc2cd499499234ac949d91195",
       "outputs": [
        {
         "data": {
          "application/vnd.jupyter.widget-view+json": {
           "model_id": "c73ee75c6f2c4f2683a1fd4ffad36647",
           "version_major": 2,
           "version_minor": 0
          },
          "text/plain": "Button(description='Reveal answer', style=ButtonStyle())"
         },
         "metadata": {},
         "output_type": "display_data"
        },
        {
         "data": {
          "text/html": "<style>.output_html .hll { background-color: #ffffcc }\n.output_html  { background: #f8f8f8; }\n.output_html .c { color: #408080; font-style: italic } /* Comment */\n.output_html .err { border: 1px solid #FF0000 } /* Error */\n.output_html .k { color: #008000; font-weight: bold } /* Keyword */\n.output_html .o { color: #666666 } /* Operator */\n.output_html .ch { color: #408080; font-style: italic } /* Comment.Hashbang */\n.output_html .cm { color: #408080; font-style: italic } /* Comment.Multiline */\n.output_html .cp { color: #BC7A00 } /* Comment.Preproc */\n.output_html .cpf { color: #408080; font-style: italic } /* Comment.PreprocFile */\n.output_html .c1 { color: #408080; font-style: italic } /* Comment.Single */\n.output_html .cs { color: #408080; font-style: italic } /* Comment.Special */\n.output_html .gd { color: #A00000 } /* Generic.Deleted */\n.output_html .ge { font-style: italic } /* Generic.Emph */\n.output_html .gr { color: #FF0000 } /* Generic.Error */\n.output_html .gh { color: #000080; font-weight: bold } /* Generic.Heading */\n.output_html .gi { color: #00A000 } /* Generic.Inserted */\n.output_html .go { color: #888888 } /* Generic.Output */\n.output_html .gp { color: #000080; font-weight: bold } /* Generic.Prompt */\n.output_html .gs { font-weight: bold } /* Generic.Strong */\n.output_html .gu { color: #800080; font-weight: bold } /* Generic.Subheading */\n.output_html .gt { color: #0044DD } /* Generic.Traceback */\n.output_html .kc { color: #008000; font-weight: bold } /* Keyword.Constant */\n.output_html .kd { color: #008000; font-weight: bold } /* Keyword.Declaration */\n.output_html .kn { color: #008000; font-weight: bold } /* Keyword.Namespace */\n.output_html .kp { color: #008000 } /* Keyword.Pseudo */\n.output_html .kr { color: #008000; font-weight: bold } /* Keyword.Reserved */\n.output_html .kt { color: #B00040 } /* Keyword.Type */\n.output_html .m { color: #666666 } /* Literal.Number */\n.output_html .s { color: #BA2121 } /* Literal.String */\n.output_html .na { color: #7D9029 } /* Name.Attribute */\n.output_html .nb { color: #008000 } /* Name.Builtin */\n.output_html .nc { color: #0000FF; font-weight: bold } /* Name.Class */\n.output_html .no { color: #880000 } /* Name.Constant */\n.output_html .nd { color: #AA22FF } /* Name.Decorator */\n.output_html .ni { color: #999999; font-weight: bold } /* Name.Entity */\n.output_html .ne { color: #D2413A; font-weight: bold } /* Name.Exception */\n.output_html .nf { color: #0000FF } /* Name.Function */\n.output_html .nl { color: #A0A000 } /* Name.Label */\n.output_html .nn { color: #0000FF; font-weight: bold } /* Name.Namespace */\n.output_html .nt { color: #008000; font-weight: bold } /* Name.Tag */\n.output_html .nv { color: #19177C } /* Name.Variable */\n.output_html .ow { color: #AA22FF; font-weight: bold } /* Operator.Word */\n.output_html .w { color: #bbbbbb } /* Text.Whitespace */\n.output_html .mb { color: #666666 } /* Literal.Number.Bin */\n.output_html .mf { color: #666666 } /* Literal.Number.Float */\n.output_html .mh { color: #666666 } /* Literal.Number.Hex */\n.output_html .mi { color: #666666 } /* Literal.Number.Integer */\n.output_html .mo { color: #666666 } /* Literal.Number.Oct */\n.output_html .sa { color: #BA2121 } /* Literal.String.Affix */\n.output_html .sb { color: #BA2121 } /* Literal.String.Backtick */\n.output_html .sc { color: #BA2121 } /* Literal.String.Char */\n.output_html .dl { color: #BA2121 } /* Literal.String.Delimiter */\n.output_html .sd { color: #BA2121; font-style: italic } /* Literal.String.Doc */\n.output_html .s2 { color: #BA2121 } /* Literal.String.Double */\n.output_html .se { color: #BB6622; font-weight: bold } /* Literal.String.Escape */\n.output_html .sh { color: #BA2121 } /* Literal.String.Heredoc */\n.output_html .si { color: #BB6688; font-weight: bold } /* Literal.String.Interpol */\n.output_html .sx { color: #008000 } /* Literal.String.Other */\n.output_html .sr { color: #BB6688 } /* Literal.String.Regex */\n.output_html .s1 { color: #BA2121 } /* Literal.String.Single */\n.output_html .ss { color: #19177C } /* Literal.String.Symbol */\n.output_html .bp { color: #008000 } /* Name.Builtin.Pseudo */\n.output_html .fm { color: #0000FF } /* Name.Function.Magic */\n.output_html .vc { color: #19177C } /* Name.Variable.Class */\n.output_html .vg { color: #19177C } /* Name.Variable.Global */\n.output_html .vi { color: #19177C } /* Name.Variable.Instance */\n.output_html .vm { color: #19177C } /* Name.Variable.Magic */\n.output_html .il { color: #666666 } /* Literal.Number.Integer.Long */</style><div class=\"highlight\"><pre><span></span><span class=\"kn\">import</span> <span class=\"nn\">ipywidgets</span> <span class=\"k\">as</span> <span class=\"nn\">widgets</span>\n\n<span class=\"n\">accordion</span> <span class=\"o\">=</span> <span class=\"n\">widgets</span><span class=\"o\">.</span><span class=\"n\">Accordion</span><span class=\"p\">(</span><span class=\"n\">children</span><span class=\"o\">=</span><span class=\"p\">[</span><span class=\"n\">widgets</span><span class=\"o\">.</span><span class=\"n\">Text</span><span class=\"p\">(</span><span class=\"s1\">&#39;This is the answer for Q1&#39;</span><span class=\"p\">),</span>\n                                        <span class=\"n\">widgets</span><span class=\"o\">.</span><span class=\"n\">Text</span><span class=\"p\">(</span><span class=\"s1\">&#39;Answer for Q2&#39;</span><span class=\"p\">)],</span>\n                              <span class=\"n\">selected_index</span><span class=\"o\">=</span><span class=\"kc\">None</span><span class=\"p\">)</span>\n<span class=\"n\">accordion</span><span class=\"o\">.</span><span class=\"n\">set_title</span><span class=\"p\">(</span><span class=\"mi\">0</span><span class=\"p\">,</span> <span class=\"s1\">&#39;test 1&#39;</span><span class=\"p\">)</span>\n<span class=\"n\">display</span><span class=\"p\">(</span><span class=\"n\">accordion</span><span class=\"p\">)</span>\n</pre></div>\n",
          "text/latex": "\\begin{Verbatim}[commandchars=\\\\\\{\\}]\n\\PY{k+kn}{import} \\PY{n+nn}{ipywidgets} \\PY{k}{as} \\PY{n+nn}{widgets}\n\n\\PY{n}{accordion} \\PY{o}{=} \\PY{n}{widgets}\\PY{o}{.}\\PY{n}{Accordion}\\PY{p}{(}\\PY{n}{children}\\PY{o}{=}\\PY{p}{[}\\PY{n}{widgets}\\PY{o}{.}\\PY{n}{Text}\\PY{p}{(}\\PY{l+s+s1}{\\PYZsq{}}\\PY{l+s+s1}{This is the answer for Q1}\\PY{l+s+s1}{\\PYZsq{}}\\PY{p}{)}\\PY{p}{,}\n                                        \\PY{n}{widgets}\\PY{o}{.}\\PY{n}{Text}\\PY{p}{(}\\PY{l+s+s1}{\\PYZsq{}}\\PY{l+s+s1}{Answer for Q2}\\PY{l+s+s1}{\\PYZsq{}}\\PY{p}{)}\\PY{p}{]}\\PY{p}{,}\n                              \\PY{n}{selected\\PYZus{}index}\\PY{o}{=}\\PY{k+kc}{None}\\PY{p}{)}\n\\PY{n}{accordion}\\PY{o}{.}\\PY{n}{set\\PYZus{}title}\\PY{p}{(}\\PY{l+m+mi}{0}\\PY{p}{,} \\PY{l+s+s1}{\\PYZsq{}}\\PY{l+s+s1}{test 1}\\PY{l+s+s1}{\\PYZsq{}}\\PY{p}{)}\n\\PY{n}{display}\\PY{p}{(}\\PY{n}{accordion}\\PY{p}{)}\n\\end{Verbatim}\n",
          "text/plain": "import ipywidgets as widgets\n\naccordion = widgets.Accordion(children=[widgets.Text('This is the answer for Q1'),\n                                        widgets.Text('Answer for Q2')],\n                              selected_index=None)\naccordion.set_title(0, 'test 1')\ndisplay(accordion)\n"
         },
         "metadata": {},
         "output_type": "display_data"
        }
       ]
      }
     },
     "cb47d0fccce14540bd57b9792fdbe727": {
      "model_module": "@jupyter-widgets/controls",
      "model_module_version": "1.5.0",
      "model_name": "ButtonStyleModel",
      "state": {}
     },
     "cba37fb00f2844f488f236f938a225f7": {
      "model_module": "@jupyter-widgets/base",
      "model_module_version": "1.2.0",
      "model_name": "LayoutModel",
      "state": {}
     },
     "cbef569f71b8403f94759e8033678182": {
      "model_module": "@jupyter-widgets/base",
      "model_module_version": "1.2.0",
      "model_name": "LayoutModel",
      "state": {}
     },
     "cd135fc15a3e4255943dc6cdf146b18b": {
      "model_module": "@jupyter-widgets/base",
      "model_module_version": "1.2.0",
      "model_name": "LayoutModel",
      "state": {
       "border": "1px solid green"
      }
     },
     "cd915f81119c413dae9598e95e7d63df": {
      "model_module": "@jupyter-widgets/output",
      "model_module_version": "1.0.0",
      "model_name": "OutputModel",
      "state": {
       "layout": "IPY_MODEL_5ad29a61eb924353be0ccf3914e6c7d0"
      }
     },
     "cdb99dce2eda4acbb4d211d70753fe0c": {
      "model_module": "@jupyter-widgets/base",
      "model_module_version": "1.2.0",
      "model_name": "LayoutModel",
      "state": {
       "border": "1px solid black"
      }
     },
     "ce4a4b6f26314c1c8a041c2e08a3a733": {
      "model_module": "@jupyter-widgets/controls",
      "model_module_version": "1.5.0",
      "model_name": "ButtonModel",
      "state": {
       "description": "Reveal solution",
       "layout": "IPY_MODEL_d95398945fd74da7a6b6b9630fa30a0b",
       "style": "IPY_MODEL_c35857dd18e14eb19a1f05d2ff80d674"
      }
     },
     "cee7553c776347c18df28fca9cc6aceb": {
      "model_module": "@jupyter-widgets/base",
      "model_module_version": "1.2.0",
      "model_name": "LayoutModel",
      "state": {
       "border": "1px solid green"
      }
     },
     "d00d65c75a2c4edfadad4128bca3df21": {
      "model_module": "@jupyter-widgets/output",
      "model_module_version": "1.0.0",
      "model_name": "OutputModel",
      "state": {
       "layout": "IPY_MODEL_e124d33f97f7443783d5f7f07dc0dd26",
       "outputs": [
        {
         "data": {
          "application/vnd.jupyter.widget-view+json": {
           "model_id": "4c376f4aee7044a68dffa15a88c687c6",
           "version_major": 2,
           "version_minor": 0
          },
          "text/plain": "Button(description='Reveal answer', style=ButtonStyle())"
         },
         "metadata": {},
         "output_type": "display_data"
        },
        {
         "data": {
          "text/html": "<style>.output_html .hll { background-color: #ffffcc }\n.output_html  { background: #f8f8f8; }\n.output_html .c { color: #408080; font-style: italic } /* Comment */\n.output_html .err { border: 1px solid #FF0000 } /* Error */\n.output_html .k { color: #008000; font-weight: bold } /* Keyword */\n.output_html .o { color: #666666 } /* Operator */\n.output_html .ch { color: #408080; font-style: italic } /* Comment.Hashbang */\n.output_html .cm { color: #408080; font-style: italic } /* Comment.Multiline */\n.output_html .cp { color: #BC7A00 } /* Comment.Preproc */\n.output_html .cpf { color: #408080; font-style: italic } /* Comment.PreprocFile */\n.output_html .c1 { color: #408080; font-style: italic } /* Comment.Single */\n.output_html .cs { color: #408080; font-style: italic } /* Comment.Special */\n.output_html .gd { color: #A00000 } /* Generic.Deleted */\n.output_html .ge { font-style: italic } /* Generic.Emph */\n.output_html .gr { color: #FF0000 } /* Generic.Error */\n.output_html .gh { color: #000080; font-weight: bold } /* Generic.Heading */\n.output_html .gi { color: #00A000 } /* Generic.Inserted */\n.output_html .go { color: #888888 } /* Generic.Output */\n.output_html .gp { color: #000080; font-weight: bold } /* Generic.Prompt */\n.output_html .gs { font-weight: bold } /* Generic.Strong */\n.output_html .gu { color: #800080; font-weight: bold } /* Generic.Subheading */\n.output_html .gt { color: #0044DD } /* Generic.Traceback */\n.output_html .kc { color: #008000; font-weight: bold } /* Keyword.Constant */\n.output_html .kd { color: #008000; font-weight: bold } /* Keyword.Declaration */\n.output_html .kn { color: #008000; font-weight: bold } /* Keyword.Namespace */\n.output_html .kp { color: #008000 } /* Keyword.Pseudo */\n.output_html .kr { color: #008000; font-weight: bold } /* Keyword.Reserved */\n.output_html .kt { color: #B00040 } /* Keyword.Type */\n.output_html .m { color: #666666 } /* Literal.Number */\n.output_html .s { color: #BA2121 } /* Literal.String */\n.output_html .na { color: #7D9029 } /* Name.Attribute */\n.output_html .nb { color: #008000 } /* Name.Builtin */\n.output_html .nc { color: #0000FF; font-weight: bold } /* Name.Class */\n.output_html .no { color: #880000 } /* Name.Constant */\n.output_html .nd { color: #AA22FF } /* Name.Decorator */\n.output_html .ni { color: #999999; font-weight: bold } /* Name.Entity */\n.output_html .ne { color: #D2413A; font-weight: bold } /* Name.Exception */\n.output_html .nf { color: #0000FF } /* Name.Function */\n.output_html .nl { color: #A0A000 } /* Name.Label */\n.output_html .nn { color: #0000FF; font-weight: bold } /* Name.Namespace */\n.output_html .nt { color: #008000; font-weight: bold } /* Name.Tag */\n.output_html .nv { color: #19177C } /* Name.Variable */\n.output_html .ow { color: #AA22FF; font-weight: bold } /* Operator.Word */\n.output_html .w { color: #bbbbbb } /* Text.Whitespace */\n.output_html .mb { color: #666666 } /* Literal.Number.Bin */\n.output_html .mf { color: #666666 } /* Literal.Number.Float */\n.output_html .mh { color: #666666 } /* Literal.Number.Hex */\n.output_html .mi { color: #666666 } /* Literal.Number.Integer */\n.output_html .mo { color: #666666 } /* Literal.Number.Oct */\n.output_html .sa { color: #BA2121 } /* Literal.String.Affix */\n.output_html .sb { color: #BA2121 } /* Literal.String.Backtick */\n.output_html .sc { color: #BA2121 } /* Literal.String.Char */\n.output_html .dl { color: #BA2121 } /* Literal.String.Delimiter */\n.output_html .sd { color: #BA2121; font-style: italic } /* Literal.String.Doc */\n.output_html .s2 { color: #BA2121 } /* Literal.String.Double */\n.output_html .se { color: #BB6622; font-weight: bold } /* Literal.String.Escape */\n.output_html .sh { color: #BA2121 } /* Literal.String.Heredoc */\n.output_html .si { color: #BB6688; font-weight: bold } /* Literal.String.Interpol */\n.output_html .sx { color: #008000 } /* Literal.String.Other */\n.output_html .sr { color: #BB6688 } /* Literal.String.Regex */\n.output_html .s1 { color: #BA2121 } /* Literal.String.Single */\n.output_html .ss { color: #19177C } /* Literal.String.Symbol */\n.output_html .bp { color: #008000 } /* Name.Builtin.Pseudo */\n.output_html .fm { color: #0000FF } /* Name.Function.Magic */\n.output_html .vc { color: #19177C } /* Name.Variable.Class */\n.output_html .vg { color: #19177C } /* Name.Variable.Global */\n.output_html .vi { color: #19177C } /* Name.Variable.Instance */\n.output_html .vm { color: #19177C } /* Name.Variable.Magic */\n.output_html .il { color: #666666 } /* Literal.Number.Integer.Long */</style><div class=\"highlight\"><pre><span></span><span class=\"kn\">import</span> <span class=\"nn\">ipywidgets</span> <span class=\"k\">as</span> <span class=\"nn\">widgets</span>\n\n<span class=\"n\">accordion</span> <span class=\"o\">=</span> <span class=\"n\">widgets</span><span class=\"o\">.</span><span class=\"n\">Accordion</span><span class=\"p\">(</span><span class=\"n\">children</span><span class=\"o\">=</span><span class=\"p\">[</span><span class=\"n\">widgets</span><span class=\"o\">.</span><span class=\"n\">Text</span><span class=\"p\">(</span><span class=\"s1\">&#39;This is the answer for Q1&#39;</span><span class=\"p\">),</span>\n                                        <span class=\"n\">widgets</span><span class=\"o\">.</span><span class=\"n\">Text</span><span class=\"p\">(</span><span class=\"s1\">&#39;Answer for Q2&#39;</span><span class=\"p\">)],</span>\n                              <span class=\"n\">selected_index</span><span class=\"o\">=</span><span class=\"kc\">None</span><span class=\"p\">)</span>\n<span class=\"n\">accordion</span><span class=\"o\">.</span><span class=\"n\">set_title</span><span class=\"p\">(</span><span class=\"mi\">0</span><span class=\"p\">,</span> <span class=\"s1\">&#39;test 1&#39;</span><span class=\"p\">)</span>\n<span class=\"n\">display</span><span class=\"p\">(</span><span class=\"n\">accordion</span><span class=\"p\">)</span>\n</pre></div>\n",
          "text/latex": "\\begin{Verbatim}[commandchars=\\\\\\{\\}]\n\\PY{k+kn}{import} \\PY{n+nn}{ipywidgets} \\PY{k}{as} \\PY{n+nn}{widgets}\n\n\\PY{n}{accordion} \\PY{o}{=} \\PY{n}{widgets}\\PY{o}{.}\\PY{n}{Accordion}\\PY{p}{(}\\PY{n}{children}\\PY{o}{=}\\PY{p}{[}\\PY{n}{widgets}\\PY{o}{.}\\PY{n}{Text}\\PY{p}{(}\\PY{l+s+s1}{\\PYZsq{}}\\PY{l+s+s1}{This is the answer for Q1}\\PY{l+s+s1}{\\PYZsq{}}\\PY{p}{)}\\PY{p}{,}\n                                        \\PY{n}{widgets}\\PY{o}{.}\\PY{n}{Text}\\PY{p}{(}\\PY{l+s+s1}{\\PYZsq{}}\\PY{l+s+s1}{Answer for Q2}\\PY{l+s+s1}{\\PYZsq{}}\\PY{p}{)}\\PY{p}{]}\\PY{p}{,}\n                              \\PY{n}{selected\\PYZus{}index}\\PY{o}{=}\\PY{k+kc}{None}\\PY{p}{)}\n\\PY{n}{accordion}\\PY{o}{.}\\PY{n}{set\\PYZus{}title}\\PY{p}{(}\\PY{l+m+mi}{0}\\PY{p}{,} \\PY{l+s+s1}{\\PYZsq{}}\\PY{l+s+s1}{test 1}\\PY{l+s+s1}{\\PYZsq{}}\\PY{p}{)}\n\\PY{n}{display}\\PY{p}{(}\\PY{n}{accordion}\\PY{p}{)}\n\\end{Verbatim}\n",
          "text/plain": "import ipywidgets as widgets\n\naccordion = widgets.Accordion(children=[widgets.Text('This is the answer for Q1'),\n                                        widgets.Text('Answer for Q2')],\n                              selected_index=None)\naccordion.set_title(0, 'test 1')\ndisplay(accordion)\n"
         },
         "metadata": {},
         "output_type": "display_data"
        }
       ]
      }
     },
     "d039a88add7f43bcbbfa2e46323768ca": {
      "model_module": "@jupyter-widgets/controls",
      "model_module_version": "1.5.0",
      "model_name": "ButtonStyleModel",
      "state": {}
     },
     "d271344f1ba34e5296bb827b25997f7f": {
      "model_module": "@jupyter-widgets/base",
      "model_module_version": "1.2.0",
      "model_name": "LayoutModel",
      "state": {}
     },
     "d337fc3c020040d5864833588452ee65": {
      "model_module": "@jupyter-widgets/output",
      "model_module_version": "1.0.0",
      "model_name": "OutputModel",
      "state": {
       "layout": "IPY_MODEL_88b1e5ec1bb8434f88cea87d60a8dac1"
      }
     },
     "d37ee70f3e32489fa401850aa6691310": {
      "model_module": "@jupyter-widgets/controls",
      "model_module_version": "1.5.0",
      "model_name": "ButtonStyleModel",
      "state": {}
     },
     "d3d8914097a54d40808420d5331f1302": {
      "model_module": "@jupyter-widgets/base",
      "model_module_version": "1.2.0",
      "model_name": "LayoutModel",
      "state": {
       "border": "1px solid green"
      }
     },
     "d43f3f4bf6554783bae0f7e78fe567fc": {
      "model_module": "@jupyter-widgets/base",
      "model_module_version": "1.2.0",
      "model_name": "LayoutModel",
      "state": {}
     },
     "d44a1b5c774d4d4bb2e4e768b6639faf": {
      "model_module": "@jupyter-widgets/base",
      "model_module_version": "1.2.0",
      "model_name": "LayoutModel",
      "state": {}
     },
     "d4d4e9a216e34ac29409e19f97e3a78f": {
      "model_module": "@jupyter-widgets/base",
      "model_module_version": "1.2.0",
      "model_name": "LayoutModel",
      "state": {}
     },
     "d4eb8facfd5f4834b8dc1d2156668423": {
      "model_module": "@jupyter-widgets/base",
      "model_module_version": "1.2.0",
      "model_name": "LayoutModel",
      "state": {}
     },
     "d532358a63a34765a320c08770cff14e": {
      "model_module": "@jupyter-widgets/output",
      "model_module_version": "1.0.0",
      "model_name": "OutputModel",
      "state": {
       "layout": "IPY_MODEL_71aadd8eae69424d94585b846aadc9c6",
       "outputs": [
        {
         "data": {
          "application/vnd.jupyter.widget-view+json": {
           "model_id": "19b407063c974819a5e6ef10158b8faa",
           "version_major": 2,
           "version_minor": 0
          },
          "text/plain": "Button(description='Reveal answer', style=ButtonStyle())"
         },
         "metadata": {},
         "output_type": "display_data"
        }
       ]
      }
     },
     "d5d2fd9f8e17459ab0f27f47e2d833fd": {
      "model_module": "@jupyter-widgets/output",
      "model_module_version": "1.0.0",
      "model_name": "OutputModel",
      "state": {
       "layout": "IPY_MODEL_aefc9796b71946a3b67ec44629629303",
       "outputs": [
        {
         "data": {
          "application/vnd.jupyter.widget-view+json": {
           "model_id": "149f4f0a37b9428c92529c19eb1a0aa1",
           "version_major": 2,
           "version_minor": 0
          },
          "text/plain": "Button(description='Reveal solution', style=ButtonStyle())"
         },
         "metadata": {},
         "output_type": "display_data"
        }
       ]
      }
     },
     "d7163f8a9dcf4e939a99bd4f9d3c8d47": {
      "model_module": "@jupyter-widgets/base",
      "model_module_version": "1.2.0",
      "model_name": "LayoutModel",
      "state": {}
     },
     "d8fd62098a1243e9a8e875f6aeb54554": {
      "model_module": "@jupyter-widgets/controls",
      "model_module_version": "1.5.0",
      "model_name": "ButtonStyleModel",
      "state": {}
     },
     "d9339bdcb99b47f58a5ef937cdd78457": {
      "model_module": "@jupyter-widgets/controls",
      "model_module_version": "1.5.0",
      "model_name": "ButtonStyleModel",
      "state": {}
     },
     "d95398945fd74da7a6b6b9630fa30a0b": {
      "model_module": "@jupyter-widgets/base",
      "model_module_version": "1.2.0",
      "model_name": "LayoutModel",
      "state": {}
     },
     "d958cfdad30d469f91bf7ba40e11565e": {
      "model_module": "@jupyter-widgets/controls",
      "model_module_version": "1.5.0",
      "model_name": "ButtonStyleModel",
      "state": {}
     },
     "d95ae134e3ad4cfcac05618401d94aa3": {
      "model_module": "@jupyter-widgets/controls",
      "model_module_version": "1.5.0",
      "model_name": "ButtonStyleModel",
      "state": {}
     },
     "d9e347efe7874529b58c2a29cb4642a9": {
      "model_module": "@jupyter-widgets/base",
      "model_module_version": "1.2.0",
      "model_name": "LayoutModel",
      "state": {
       "border": "1px solid green"
      }
     },
     "da27a6591f5e44a1b64b4fc223e236ff": {
      "model_module": "@jupyter-widgets/output",
      "model_module_version": "1.0.0",
      "model_name": "OutputModel",
      "state": {
       "layout": "IPY_MODEL_6231d6202ffc4efb9120305a5c8f56c1"
      }
     },
     "daef895b042d41fdbb43b5a3a7c0ecdd": {
      "model_module": "@jupyter-widgets/controls",
      "model_module_version": "1.5.0",
      "model_name": "ButtonStyleModel",
      "state": {}
     },
     "dd9826edc2cd499499234ac949d91195": {
      "model_module": "@jupyter-widgets/base",
      "model_module_version": "1.2.0",
      "model_name": "LayoutModel",
      "state": {
       "border": "1px solid green"
      }
     },
     "dea2ab8e0f2347a2a172e6cd14479748": {
      "model_module": "@jupyter-widgets/controls",
      "model_module_version": "1.5.0",
      "model_name": "ButtonStyleModel",
      "state": {}
     },
     "deab8b7a1f0542ba821f59833ac2eb88": {
      "model_module": "@jupyter-widgets/output",
      "model_module_version": "1.0.0",
      "model_name": "OutputModel",
      "state": {
       "layout": "IPY_MODEL_07da2293f4004896bbfc9023b9452b0a",
       "outputs": [
        {
         "data": {
          "application/vnd.jupyter.widget-view+json": {
           "model_id": "63fc17b282f14e9b9a6ac2efe9fedceb",
           "version_major": 2,
           "version_minor": 0
          },
          "text/plain": "Button(description='Reveal solution', style=ButtonStyle())"
         },
         "metadata": {},
         "output_type": "display_data"
        }
       ]
      }
     },
     "ded0195e65e34fe1804b9269a4f29267": {
      "model_module": "@jupyter-widgets/base",
      "model_module_version": "1.2.0",
      "model_name": "LayoutModel",
      "state": {}
     },
     "df065880ddd4494ba4021130ef85513d": {
      "model_module": "@jupyter-widgets/output",
      "model_module_version": "1.0.0",
      "model_name": "OutputModel",
      "state": {
       "layout": "IPY_MODEL_28a7449e672e4d70bab8b26e21b7f42a"
      }
     },
     "df18275882ee412a987b7db4e571f958": {
      "model_module": "@jupyter-widgets/controls",
      "model_module_version": "1.5.0",
      "model_name": "ButtonStyleModel",
      "state": {}
     },
     "df8b05358180486487813c1879db6fdf": {
      "model_module": "@jupyter-widgets/base",
      "model_module_version": "1.2.0",
      "model_name": "LayoutModel",
      "state": {
       "border": "1px solid green"
      }
     },
     "e03901dc17534fd2b71e9007472a630e": {
      "model_module": "@jupyter-widgets/base",
      "model_module_version": "1.2.0",
      "model_name": "LayoutModel",
      "state": {}
     },
     "e0e74a245aa5404c97a54d5cd94d296c": {
      "model_module": "@jupyter-widgets/base",
      "model_module_version": "1.2.0",
      "model_name": "LayoutModel",
      "state": {
       "border": "1px solid green"
      }
     },
     "e124d33f97f7443783d5f7f07dc0dd26": {
      "model_module": "@jupyter-widgets/base",
      "model_module_version": "1.2.0",
      "model_name": "LayoutModel",
      "state": {
       "border": "1px solid green"
      }
     },
     "e14380590cef4c2ab5596aed645a34d0": {
      "model_module": "@jupyter-widgets/output",
      "model_module_version": "1.0.0",
      "model_name": "OutputModel",
      "state": {
       "layout": "IPY_MODEL_459f6b19bd404180b23e31555a632520",
       "outputs": [
        {
         "data": {
          "application/vnd.jupyter.widget-view+json": {
           "model_id": "89cbda6d064d46aca1f6de50520064de",
           "version_major": 2,
           "version_minor": 0
          },
          "text/plain": "Button(description='Reveal solution', style=ButtonStyle())"
         },
         "metadata": {},
         "output_type": "display_data"
        }
       ]
      }
     },
     "e1af07e2648842d980913fda798e5d29": {
      "model_module": "@jupyter-widgets/controls",
      "model_module_version": "1.5.0",
      "model_name": "ButtonModel",
      "state": {
       "description": "Reveal answer",
       "layout": "IPY_MODEL_0fea0e902f074f2ca650ab614f27bcf7",
       "style": "IPY_MODEL_c9906d95a4f248fc951e330345f09674"
      }
     },
     "e1cdbbb3f0d44602863bc0b2a08783df": {
      "model_module": "@jupyter-widgets/base",
      "model_module_version": "1.2.0",
      "model_name": "LayoutModel",
      "state": {
       "border": "1px solid green"
      }
     },
     "e2952c328f8a4e928997d3da155d7dd1": {
      "model_module": "@jupyter-widgets/controls",
      "model_module_version": "1.5.0",
      "model_name": "ButtonModel",
      "state": {
       "description": "Reveal solution",
       "layout": "IPY_MODEL_83835810c5e34f3db4fbac34d88c8219",
       "style": "IPY_MODEL_7f88ec1efcaa4c86b9bb4168169d0634"
      }
     },
     "e2a187c11c3a452196d38b8c1e49bbf7": {
      "model_module": "@jupyter-widgets/base",
      "model_module_version": "1.2.0",
      "model_name": "LayoutModel",
      "state": {}
     },
     "e2da8c7bbb484065934ac1d2c2700d30": {
      "model_module": "@jupyter-widgets/controls",
      "model_module_version": "1.5.0",
      "model_name": "ButtonModel",
      "state": {
       "description": "Reveal solution",
       "layout": "IPY_MODEL_1a59efac656d433f9b7a5ece56c4f374",
       "style": "IPY_MODEL_5a551a007978420f80f92bf6806ad61c"
      }
     },
     "e34713367950459ba34bd955bbef7cae": {
      "model_module": "@jupyter-widgets/controls",
      "model_module_version": "1.5.0",
      "model_name": "ButtonStyleModel",
      "state": {}
     },
     "e461f7a7563a452385688b005510581c": {
      "model_module": "@jupyter-widgets/output",
      "model_module_version": "1.0.0",
      "model_name": "OutputModel",
      "state": {
       "layout": "IPY_MODEL_5817be0005474038b48defc5d182db41"
      }
     },
     "e5359664ca004de4a25609a3ec8d300d": {
      "model_module": "@jupyter-widgets/controls",
      "model_module_version": "1.5.0",
      "model_name": "ButtonStyleModel",
      "state": {}
     },
     "e593fa58f7504eb4bd36561887697388": {
      "model_module": "@jupyter-widgets/output",
      "model_module_version": "1.0.0",
      "model_name": "OutputModel",
      "state": {
       "layout": "IPY_MODEL_ac586e7b78f64214941bfd55899d45aa"
      }
     },
     "e672bcf98b524a0eaa02bd152d9c78f7": {
      "model_module": "@jupyter-widgets/base",
      "model_module_version": "1.2.0",
      "model_name": "LayoutModel",
      "state": {
       "border": "1px solid green"
      }
     },
     "e677b2ef820a4ed0b1a40a34fe320f04": {
      "model_module": "@jupyter-widgets/base",
      "model_module_version": "1.2.0",
      "model_name": "LayoutModel",
      "state": {}
     },
     "e6a20e3a8b7c4761b7868fafce17024b": {
      "model_module": "@jupyter-widgets/base",
      "model_module_version": "1.2.0",
      "model_name": "LayoutModel",
      "state": {}
     },
     "e6a4ffd2e17a4d4ba512f7a6704d15f8": {
      "model_module": "@jupyter-widgets/output",
      "model_module_version": "1.0.0",
      "model_name": "OutputModel",
      "state": {
       "layout": "IPY_MODEL_62a7da19659d4f21bb2defac2f7ceb19",
       "outputs": [
        {
         "data": {
          "application/vnd.jupyter.widget-view+json": {
           "model_id": "b7a44b9a917d45f88994aa7b9d394ccb",
           "version_major": 2,
           "version_minor": 0
          },
          "text/plain": "Button(description='Reveal answer', style=ButtonStyle())"
         },
         "metadata": {},
         "output_type": "display_data"
        }
       ]
      }
     },
     "e6f000ca3a7145efb056b38b4beaf156": {
      "model_module": "@jupyter-widgets/base",
      "model_module_version": "1.2.0",
      "model_name": "LayoutModel",
      "state": {
       "border": "1px solid green"
      }
     },
     "e744fb79b80a42a58ffbebf6e2348e09": {
      "model_module": "@jupyter-widgets/output",
      "model_module_version": "1.0.0",
      "model_name": "OutputModel",
      "state": {
       "layout": "IPY_MODEL_d3d8914097a54d40808420d5331f1302",
       "outputs": [
        {
         "data": {
          "text/html": "<style>.output_html .hll { background-color: #ffffcc }\n.output_html  { background: #f8f8f8; }\n.output_html .c { color: #408080; font-style: italic } /* Comment */\n.output_html .err { border: 1px solid #FF0000 } /* Error */\n.output_html .k { color: #008000; font-weight: bold } /* Keyword */\n.output_html .o { color: #666666 } /* Operator */\n.output_html .ch { color: #408080; font-style: italic } /* Comment.Hashbang */\n.output_html .cm { color: #408080; font-style: italic } /* Comment.Multiline */\n.output_html .cp { color: #BC7A00 } /* Comment.Preproc */\n.output_html .cpf { color: #408080; font-style: italic } /* Comment.PreprocFile */\n.output_html .c1 { color: #408080; font-style: italic } /* Comment.Single */\n.output_html .cs { color: #408080; font-style: italic } /* Comment.Special */\n.output_html .gd { color: #A00000 } /* Generic.Deleted */\n.output_html .ge { font-style: italic } /* Generic.Emph */\n.output_html .gr { color: #FF0000 } /* Generic.Error */\n.output_html .gh { color: #000080; font-weight: bold } /* Generic.Heading */\n.output_html .gi { color: #00A000 } /* Generic.Inserted */\n.output_html .go { color: #888888 } /* Generic.Output */\n.output_html .gp { color: #000080; font-weight: bold } /* Generic.Prompt */\n.output_html .gs { font-weight: bold } /* Generic.Strong */\n.output_html .gu { color: #800080; font-weight: bold } /* Generic.Subheading */\n.output_html .gt { color: #0044DD } /* Generic.Traceback */\n.output_html .kc { color: #008000; font-weight: bold } /* Keyword.Constant */\n.output_html .kd { color: #008000; font-weight: bold } /* Keyword.Declaration */\n.output_html .kn { color: #008000; font-weight: bold } /* Keyword.Namespace */\n.output_html .kp { color: #008000 } /* Keyword.Pseudo */\n.output_html .kr { color: #008000; font-weight: bold } /* Keyword.Reserved */\n.output_html .kt { color: #B00040 } /* Keyword.Type */\n.output_html .m { color: #666666 } /* Literal.Number */\n.output_html .s { color: #BA2121 } /* Literal.String */\n.output_html .na { color: #7D9029 } /* Name.Attribute */\n.output_html .nb { color: #008000 } /* Name.Builtin */\n.output_html .nc { color: #0000FF; font-weight: bold } /* Name.Class */\n.output_html .no { color: #880000 } /* Name.Constant */\n.output_html .nd { color: #AA22FF } /* Name.Decorator */\n.output_html .ni { color: #999999; font-weight: bold } /* Name.Entity */\n.output_html .ne { color: #D2413A; font-weight: bold } /* Name.Exception */\n.output_html .nf { color: #0000FF } /* Name.Function */\n.output_html .nl { color: #A0A000 } /* Name.Label */\n.output_html .nn { color: #0000FF; font-weight: bold } /* Name.Namespace */\n.output_html .nt { color: #008000; font-weight: bold } /* Name.Tag */\n.output_html .nv { color: #19177C } /* Name.Variable */\n.output_html .ow { color: #AA22FF; font-weight: bold } /* Operator.Word */\n.output_html .w { color: #bbbbbb } /* Text.Whitespace */\n.output_html .mb { color: #666666 } /* Literal.Number.Bin */\n.output_html .mf { color: #666666 } /* Literal.Number.Float */\n.output_html .mh { color: #666666 } /* Literal.Number.Hex */\n.output_html .mi { color: #666666 } /* Literal.Number.Integer */\n.output_html .mo { color: #666666 } /* Literal.Number.Oct */\n.output_html .sa { color: #BA2121 } /* Literal.String.Affix */\n.output_html .sb { color: #BA2121 } /* Literal.String.Backtick */\n.output_html .sc { color: #BA2121 } /* Literal.String.Char */\n.output_html .dl { color: #BA2121 } /* Literal.String.Delimiter */\n.output_html .sd { color: #BA2121; font-style: italic } /* Literal.String.Doc */\n.output_html .s2 { color: #BA2121 } /* Literal.String.Double */\n.output_html .se { color: #BB6622; font-weight: bold } /* Literal.String.Escape */\n.output_html .sh { color: #BA2121 } /* Literal.String.Heredoc */\n.output_html .si { color: #BB6688; font-weight: bold } /* Literal.String.Interpol */\n.output_html .sx { color: #008000 } /* Literal.String.Other */\n.output_html .sr { color: #BB6688 } /* Literal.String.Regex */\n.output_html .s1 { color: #BA2121 } /* Literal.String.Single */\n.output_html .ss { color: #19177C } /* Literal.String.Symbol */\n.output_html .bp { color: #008000 } /* Name.Builtin.Pseudo */\n.output_html .fm { color: #0000FF } /* Name.Function.Magic */\n.output_html .vc { color: #19177C } /* Name.Variable.Class */\n.output_html .vg { color: #19177C } /* Name.Variable.Global */\n.output_html .vi { color: #19177C } /* Name.Variable.Instance */\n.output_html .vm { color: #19177C } /* Name.Variable.Magic */\n.output_html .il { color: #666666 } /* Literal.Number.Integer.Long */</style><div class=\"highlight\"><pre><span></span><span class=\"kn\">import</span> <span class=\"nn\">ipywidgets</span> <span class=\"k\">as</span> <span class=\"nn\">widgets</span>\n\n<span class=\"n\">accordion</span> <span class=\"o\">=</span> <span class=\"n\">widgets</span><span class=\"o\">.</span><span class=\"n\">Accordion</span><span class=\"p\">(</span><span class=\"n\">children</span><span class=\"o\">=</span><span class=\"p\">[</span><span class=\"n\">widgets</span><span class=\"o\">.</span><span class=\"n\">Text</span><span class=\"p\">(</span><span class=\"s1\">&#39;This is the answer for Q1&#39;</span><span class=\"p\">),</span>\n                                        <span class=\"n\">widgets</span><span class=\"o\">.</span><span class=\"n\">Text</span><span class=\"p\">(</span><span class=\"s1\">&#39;Answer for Q2&#39;</span><span class=\"p\">)],</span>\n                              <span class=\"n\">selected_index</span><span class=\"o\">=</span><span class=\"kc\">None</span><span class=\"p\">)</span>\n<span class=\"n\">accordion</span><span class=\"o\">.</span><span class=\"n\">set_title</span><span class=\"p\">(</span><span class=\"mi\">0</span><span class=\"p\">,</span> <span class=\"s1\">&#39;test 1&#39;</span><span class=\"p\">)</span>\n<span class=\"n\">display</span><span class=\"p\">(</span><span class=\"n\">accordion</span><span class=\"p\">)</span>\n</pre></div>\n",
          "text/latex": "\\begin{Verbatim}[commandchars=\\\\\\{\\}]\n\\PY{k+kn}{import} \\PY{n+nn}{ipywidgets} \\PY{k}{as} \\PY{n+nn}{widgets}\n\n\\PY{n}{accordion} \\PY{o}{=} \\PY{n}{widgets}\\PY{o}{.}\\PY{n}{Accordion}\\PY{p}{(}\\PY{n}{children}\\PY{o}{=}\\PY{p}{[}\\PY{n}{widgets}\\PY{o}{.}\\PY{n}{Text}\\PY{p}{(}\\PY{l+s+s1}{\\PYZsq{}}\\PY{l+s+s1}{This is the answer for Q1}\\PY{l+s+s1}{\\PYZsq{}}\\PY{p}{)}\\PY{p}{,}\n                                        \\PY{n}{widgets}\\PY{o}{.}\\PY{n}{Text}\\PY{p}{(}\\PY{l+s+s1}{\\PYZsq{}}\\PY{l+s+s1}{Answer for Q2}\\PY{l+s+s1}{\\PYZsq{}}\\PY{p}{)}\\PY{p}{]}\\PY{p}{,}\n                              \\PY{n}{selected\\PYZus{}index}\\PY{o}{=}\\PY{k+kc}{None}\\PY{p}{)}\n\\PY{n}{accordion}\\PY{o}{.}\\PY{n}{set\\PYZus{}title}\\PY{p}{(}\\PY{l+m+mi}{0}\\PY{p}{,} \\PY{l+s+s1}{\\PYZsq{}}\\PY{l+s+s1}{test 1}\\PY{l+s+s1}{\\PYZsq{}}\\PY{p}{)}\n\\PY{n}{display}\\PY{p}{(}\\PY{n}{accordion}\\PY{p}{)}\n\\end{Verbatim}\n",
          "text/plain": "import ipywidgets as widgets\n\naccordion = widgets.Accordion(children=[widgets.Text('This is the answer for Q1'),\n                                        widgets.Text('Answer for Q2')],\n                              selected_index=None)\naccordion.set_title(0, 'test 1')\ndisplay(accordion)\n"
         },
         "metadata": {},
         "output_type": "display_data"
        }
       ]
      }
     },
     "e7880ecc48674ce992f37e805a53d185": {
      "model_module": "@jupyter-widgets/base",
      "model_module_version": "1.2.0",
      "model_name": "LayoutModel",
      "state": {}
     },
     "e80b3814676545278184822ed651e2c1": {
      "model_module": "@jupyter-widgets/output",
      "model_module_version": "1.0.0",
      "model_name": "OutputModel",
      "state": {
       "layout": "IPY_MODEL_e9e17e1ae378401f8f6d17f850c0b609"
      }
     },
     "e8f68355135c456fa8a14291d68a5490": {
      "model_module": "@jupyter-widgets/controls",
      "model_module_version": "1.5.0",
      "model_name": "ButtonStyleModel",
      "state": {}
     },
     "e9e17e1ae378401f8f6d17f850c0b609": {
      "model_module": "@jupyter-widgets/base",
      "model_module_version": "1.2.0",
      "model_name": "LayoutModel",
      "state": {
       "border": "1px solid green"
      }
     },
     "ea1ddcf006ed4b14a2e3c6d947d83ca2": {
      "model_module": "@jupyter-widgets/output",
      "model_module_version": "1.0.0",
      "model_name": "OutputModel",
      "state": {
       "layout": "IPY_MODEL_125adc3e215c4c5581f7fe8a4ca6e68b"
      }
     },
     "eaac874601164d69953f9e8083f38929": {
      "model_module": "@jupyter-widgets/output",
      "model_module_version": "1.0.0",
      "model_name": "OutputModel",
      "state": {
       "layout": "IPY_MODEL_7ad8507b5ce84b07b7e495528c334395"
      }
     },
     "ead81999a99640bab86f89cc27dc2d3b": {
      "model_module": "@jupyter-widgets/base",
      "model_module_version": "1.2.0",
      "model_name": "LayoutModel",
      "state": {}
     },
     "eb5cbbb0684e440792cd5dc5c106bdf3": {
      "model_module": "@jupyter-widgets/controls",
      "model_module_version": "1.5.0",
      "model_name": "ButtonStyleModel",
      "state": {}
     },
     "ec521a6518c34a14b16c95eda6307dfc": {
      "model_module": "@jupyter-widgets/base",
      "model_module_version": "1.2.0",
      "model_name": "LayoutModel",
      "state": {
       "border": "1px solid green"
      }
     },
     "ec5f0f0995f84eaa90cb667a6709044a": {
      "model_module": "@jupyter-widgets/controls",
      "model_module_version": "1.5.0",
      "model_name": "ButtonStyleModel",
      "state": {}
     },
     "ec80c33e615348fca416f5df0f61557f": {
      "model_module": "@jupyter-widgets/output",
      "model_module_version": "1.0.0",
      "model_name": "OutputModel",
      "state": {
       "layout": "IPY_MODEL_5062c90927ea4a82b8f0edbbb015dec8"
      }
     },
     "ecf22773f2ec45c4bdc75b424ce1c929": {
      "model_module": "@jupyter-widgets/base",
      "model_module_version": "1.2.0",
      "model_name": "LayoutModel",
      "state": {}
     },
     "ed0ddef7219f49acaccdbc5f3454c07e": {
      "model_module": "@jupyter-widgets/base",
      "model_module_version": "1.2.0",
      "model_name": "LayoutModel",
      "state": {}
     },
     "ede7b71af55646cba3879ba56f79f784": {
      "model_module": "@jupyter-widgets/base",
      "model_module_version": "1.2.0",
      "model_name": "LayoutModel",
      "state": {
       "border": "1px solid green"
      }
     },
     "ee34f267e06c4a7e87ced6c6c9789571": {
      "model_module": "@jupyter-widgets/base",
      "model_module_version": "1.2.0",
      "model_name": "LayoutModel",
      "state": {
       "border": "1px solid green"
      }
     },
     "ee50082d72a4441eb0444294ba726396": {
      "model_module": "@jupyter-widgets/base",
      "model_module_version": "1.2.0",
      "model_name": "LayoutModel",
      "state": {
       "border": "1px solid green"
      }
     },
     "ee8fc821610b433c9bdf7570be355118": {
      "model_module": "@jupyter-widgets/controls",
      "model_module_version": "1.5.0",
      "model_name": "ButtonModel",
      "state": {
       "description": "Reveal answer",
       "layout": "IPY_MODEL_e7880ecc48674ce992f37e805a53d185",
       "style": "IPY_MODEL_948fd956bbe740898c1650275a0f0b5d"
      }
     },
     "eef3a5d1f1554e1ba4fe33e31444a13f": {
      "model_module": "@jupyter-widgets/controls",
      "model_module_version": "1.5.0",
      "model_name": "ButtonModel",
      "state": {
       "description": "Reveal solution",
       "layout": "IPY_MODEL_3e250bbb498646f9aa9fea8dea1f670f",
       "style": "IPY_MODEL_d8fd62098a1243e9a8e875f6aeb54554"
      }
     },
     "eeffc9b50b7f429ebd3165cfb62ed796": {
      "model_module": "@jupyter-widgets/controls",
      "model_module_version": "1.5.0",
      "model_name": "ButtonStyleModel",
      "state": {}
     },
     "ef1ca600a0ea48f384ffd56dffda8e66": {
      "model_module": "@jupyter-widgets/output",
      "model_module_version": "1.0.0",
      "model_name": "OutputModel",
      "state": {
       "layout": "IPY_MODEL_472cc82853b246dfa30b01c9d1ecd6e8"
      }
     },
     "f082dc2329394abc9d1badbafa5fccc1": {
      "model_module": "@jupyter-widgets/output",
      "model_module_version": "1.0.0",
      "model_name": "OutputModel",
      "state": {
       "layout": "IPY_MODEL_ede7b71af55646cba3879ba56f79f784"
      }
     },
     "f147a86d5a644b568b049dd391e02ea9": {
      "model_module": "@jupyter-widgets/output",
      "model_module_version": "1.0.0",
      "model_name": "OutputModel",
      "state": {
       "layout": "IPY_MODEL_51715fc3becb4721a8479bcce544e4de",
       "outputs": [
        {
         "data": {
          "application/vnd.jupyter.widget-view+json": {
           "model_id": "fff3ecddc1c3472d8f735b389bae27f9",
           "version_major": 2,
           "version_minor": 0
          },
          "text/plain": "Button(description='Reveal answer', style=ButtonStyle())"
         },
         "metadata": {},
         "output_type": "display_data"
        }
       ]
      }
     },
     "f20f8bbda0394f1c99f90397fe82ea92": {
      "model_module": "@jupyter-widgets/controls",
      "model_module_version": "1.5.0",
      "model_name": "ButtonModel",
      "state": {
       "description": "Reveal solution",
       "layout": "IPY_MODEL_f893c94f09d84f7483e0b172a339c43c",
       "style": "IPY_MODEL_67f4427eb53e49af894310f58c99297d"
      }
     },
     "f2939eaf62c84459b4ee999c6f0f48c9": {
      "model_module": "@jupyter-widgets/base",
      "model_module_version": "1.2.0",
      "model_name": "LayoutModel",
      "state": {
       "border": "1px solid green"
      }
     },
     "f33385f8e44a496ebf59a0a8f3ef2131": {
      "model_module": "@jupyter-widgets/output",
      "model_module_version": "1.0.0",
      "model_name": "OutputModel",
      "state": {
       "layout": "IPY_MODEL_99956b5c009d48d2ba6120abdd8b2606"
      }
     },
     "f46892c6f3394654b14eac9c6a850e3c": {
      "model_module": "@jupyter-widgets/controls",
      "model_module_version": "1.5.0",
      "model_name": "ButtonModel",
      "state": {
       "description": "Reveal answer",
       "layout": "IPY_MODEL_ae3257d4317d425d8f03e094ce63cbf1",
       "style": "IPY_MODEL_91e276c8cd0d45b18daec7478cbbaf87"
      }
     },
     "f520a77d1c1d4f8bb3bcd81397ee4404": {
      "model_module": "@jupyter-widgets/controls",
      "model_module_version": "1.5.0",
      "model_name": "ButtonStyleModel",
      "state": {}
     },
     "f596b2746df44d388a1f50600358ea81": {
      "model_module": "@jupyter-widgets/controls",
      "model_module_version": "1.5.0",
      "model_name": "ButtonModel",
      "state": {
       "description": "Reveal solution",
       "layout": "IPY_MODEL_8cd22e170aba4adfa1c4c4f152c3e7e8",
       "style": "IPY_MODEL_187a25f569d0449fa2bf770432017043"
      }
     },
     "f5f7774e224f4e188fa2948fb081ae8a": {
      "model_module": "@jupyter-widgets/base",
      "model_module_version": "1.2.0",
      "model_name": "LayoutModel",
      "state": {
       "border": "1px solid green"
      }
     },
     "f6111db2b8744778b209cf1d775a0a30": {
      "model_module": "@jupyter-widgets/base",
      "model_module_version": "1.2.0",
      "model_name": "LayoutModel",
      "state": {}
     },
     "f64cb49638604b4aa79329e92b4e480a": {
      "model_module": "@jupyter-widgets/output",
      "model_module_version": "1.0.0",
      "model_name": "OutputModel",
      "state": {
       "layout": "IPY_MODEL_e1cdbbb3f0d44602863bc0b2a08783df"
      }
     },
     "f82226f480334fcf937a7d5355d53c83": {
      "model_module": "@jupyter-widgets/controls",
      "model_module_version": "1.5.0",
      "model_name": "ButtonStyleModel",
      "state": {}
     },
     "f893c94f09d84f7483e0b172a339c43c": {
      "model_module": "@jupyter-widgets/base",
      "model_module_version": "1.2.0",
      "model_name": "LayoutModel",
      "state": {}
     },
     "f9723da8bf4946d499f9dee21605ad88": {
      "model_module": "@jupyter-widgets/base",
      "model_module_version": "1.2.0",
      "model_name": "LayoutModel",
      "state": {}
     },
     "fb44220a4ad347b4969a8da02f7485f0": {
      "model_module": "@jupyter-widgets/controls",
      "model_module_version": "1.5.0",
      "model_name": "ButtonStyleModel",
      "state": {}
     },
     "fb70148f86fc4e379830686cdf2d560f": {
      "model_module": "@jupyter-widgets/base",
      "model_module_version": "1.2.0",
      "model_name": "LayoutModel",
      "state": {}
     },
     "fbbec5b66c954ce691a96fa0561b44e1": {
      "model_module": "@jupyter-widgets/controls",
      "model_module_version": "1.5.0",
      "model_name": "ButtonModel",
      "state": {
       "description": "Hide solution",
       "layout": "IPY_MODEL_168e5fc6359345028b504ca5e0881e6b",
       "style": "IPY_MODEL_eeffc9b50b7f429ebd3165cfb62ed796"
      }
     },
     "fc0302f526524bbe9232f938666032a0": {
      "model_module": "@jupyter-widgets/output",
      "model_module_version": "1.0.0",
      "model_name": "OutputModel",
      "state": {
       "layout": "IPY_MODEL_728d889fd83f403680fbf7d508847133"
      }
     },
     "fc4a5602a4b848c5824b9ac448bfa8d8": {
      "model_module": "@jupyter-widgets/controls",
      "model_module_version": "1.5.0",
      "model_name": "ButtonStyleModel",
      "state": {}
     },
     "fd89a271e4b0446dbbc0d7877b1202f9": {
      "model_module": "@jupyter-widgets/base",
      "model_module_version": "1.2.0",
      "model_name": "LayoutModel",
      "state": {
       "border": "1px solid green"
      }
     },
     "fec0d5b2303f433d8b4b79a727a39b46": {
      "model_module": "@jupyter-widgets/base",
      "model_module_version": "1.2.0",
      "model_name": "LayoutModel",
      "state": {
       "border": "1px solid green"
      }
     },
     "ff97e4471b2249e79122773fbafe067b": {
      "model_module": "@jupyter-widgets/base",
      "model_module_version": "1.2.0",
      "model_name": "LayoutModel",
      "state": {
       "border": "1px solid green"
      }
     },
     "fff3ecddc1c3472d8f735b389bae27f9": {
      "model_module": "@jupyter-widgets/controls",
      "model_module_version": "1.5.0",
      "model_name": "ButtonModel",
      "state": {
       "description": "Reveal answer",
       "layout": "IPY_MODEL_3c1ed246990a420199036075fc6275c9",
       "style": "IPY_MODEL_0dcc76235cdf464b8c9ab3de027738c1"
      }
     }
    },
    "version_major": 2,
    "version_minor": 0
   }
  }
 },
 "nbformat": 4,
 "nbformat_minor": 4
}
